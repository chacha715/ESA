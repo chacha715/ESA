{
  "nbformat": 4,
  "nbformat_minor": 0,
  "metadata": {
    "colab": {
      "provenance": [],
      "collapsed_sections": [],
      "include_colab_link": true
    },
    "kernelspec": {
      "name": "python3",
      "display_name": "Python 3"
    },
    "language_info": {
      "name": "python"
    }
  },
  "cells": [
    {
      "cell_type": "markdown",
      "metadata": {
        "id": "view-in-github",
        "colab_type": "text"
      },
      "source": [
        "<a href=\"https://colab.research.google.com/github/chacha715/ESA/blob/main/%ED%8C%8C%EC%9D%B4%EC%8D%AC_%EA%B8%B0%EC%B4%88(%EC%B6%9C%EC%B2%98_%EC%A0%90%ED%94%84_%ED%88%AC_%ED%8C%8C%EC%9D%B4%EC%8D%AC).ipynb\" target=\"_parent\"><img src=\"https://colab.research.google.com/assets/colab-badge.svg\" alt=\"Open In Colab\"/></a>"
      ]
    },
    {
      "cell_type": "markdown",
      "source": [
        "# **자료형**"
      ],
      "metadata": {
        "id": "fd1zwnm-j7B1"
      }
    },
    {
      "cell_type": "markdown",
      "source": [
        "##Q1. 다음 수의 평균을 구하세요.\n",
        "\n",
        "80, 75, 55, 95"
      ],
      "metadata": {
        "id": "jUpWjtvlj9JV"
      }
    },
    {
      "cell_type": "code",
      "source": [
        "a = (80+75+55+95)/4\n",
        "print(\"평균 = \", a)"
      ],
      "metadata": {
        "id": "YcP79wQgj3bh",
        "colab": {
          "base_uri": "https://localhost:8080/"
        },
        "outputId": "31413f03-5dca-4535-b51b-1d5b56e4f4c8"
      },
      "execution_count": 2,
      "outputs": [
        {
          "output_type": "stream",
          "name": "stdout",
          "text": [
            "평균 =  76.25\n"
          ]
        }
      ]
    },
    {
      "cell_type": "markdown",
      "source": [
        "##Q2. 주민등록번호를 연월일(YYYYMMDD) 부분과 그 뒤의 숫자 부분으로 나누어 출력하세요.\n",
        "홍길동 씨의 주민등록번호는 881120-1068234이다."
      ],
      "metadata": {
        "id": "pHK3T87Zkcte"
      }
    },
    {
      "cell_type": "code",
      "source": [
        "# 답을 작성해주세요\n",
        "id_Hong = \"881120-1068234\"\n",
        "a = id_Hong.split(\"-\")\n",
        "print(a)"
      ],
      "metadata": {
        "id": "yZEM63Xok9xi",
        "colab": {
          "base_uri": "https://localhost:8080/"
        },
        "outputId": "918d439b-d29b-4b03-a7e8-009e45fda667"
      },
      "execution_count": 8,
      "outputs": [
        {
          "output_type": "stream",
          "name": "stdout",
          "text": [
            "['881120', '1068234']\n"
          ]
        }
      ]
    },
    {
      "cell_type": "markdown",
      "source": [
        "##Q4. 주민등록번호에서 성별을 나타내는 숫자를 출력하세요.\n",
        "주민등록번호 뒷자리의 첫 번째 숫자는 성별을 나타낸다. "
      ],
      "metadata": {
        "id": "WojXUmuslVIS"
      }
    },
    {
      "cell_type": "code",
      "source": [
        "# 답을 작성해주세요\n",
        "id_pin = \"881120-2153468\"\n",
        "print(id_pin[7])"
      ],
      "metadata": {
        "id": "ZAhDqYOglqZ-",
        "colab": {
          "base_uri": "https://localhost:8080/"
        },
        "outputId": "4f9581fd-8408-478a-9aa0-0ba233e851f1"
      },
      "execution_count": 10,
      "outputs": [
        {
          "output_type": "stream",
          "name": "stdout",
          "text": [
            "2\n"
          ]
        }
      ]
    },
    {
      "cell_type": "markdown",
      "source": [
        "##Q5. [1, 3, 5, 4, 2] 리스트를 [5, 4, 3, 2, 1]로 정렬하세요"
      ],
      "metadata": {
        "id": "lbWsPuOEl-y5"
      }
    },
    {
      "cell_type": "code",
      "source": [
        "# 답을 작성해주세요\n",
        "rand_list = [1, 3, 5, 4, 2]\n",
        "rand_list.sort(reverse=True)\n",
        "print(rand_list)"
      ],
      "metadata": {
        "id": "dI2gioTKmnVC",
        "colab": {
          "base_uri": "https://localhost:8080/"
        },
        "outputId": "8b305344-cfdb-4d7a-d8bc-8826c8691425"
      },
      "execution_count": 18,
      "outputs": [
        {
          "output_type": "stream",
          "name": "stdout",
          "text": [
            "[5, 4, 3, 2, 1]\n"
          ]
        }
      ]
    },
    {
      "cell_type": "markdown",
      "source": [
        "##Q7. 다음 리스트를 Life is too short 문자열로 만들어 출력하세요"
      ],
      "metadata": {
        "id": "us3I2cpem2bz"
      }
    },
    {
      "cell_type": "code",
      "source": [
        "# 답을 작성해주세요\n",
        "string_list = ['Life', 'is', 'too', 'short'] \n",
        "a = string_list[0] + \" \" + string_list[1] + \" \" + string_list[2] + \" \" + string_list[3]\n",
        "print(a)"
      ],
      "metadata": {
        "id": "G38tHstZnF5s",
        "colab": {
          "base_uri": "https://localhost:8080/"
        },
        "outputId": "d327db2c-bfca-45de-8c84-1907d6014798"
      },
      "execution_count": 23,
      "outputs": [
        {
          "output_type": "stream",
          "name": "stdout",
          "text": [
            "Life is too short\n"
          ]
        }
      ]
    },
    {
      "cell_type": "markdown",
      "source": [
        "# **제어문**"
      ],
      "metadata": {
        "id": "e4Bbr6rmdnph"
      }
    },
    {
      "cell_type": "markdown",
      "source": [
        "## Q1. 다음 코드의 결과는?\n",
        "```python\n",
        "a = \"Life is too short, you need python\"\n",
        "\n",
        "if \"wife\" in a: print(\"wife\")\n",
        "elif \"python\" in a and \"you\" not in a: print(\"python\")\n",
        "elif \"shirt\" not in a: print(\"shirt\")\n",
        "elif \"need\" in a: print(\"need\")\n",
        "else: print(\"none\")\n",
        "```"
      ],
      "metadata": {
        "id": "sfAPtg9kd1kA"
      }
    },
    {
      "cell_type": "code",
      "execution_count": null,
      "metadata": {
        "id": "coCD7rBhdgA4"
      },
      "outputs": [],
      "source": [
        "# 답을 작성해주세요\n",
        "shirt"
      ]
    },
    {
      "cell_type": "markdown",
      "source": [
        "##Q2. while문을 사용해 1부터 1000까지의 자연수 중 3의 배수의 합을 구하세요"
      ],
      "metadata": {
        "id": "E_lrf3dxeTM9"
      }
    },
    {
      "cell_type": "code",
      "source": [
        "# 답을 작성해주세요\n",
        "i = 1\n",
        "sum = 0\n",
        "while (i <= 1000):\n",
        "  i += 1\n",
        "  if i % 3 == 0:\n",
        "    sum += i\n",
        "print(sum)"
      ],
      "metadata": {
        "id": "FnUBJZTCedgs",
        "colab": {
          "base_uri": "https://localhost:8080/"
        },
        "outputId": "87c07464-acff-4d32-d5e1-10ddd731042e"
      },
      "execution_count": 26,
      "outputs": [
        {
          "output_type": "stream",
          "name": "stdout",
          "text": [
            "166833\n"
          ]
        }
      ]
    },
    {
      "cell_type": "markdown",
      "source": [
        "## Q3. while문을 사용하여 다음과 같이 별(*)을 표시하는 프로그램을 작성하세요"
      ],
      "metadata": {
        "id": "h4XcuXk7ei0B"
      }
    },
    {
      "cell_type": "markdown",
      "source": [
        "![image.png](data:image/png;base64,iVBORw0KGgoAAAANSUhEUgAAAEMAAABbCAYAAAAoTziFAAABTklEQVR4nO3YsQ3DIBgFYZxNzP4zeRVcIV3hwkQYftB9bRrnRFD8jlJKSUoppfSb/QCRGAOMAcYAY0BzjJzzF88RgicDjrf/M55OxHVd3R9optcxqpzzdhGqpp9JDbHrvdF8MnbmBQrGAGOAMcAYYAwwBhgDjAHGAGNA13Fn9Rc4TwZ0GXd2GX66jjurDz/dxp0dhh/HHfACBWOAMcAYYAwwBhgDjAHGAGOAMWDYuLPCC5wnAz4fd5Yafkqj8zy7fxZFU4z6hZ6+2L+fReK4A16gYAwwBhgDjAHGAGOAMcAYYAwwBhgDQixdUVYwTwZMXbrCrWCtA8gXS1eU0Wf60hVpBXPpAi9QMAYYA4wBxgBjgDHAGGAMMAYYA8KPOyOHH08GhB13pgw/re/8o8edkTtH6HFn9PDjuANeoGAMMAYYA4wBxgBjgDHAGGAMuAEai18A1dsRSAAAAABJRU5ErkJggg==)"
      ],
      "metadata": {
        "id": "9vyyoqacDqys"
      }
    },
    {
      "cell_type": "code",
      "source": [
        "# 답을 작성해주세요\n",
        "i = 1\n",
        "while (i < 6):\n",
        "  print(\"*\" * i)\n",
        "  i += 1"
      ],
      "metadata": {
        "id": "3Zu5X5vnfM1k",
        "colab": {
          "base_uri": "https://localhost:8080/"
        },
        "outputId": "e9fbe147-f206-4151-aa18-2503648a4997"
      },
      "execution_count": 28,
      "outputs": [
        {
          "output_type": "stream",
          "name": "stdout",
          "text": [
            "*\n",
            "**\n",
            "***\n",
            "****\n",
            "*****\n"
          ]
        }
      ]
    },
    {
      "cell_type": "markdown",
      "source": [
        "## Q4. for문을 사용해 1부터 100까지의 숫자를 출력하세요"
      ],
      "metadata": {
        "id": "uNTYJ3iQfO6c"
      }
    },
    {
      "cell_type": "code",
      "source": [
        "# 답을 작성해주세요\n",
        "for i in range(1,101):\n",
        "  print(i, end=\" \")"
      ],
      "metadata": {
        "id": "haJmxZDAfWJ4",
        "colab": {
          "base_uri": "https://localhost:8080/"
        },
        "outputId": "c6b4dc16-69d5-4e0b-f975-cc2a28f96912"
      },
      "execution_count": 46,
      "outputs": [
        {
          "output_type": "stream",
          "name": "stdout",
          "text": [
            "1 2 3 4 5 6 7 8 9 10 11 12 13 14 15 16 17 18 19 20 21 22 23 24 25 26 27 28 29 30 31 32 33 34 35 36 37 38 39 40 41 42 43 44 45 46 47 48 49 50 51 52 53 54 55 56 57 58 59 60 61 62 63 64 65 66 67 68 69 70 71 72 73 74 75 76 77 78 79 80 81 82 83 84 85 86 87 88 89 90 91 92 93 94 95 96 97 98 99 100 "
          ]
        }
      ]
    },
    {
      "cell_type": "markdown",
      "source": [
        "##Q5. for문을 사용하여 평균을 구하세요.\n",
        "\n",
        "A 학급에 총 10명의 학생이 있다. 이 학생들의 중간고사 점수는 다음과 같다.\n",
        "\n",
        "[70, 60, 55, 75, 95, 90, 80, 80, 85, 100]"
      ],
      "metadata": {
        "id": "_qOXRe6CfYQP"
      }
    },
    {
      "cell_type": "code",
      "source": [
        "# 답을 작성해주세요\n",
        "score = [70, 60, 55, 75, 95, 90, 80, 80, 85, 100]\n",
        "sum = 0\n",
        "for s in score:\n",
        "  sum += s\n",
        "print(\"평균 = \", sum / 10) #len으로도"
      ],
      "metadata": {
        "id": "aSsOy9dNfXpJ",
        "colab": {
          "base_uri": "https://localhost:8080/"
        },
        "outputId": "870549df-00ee-428f-d633-340049dbf06e"
      },
      "execution_count": 39,
      "outputs": [
        {
          "output_type": "stream",
          "name": "stdout",
          "text": [
            "평균 =  79.0\n"
          ]
        }
      ]
    },
    {
      "cell_type": "markdown",
      "source": [
        "##Q6. number list에서 홀수에만 2를 곱해 결과를 result에 저장한 후 출력하세요"
      ],
      "metadata": {
        "id": "65dpTuUffy73"
      }
    },
    {
      "cell_type": "code",
      "source": [
        "numbers = [1, 2, 3, 4, 5]\n",
        "result = []\n",
        "\n",
        "for i in numbers:\n",
        "  if i % 2 == 1:\n",
        "    result.append(i * 2)\n",
        "\n",
        "print(result)"
      ],
      "metadata": {
        "id": "vxEAtDQ2fyem",
        "colab": {
          "base_uri": "https://localhost:8080/"
        },
        "outputId": "f8fc942a-f702-417f-f15d-06b4d7136ed3"
      },
      "execution_count": 42,
      "outputs": [
        {
          "output_type": "stream",
          "name": "stdout",
          "text": [
            "[2, 6, 10]\n"
          ]
        }
      ]
    },
    {
      "cell_type": "markdown",
      "source": [
        "# **함수와 입출력**"
      ],
      "metadata": {
        "id": "2cqJNh90gaLm"
      }
    },
    {
      "cell_type": "markdown",
      "source": [
        "##Q1. 주어진 자연수가 홀수인지 짝수인지 판별하는 함수를 작성하세요"
      ],
      "metadata": {
        "id": "SqFHUlJjgn6v"
      }
    },
    {
      "cell_type": "code",
      "source": [
        "# 답을 작성해주세요\n",
        "def is_odd(a):\n",
        "  if a % 2 == 0:\n",
        "    print(\"짝수입니다.\")\n",
        "  else:\n",
        "    print(\"홀수입니다.\")\n",
        "\n",
        "is_odd(1)"
      ],
      "metadata": {
        "id": "rWJTjYVWgZ5Z",
        "colab": {
          "base_uri": "https://localhost:8080/"
        },
        "outputId": "21b8d93a-1707-4b28-a32a-9d3ccc68cf32"
      },
      "execution_count": 50,
      "outputs": [
        {
          "output_type": "stream",
          "name": "stdout",
          "text": [
            "홀수입니다.\n"
          ]
        }
      ]
    },
    {
      "cell_type": "markdown",
      "source": [
        "##Q2. 입력으로 들어오는 모든 수의 평균을 계산해주는 함수를 작성하고 실행하세요\n",
        "(입력으로 들어오는 수의 개수는 랜덤입니다.)"
      ],
      "metadata": {
        "id": "8e3ezwkygx6a"
      }
    },
    {
      "cell_type": "code",
      "source": [
        "# 답을 작성해주세요\n",
        "def average_rand(*n):\n",
        "  sum = 0\n",
        "  for i in n:\n",
        "    sum += i\n",
        "  return sum / len(n)\n",
        "\n",
        "average_rand(5, 7)"
      ],
      "metadata": {
        "id": "tEQJxYVBhDSz",
        "colab": {
          "base_uri": "https://localhost:8080/"
        },
        "outputId": "025f87cc-79ab-4108-be38-8258a68b8498"
      },
      "execution_count": 63,
      "outputs": [
        {
          "output_type": "execute_result",
          "data": {
            "text/plain": [
              "6.0"
            ]
          },
          "metadata": {},
          "execution_count": 63
        }
      ]
    },
    {
      "cell_type": "markdown",
      "source": [
        "##Q3. 다음 프로그램의 오류를 수정하고 실행하세요"
      ],
      "metadata": {
        "id": "3xumzArZhC65"
      }
    },
    {
      "cell_type": "code",
      "source": [
        "input1 = input(\"첫번째 숫자를 입력하세요:\")\n",
        "input2 = input(\"두번째 숫자를 입력하세요:\")\n",
        "\n",
        "total = int(input1) + int(input2)\n",
        "print(\"두 수의 합은 %s 입니다\" % total)"
      ],
      "metadata": {
        "colab": {
          "base_uri": "https://localhost:8080/"
        },
        "id": "RTPfNyQJhWfb",
        "outputId": "3b584e18-6d51-487b-936b-210105b6daf5"
      },
      "execution_count": 54,
      "outputs": [
        {
          "output_type": "stream",
          "name": "stdout",
          "text": [
            "첫번째 숫자를 입력하세요:3\n",
            "두번째 숫자를 입력하세요:6\n",
            "두 수의 합은 9 입니다\n"
          ]
        }
      ]
    },
    {
      "cell_type": "code",
      "source": [
        "# 수정한 코드를 작성하고 실행하세요\n",
        "input1 = input(\"첫번째 숫자를 입력하세요:\")\n",
        "input2 = input(\"두번째 숫자를 입력하세요:\")\n",
        "\n",
        "total = int(input1) + int(input2)\n",
        "print(\"두 수의 합은 %s 입니다\" % total)"
      ],
      "metadata": {
        "id": "SiaUWWLGhgd9",
        "colab": {
          "base_uri": "https://localhost:8080/"
        },
        "outputId": "13c7732f-7a8a-4308-adc6-151c7ec15944"
      },
      "execution_count": 55,
      "outputs": [
        {
          "output_type": "stream",
          "name": "stdout",
          "text": [
            "첫번째 숫자를 입력하세요:3\n",
            "두번째 숫자를 입력하세요:6\n",
            "두 수의 합은 9 입니다\n"
          ]
        }
      ]
    },
    {
      "cell_type": "markdown",
      "source": [
        "##Q4. 다음 중 출력 결과가 다른 것 하나를 고르세요\n",
        "\n",
        "1. print(\"you\" \"need\" \"python\")\n",
        "2. print(\"you\"+\"need\"+\"python\")\n",
        "3. print(\"you\", \"need\", \"python\")\n",
        "4. print(\"\".join([\"you\", \"need\", \"python\"]))"
      ],
      "metadata": {
        "id": "5jMWaYmLhf7S"
      }
    },
    {
      "cell_type": "code",
      "source": [
        "print(\"you\" \"need\" \"python\")\n",
        "print(\"you\"+\"need\"+\"python\")\n",
        "print(\"you\", \"need\", \"python\")\n",
        "print(\"\".join([\"you\", \"need\", \"python\"]))"
      ],
      "metadata": {
        "colab": {
          "base_uri": "https://localhost:8080/"
        },
        "id": "DRdeYZJRK8Ms",
        "outputId": "d88d623b-1647-42d9-a96d-696bd7749245"
      },
      "execution_count": 56,
      "outputs": [
        {
          "output_type": "stream",
          "name": "stdout",
          "text": [
            "youneedpython\n",
            "youneedpython\n",
            "you need python\n",
            "youneedpython\n"
          ]
        }
      ]
    },
    {
      "cell_type": "code",
      "source": [
        "# 답을 작성해주세요\n",
        "# 3번만 띄어쓰기 있음 (comma가 있어서)"
      ],
      "metadata": {
        "id": "iYs2JHAnh92c"
      },
      "execution_count": null,
      "outputs": []
    }
  ]
}