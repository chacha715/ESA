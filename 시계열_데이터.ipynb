{
  "nbformat": 4,
  "nbformat_minor": 0,
  "metadata": {
    "colab": {
      "provenance": [],
      "collapsed_sections": [],
      "authorship_tag": "ABX9TyPRr1n0NHpCW+/oT1hkr38Y",
      "include_colab_link": true
    },
    "kernelspec": {
      "name": "python3",
      "display_name": "Python 3"
    },
    "language_info": {
      "name": "python"
    }
  },
  "cells": [
    {
      "cell_type": "markdown",
      "metadata": {
        "id": "view-in-github",
        "colab_type": "text"
      },
      "source": [
        "<a href=\"https://colab.research.google.com/github/chacha715/ESAA/blob/main/%EC%8B%9C%EA%B3%84%EC%97%B4_%EB%8D%B0%EC%9D%B4%ED%84%B0.ipynb\" target=\"_parent\"><img src=\"https://colab.research.google.com/assets/colab-badge.svg\" alt=\"Open In Colab\"/></a>"
      ]
    },
    {
      "cell_type": "markdown",
      "source": [
        "# **datetime 오브젝트**\n",
        "\n",
        "*   datetime 라이브러리는 날짜와 시간을 처리하는 등의 다양한 기능을 제공하는 파이썬 라이브러리\n",
        "*   날짜를 처리하는 date 오브젝트, 시간을 처리하는 time 오브젝트, 날짜와 시간을 모두 처리하는 datetime 오브젝트가 포함됨\n",
        "\n"
      ],
      "metadata": {
        "id": "r8rY_dBCPnrw"
      }
    },
    {
      "cell_type": "code",
      "execution_count": 1,
      "metadata": {
        "id": "C2dyt8C4Pe1r"
      },
      "outputs": [],
      "source": [
        "from datetime import datetime"
      ]
    },
    {
      "cell_type": "code",
      "source": [
        "#현재 시간 출력\n",
        "\n",
        "now1=datetime.now()\n",
        "print(now1)\n",
        "\n",
        "\n",
        "now2=datetime.today()\n",
        "print(now2)"
      ],
      "metadata": {
        "colab": {
          "base_uri": "https://localhost:8080/"
        },
        "id": "XIiFQIhGQHkb",
        "outputId": "f0003167-adba-49b8-8311-cf06ce0da706"
      },
      "execution_count": 2,
      "outputs": [
        {
          "output_type": "stream",
          "name": "stdout",
          "text": [
            "2022-10-10 04:56:54.169832\n",
            "2022-10-10 04:56:54.171584\n"
          ]
        }
      ]
    },
    {
      "cell_type": "code",
      "source": [
        "t1=datetime.now()\n",
        "t2=datetime(1970,1,1)\n",
        "t3=datetime(1970,12,12,13,24,34)\n",
        "print(t1);print(t2);print(t3) #now메서드는 밀리초 단위까지"
      ],
      "metadata": {
        "colab": {
          "base_uri": "https://localhost:8080/"
        },
        "id": "y9XOQ5f7QQBq",
        "outputId": "dbe25aaa-4315-47b5-9c18-c039beee9090"
      },
      "execution_count": 3,
      "outputs": [
        {
          "output_type": "stream",
          "name": "stdout",
          "text": [
            "2022-10-10 04:57:57.941653\n",
            "1970-01-01 00:00:00\n",
            "1970-12-12 13:24:34\n"
          ]
        }
      ]
    },
    {
      "cell_type": "code",
      "source": [
        "#datetime 오브젝트로는 시간 계산 가능\n",
        "diff1=t1-t2\n",
        "\n",
        "print(diff1)\n",
        "print(type(diff1))\n",
        "\n",
        "\n",
        "diff2=t2-t1\n",
        "\n",
        "print(diff2)\n",
        "print(type(diff2))"
      ],
      "metadata": {
        "colab": {
          "base_uri": "https://localhost:8080/"
        },
        "id": "DhEK5wPrQffr",
        "outputId": "740dc8cb-1b20-48fb-bfe8-3393e08a04c8"
      },
      "execution_count": 5,
      "outputs": [
        {
          "output_type": "stream",
          "name": "stdout",
          "text": [
            "19275 days, 4:57:57.941653\n",
            "<class 'datetime.timedelta'>\n",
            "-19276 days, 19:02:02.058347\n",
            "<class 'datetime.timedelta'>\n"
          ]
        }
      ]
    },
    {
      "cell_type": "markdown",
      "source": [
        "**테슬라 주식 데이터로 시간 계산하기**"
      ],
      "metadata": {
        "id": "Q5h0ExCEQr8_"
      }
    },
    {
      "cell_type": "code",
      "source": [
        "!pip install pandas-datareader\n",
        "import pandas as pd"
      ],
      "metadata": {
        "colab": {
          "base_uri": "https://localhost:8080/"
        },
        "id": "L_wUUqPvQw9X",
        "outputId": "3cb1b8f7-2573-49a2-86dd-95d6eda3c1c0"
      },
      "execution_count": 8,
      "outputs": [
        {
          "output_type": "stream",
          "name": "stdout",
          "text": [
            "Looking in indexes: https://pypi.org/simple, https://us-python.pkg.dev/colab-wheels/public/simple/\n",
            "Requirement already satisfied: pandas-datareader in /usr/local/lib/python3.7/dist-packages (0.9.0)\n",
            "Requirement already satisfied: requests>=2.19.0 in /usr/local/lib/python3.7/dist-packages (from pandas-datareader) (2.23.0)\n",
            "Requirement already satisfied: lxml in /usr/local/lib/python3.7/dist-packages (from pandas-datareader) (4.9.1)\n",
            "Requirement already satisfied: pandas>=0.23 in /usr/local/lib/python3.7/dist-packages (from pandas-datareader) (1.3.5)\n",
            "Requirement already satisfied: python-dateutil>=2.7.3 in /usr/local/lib/python3.7/dist-packages (from pandas>=0.23->pandas-datareader) (2.8.2)\n",
            "Requirement already satisfied: pytz>=2017.3 in /usr/local/lib/python3.7/dist-packages (from pandas>=0.23->pandas-datareader) (2022.4)\n",
            "Requirement already satisfied: numpy>=1.17.3 in /usr/local/lib/python3.7/dist-packages (from pandas>=0.23->pandas-datareader) (1.21.6)\n",
            "Requirement already satisfied: six>=1.5 in /usr/local/lib/python3.7/dist-packages (from python-dateutil>=2.7.3->pandas>=0.23->pandas-datareader) (1.15.0)\n",
            "Requirement already satisfied: urllib3!=1.25.0,!=1.25.1,<1.26,>=1.21.1 in /usr/local/lib/python3.7/dist-packages (from requests>=2.19.0->pandas-datareader) (1.24.3)\n",
            "Requirement already satisfied: chardet<4,>=3.0.2 in /usr/local/lib/python3.7/dist-packages (from requests>=2.19.0->pandas-datareader) (3.0.4)\n",
            "Requirement already satisfied: certifi>=2017.4.17 in /usr/local/lib/python3.7/dist-packages (from requests>=2.19.0->pandas-datareader) (2022.9.24)\n",
            "Requirement already satisfied: idna<3,>=2.5 in /usr/local/lib/python3.7/dist-packages (from requests>=2.19.0->pandas-datareader) (2.10)\n"
          ]
        }
      ]
    },
    {
      "cell_type": "code",
      "source": [
        "pd.core.common.is_list_like=pd.api.types.is_list_like\n",
        "import pandas_datareader as pdr\n",
        "\n",
        "\n",
        "#tesla에는 데이터 프레임이 저장\n",
        "tesla = pdr.get_data_quandl('TSLA', api_key = 'oEd-gVstL6oQb9o4EEGd')\n",
        "\n",
        "#tesla에 저장된 데이터프레임을 파일로 저장\n",
        "tesla.to_csv('/content/tesla_stock_quandl.csv')"
      ],
      "metadata": {
        "id": "s-zFV7nsQ3Rx"
      },
      "execution_count": 10,
      "outputs": []
    },
    {
      "cell_type": "code",
      "source": [
        "print(tesla.head()) #date 열이 문자열 -> datetime 오브젝트로 자료형을 변환"
      ],
      "metadata": {
        "colab": {
          "base_uri": "https://localhost:8080/"
        },
        "id": "GE4zWRRwSKEt",
        "outputId": "bf82b4f1-fc2d-44c0-89ba-b3614316b7f2"
      },
      "execution_count": 12,
      "outputs": [
        {
          "output_type": "stream",
          "name": "stdout",
          "text": [
            "              Open    High     Low   Close      Volume  ExDividend  \\\n",
            "Date                                                                 \n",
            "2018-03-27  304.00  304.27  277.18  279.18  13696168.0         0.0   \n",
            "2018-03-26  307.34  307.59  291.36  304.18   8324639.0         0.0   \n",
            "2018-03-23  311.25  311.61  300.45  301.54   6600538.0         0.0   \n",
            "2018-03-22  313.89  318.82  308.18  309.10   4914307.0         0.0   \n",
            "2018-03-21  310.25  322.44  310.19  316.53   5927881.0         0.0   \n",
            "\n",
            "            SplitRatio  AdjOpen  AdjHigh  AdjLow  AdjClose   AdjVolume  \n",
            "Date                                                                    \n",
            "2018-03-27         1.0   304.00   304.27  277.18    279.18  13696168.0  \n",
            "2018-03-26         1.0   307.34   307.59  291.36    304.18   8324639.0  \n",
            "2018-03-23         1.0   311.25   311.61  300.45    301.54   6600538.0  \n",
            "2018-03-22         1.0   313.89   318.82  308.18    309.10   4914307.0  \n",
            "2018-03-21         1.0   310.25   322.44  310.19    316.53   5927881.0  \n"
          ]
        }
      ]
    },
    {
      "cell_type": "code",
      "source": [
        "#date 열을 datetime 형으로 변환하려면 read_csv 메서드로 데이터 집합을 불러올 때 parse_dates 인자에 date열을 전달\n",
        "tesla=pd.read_csv('/content/tesla_stock_quandl.csv',parse_dates=[0])\n",
        "print(tesla.info())"
      ],
      "metadata": {
        "colab": {
          "base_uri": "https://localhost:8080/"
        },
        "id": "V9vWnXl1SUFb",
        "outputId": "d627ddc4-e73b-461d-dcc5-8c997a1c1934"
      },
      "execution_count": 14,
      "outputs": [
        {
          "output_type": "stream",
          "name": "stdout",
          "text": [
            "<class 'pandas.core.frame.DataFrame'>\n",
            "RangeIndex: 114 entries, 0 to 113\n",
            "Data columns (total 13 columns):\n",
            " #   Column      Non-Null Count  Dtype         \n",
            "---  ------      --------------  -----         \n",
            " 0   Date        114 non-null    datetime64[ns]\n",
            " 1   Open        114 non-null    float64       \n",
            " 2   High        114 non-null    float64       \n",
            " 3   Low         114 non-null    float64       \n",
            " 4   Close       114 non-null    float64       \n",
            " 5   Volume      114 non-null    float64       \n",
            " 6   ExDividend  114 non-null    float64       \n",
            " 7   SplitRatio  114 non-null    float64       \n",
            " 8   AdjOpen     114 non-null    float64       \n",
            " 9   AdjHigh     114 non-null    float64       \n",
            " 10  AdjLow      114 non-null    float64       \n",
            " 11  AdjClose    114 non-null    float64       \n",
            " 12  AdjVolume   114 non-null    float64       \n",
            "dtypes: datetime64[ns](1), float64(12)\n",
            "memory usage: 11.7 KB\n",
            "None\n"
          ]
        }
      ]
    },
    {
      "cell_type": "code",
      "source": [
        "print(tesla.loc[(tesla.Date.dt.year == 2018) & (tesla.Date.dt.month == 3)])"
      ],
      "metadata": {
        "colab": {
          "base_uri": "https://localhost:8080/"
        },
        "id": "MSFH5UW1SoH8",
        "outputId": "aebafd81-e241-4e5e-a13a-93558da06cdc"
      },
      "execution_count": 18,
      "outputs": [
        {
          "output_type": "stream",
          "name": "stdout",
          "text": [
            "         Date    Open    High       Low   Close      Volume  ExDividend  \\\n",
            "0  2018-03-27  304.00  304.27  277.1800  279.18  13696168.0         0.0   \n",
            "1  2018-03-26  307.34  307.59  291.3600  304.18   8324639.0         0.0   \n",
            "2  2018-03-23  311.25  311.61  300.4500  301.54   6600538.0         0.0   \n",
            "3  2018-03-22  313.89  318.82  308.1800  309.10   4914307.0         0.0   \n",
            "4  2018-03-21  310.25  322.44  310.1900  316.53   5927881.0         0.0   \n",
            "5  2018-03-20  314.87  316.25  308.7600  310.55   4726182.0         0.0   \n",
            "6  2018-03-19  316.50  320.75  309.6700  313.56   7440766.0         0.0   \n",
            "7  2018-03-16  325.96  327.40  319.0700  321.35   6058612.0         0.0   \n",
            "8  2018-03-15  329.38  332.85  321.1000  325.60   6366922.0         0.0   \n",
            "9  2018-03-14  336.76  339.81  323.9300  326.63   7932511.0         0.0   \n",
            "10 2018-03-13  344.92  345.12  336.2635  341.84   5932110.0         0.0   \n",
            "11 2018-03-12  328.61  347.21  326.5000  345.51   8212156.0         0.0   \n",
            "12 2018-03-09  324.10  328.49  322.3700  327.17   5479716.0         0.0   \n",
            "13 2018-03-08  332.86  333.30  326.2740  329.10   3476944.0         0.0   \n",
            "14 2018-03-07  325.44  332.50  321.7400  332.30   5007297.0         0.0   \n",
            "15 2018-03-06  333.75  336.37  327.0300  328.20   4285744.0         0.0   \n",
            "16 2018-03-05  332.39  337.75  329.2929  333.35   3823769.0         0.0   \n",
            "17 2018-03-02  326.98  335.22  322.9700  335.12   5092829.0         0.0   \n",
            "18 2018-03-01  345.01  348.67  330.0700  330.93   6885601.0         0.0   \n",
            "\n",
            "    SplitRatio  AdjOpen  AdjHigh    AdjLow  AdjClose   AdjVolume  \n",
            "0          1.0   304.00   304.27  277.1800    279.18  13696168.0  \n",
            "1          1.0   307.34   307.59  291.3600    304.18   8324639.0  \n",
            "2          1.0   311.25   311.61  300.4500    301.54   6600538.0  \n",
            "3          1.0   313.89   318.82  308.1800    309.10   4914307.0  \n",
            "4          1.0   310.25   322.44  310.1900    316.53   5927881.0  \n",
            "5          1.0   314.87   316.25  308.7600    310.55   4726182.0  \n",
            "6          1.0   316.50   320.75  309.6700    313.56   7440766.0  \n",
            "7          1.0   325.96   327.40  319.0700    321.35   6058612.0  \n",
            "8          1.0   329.38   332.85  321.1000    325.60   6366922.0  \n",
            "9          1.0   336.76   339.81  323.9300    326.63   7932511.0  \n",
            "10         1.0   344.92   345.12  336.2635    341.84   5932110.0  \n",
            "11         1.0   328.61   347.21  326.5000    345.51   8212156.0  \n",
            "12         1.0   324.10   328.49  322.3700    327.17   5479716.0  \n",
            "13         1.0   332.86   333.30  326.2740    329.10   3476944.0  \n",
            "14         1.0   325.44   332.50  321.7400    332.30   5007297.0  \n",
            "15         1.0   333.75   336.37  327.0300    328.20   4285744.0  \n",
            "16         1.0   332.39   337.75  329.2929    333.35   3823769.0  \n",
            "17         1.0   326.98   335.22  322.9700    335.12   5092829.0  \n",
            "18         1.0   345.01   348.67  330.0700    330.93   6885601.0  \n"
          ]
        }
      ]
    },
    {
      "cell_type": "markdown",
      "source": [
        "**datetime 오브젝트와 인덱스 - DatetimeIndex**"
      ],
      "metadata": {
        "id": "gbPJU0HETPJY"
      }
    },
    {
      "cell_type": "code",
      "source": [
        "tesla.index=tesla['Date']\n",
        "print(tesla.index)"
      ],
      "metadata": {
        "colab": {
          "base_uri": "https://localhost:8080/"
        },
        "id": "VY4Tdqx6TVHp",
        "outputId": "1fb1acce-6563-4a48-b37e-532f76643913"
      },
      "execution_count": 19,
      "outputs": [
        {
          "output_type": "stream",
          "name": "stdout",
          "text": [
            "DatetimeIndex(['2018-03-27', '2018-03-26', '2018-03-23', '2018-03-22',\n",
            "               '2018-03-21', '2018-03-20', '2018-03-19', '2018-03-16',\n",
            "               '2018-03-15', '2018-03-14',\n",
            "               ...\n",
            "               '2017-10-24', '2017-10-23', '2017-10-20', '2017-10-19',\n",
            "               '2017-10-18', '2017-10-17', '2017-10-16', '2017-10-13',\n",
            "               '2017-10-12', '2017-10-11'],\n",
            "              dtype='datetime64[ns]', name='Date', length=114, freq=None)\n"
          ]
        }
      ]
    },
    {
      "cell_type": "code",
      "source": [
        "print(tesla['2018'].iloc[:5,:5])"
      ],
      "metadata": {
        "colab": {
          "base_uri": "https://localhost:8080/"
        },
        "id": "BNSmfm9hTcYA",
        "outputId": "aeb1bfbf-c220-4832-db79-ebca87245c01"
      },
      "execution_count": 22,
      "outputs": [
        {
          "output_type": "stream",
          "name": "stdout",
          "text": [
            "                 Date    Open    High     Low   Close\n",
            "Date                                                 \n",
            "2018-03-27 2018-03-27  304.00  304.27  277.18  279.18\n",
            "2018-03-26 2018-03-26  307.34  307.59  291.36  304.18\n",
            "2018-03-23 2018-03-23  311.25  311.61  300.45  301.54\n",
            "2018-03-22 2018-03-22  313.89  318.82  308.18  309.10\n",
            "2018-03-21 2018-03-21  310.25  322.44  310.19  316.53\n"
          ]
        },
        {
          "output_type": "stream",
          "name": "stderr",
          "text": [
            "/usr/local/lib/python3.7/dist-packages/ipykernel_launcher.py:1: FutureWarning: Indexing a DataFrame with a datetimelike index using a single string to slice the rows, like `frame[string]`, is deprecated and will be removed in a future version. Use `frame.loc[string]` instead.\n",
            "  \"\"\"Entry point for launching an IPython kernel.\n"
          ]
        }
      ]
    },
    {
      "cell_type": "code",
      "source": [
        "print(tesla['2018-03'].iloc[:,:5])"
      ],
      "metadata": {
        "colab": {
          "base_uri": "https://localhost:8080/"
        },
        "id": "8PUrKJ5eTpzc",
        "outputId": "9ac5811f-671c-4346-a166-51c250eedfbd"
      },
      "execution_count": 23,
      "outputs": [
        {
          "output_type": "stream",
          "name": "stdout",
          "text": [
            "                 Date    Open    High       Low   Close\n",
            "Date                                                   \n",
            "2018-03-27 2018-03-27  304.00  304.27  277.1800  279.18\n",
            "2018-03-26 2018-03-26  307.34  307.59  291.3600  304.18\n",
            "2018-03-23 2018-03-23  311.25  311.61  300.4500  301.54\n",
            "2018-03-22 2018-03-22  313.89  318.82  308.1800  309.10\n",
            "2018-03-21 2018-03-21  310.25  322.44  310.1900  316.53\n",
            "2018-03-20 2018-03-20  314.87  316.25  308.7600  310.55\n",
            "2018-03-19 2018-03-19  316.50  320.75  309.6700  313.56\n",
            "2018-03-16 2018-03-16  325.96  327.40  319.0700  321.35\n",
            "2018-03-15 2018-03-15  329.38  332.85  321.1000  325.60\n",
            "2018-03-14 2018-03-14  336.76  339.81  323.9300  326.63\n",
            "2018-03-13 2018-03-13  344.92  345.12  336.2635  341.84\n",
            "2018-03-12 2018-03-12  328.61  347.21  326.5000  345.51\n",
            "2018-03-09 2018-03-09  324.10  328.49  322.3700  327.17\n",
            "2018-03-08 2018-03-08  332.86  333.30  326.2740  329.10\n",
            "2018-03-07 2018-03-07  325.44  332.50  321.7400  332.30\n",
            "2018-03-06 2018-03-06  333.75  336.37  327.0300  328.20\n",
            "2018-03-05 2018-03-05  332.39  337.75  329.2929  333.35\n",
            "2018-03-02 2018-03-02  326.98  335.22  322.9700  335.12\n",
            "2018-03-01 2018-03-01  345.01  348.67  330.0700  330.93\n"
          ]
        },
        {
          "output_type": "stream",
          "name": "stderr",
          "text": [
            "/usr/local/lib/python3.7/dist-packages/ipykernel_launcher.py:1: FutureWarning: Indexing a DataFrame with a datetimelike index using a single string to slice the rows, like `frame[string]`, is deprecated and will be removed in a future version. Use `frame.loc[string]` instead.\n",
            "  \"\"\"Entry point for launching an IPython kernel.\n"
          ]
        }
      ]
    },
    {
      "cell_type": "markdown",
      "source": [
        "**시간 간격과 인덱스 - TimedeltaIndex**"
      ],
      "metadata": {
        "id": "bDIT7bReTths"
      }
    },
    {
      "cell_type": "code",
      "source": [
        "#Date 열에서 Date 열의 최솟값 뺀 다음 ref_date 열로 추가\n",
        "tesla['ref_date']=tesla['Date']-tesla['Date'].min()\n",
        "print(tesla.head())"
      ],
      "metadata": {
        "colab": {
          "base_uri": "https://localhost:8080/"
        },
        "id": "H_S0-2NvTxcJ",
        "outputId": "a25ca582-d2ef-42e4-a333-4c13df00a0cb"
      },
      "execution_count": 24,
      "outputs": [
        {
          "output_type": "stream",
          "name": "stdout",
          "text": [
            "                 Date    Open    High     Low   Close      Volume  ExDividend  \\\n",
            "Date                                                                            \n",
            "2018-03-27 2018-03-27  304.00  304.27  277.18  279.18  13696168.0         0.0   \n",
            "2018-03-26 2018-03-26  307.34  307.59  291.36  304.18   8324639.0         0.0   \n",
            "2018-03-23 2018-03-23  311.25  311.61  300.45  301.54   6600538.0         0.0   \n",
            "2018-03-22 2018-03-22  313.89  318.82  308.18  309.10   4914307.0         0.0   \n",
            "2018-03-21 2018-03-21  310.25  322.44  310.19  316.53   5927881.0         0.0   \n",
            "\n",
            "            SplitRatio  AdjOpen  AdjHigh  AdjLow  AdjClose   AdjVolume  \\\n",
            "Date                                                                     \n",
            "2018-03-27         1.0   304.00   304.27  277.18    279.18  13696168.0   \n",
            "2018-03-26         1.0   307.34   307.59  291.36    304.18   8324639.0   \n",
            "2018-03-23         1.0   311.25   311.61  300.45    301.54   6600538.0   \n",
            "2018-03-22         1.0   313.89   318.82  308.18    309.10   4914307.0   \n",
            "2018-03-21         1.0   310.25   322.44  310.19    316.53   5927881.0   \n",
            "\n",
            "           ref_date  \n",
            "Date                 \n",
            "2018-03-27 167 days  \n",
            "2018-03-26 166 days  \n",
            "2018-03-23 163 days  \n",
            "2018-03-22 162 days  \n",
            "2018-03-21 161 days  \n"
          ]
        }
      ]
    },
    {
      "cell_type": "code",
      "source": [
        "tesla.index=tesla['ref_date']\n",
        "print(tesla.iloc[:5,:5])"
      ],
      "metadata": {
        "colab": {
          "base_uri": "https://localhost:8080/"
        },
        "id": "Mp0HDaOHT9mB",
        "outputId": "e5d5b4e8-636e-4984-dde1-4731ba8d11be"
      },
      "execution_count": 25,
      "outputs": [
        {
          "output_type": "stream",
          "name": "stdout",
          "text": [
            "               Date    Open    High     Low   Close\n",
            "ref_date                                           \n",
            "167 days 2018-03-27  304.00  304.27  277.18  279.18\n",
            "166 days 2018-03-26  307.34  307.59  291.36  304.18\n",
            "163 days 2018-03-23  311.25  311.61  300.45  301.54\n",
            "162 days 2018-03-22  313.89  318.82  308.18  309.10\n",
            "161 days 2018-03-21  310.25  322.44  310.19  316.53\n"
          ]
        }
      ]
    },
    {
      "cell_type": "code",
      "source": [
        "print(tesla['5 days':].iloc[:5,:5])"
      ],
      "metadata": {
        "colab": {
          "base_uri": "https://localhost:8080/"
        },
        "id": "HU1zmaDjUAy_",
        "outputId": "45e43dee-4be8-437b-c028-4b4d575eb937"
      },
      "execution_count": 26,
      "outputs": [
        {
          "output_type": "stream",
          "name": "stdout",
          "text": [
            "               Date    Open    High     Low   Close\n",
            "ref_date                                           \n",
            "5 days   2017-10-16  353.76  354.48  347.16  350.60\n",
            "2 days   2017-10-13  356.98  358.49  353.68  355.57\n",
            "1 days   2017-10-12  352.95  359.78  352.64  355.68\n",
            "0 days   2017-10-11  353.89  357.60  351.15  354.60\n"
          ]
        }
      ]
    },
    {
      "cell_type": "markdown",
      "source": [
        "**시간 범위와 인덱스**"
      ],
      "metadata": {
        "id": "rlB5pjBDUEkM"
      }
    },
    {
      "cell_type": "code",
      "source": [
        "from google.colab import drive\n",
        "drive.mount('/content/drive')"
      ],
      "metadata": {
        "colab": {
          "base_uri": "https://localhost:8080/"
        },
        "id": "tyQFhfzUYjop",
        "outputId": "bea104c9-7a9b-46df-ab5e-f8d6f0b4a5f8"
      },
      "execution_count": 40,
      "outputs": [
        {
          "output_type": "stream",
          "name": "stdout",
          "text": [
            "Mounted at /content/drive\n"
          ]
        }
      ]
    },
    {
      "cell_type": "code",
      "source": [
        "#특정 일에 누락된 데이터도 포함시키기 위해 임의로 시간 범위를 생성하여 인덱스로 지정\n",
        "ebola = pd.read_csv('/content/drive/MyDrive/ESAA/22-2/DATA/country_timeseries.csv', parse_dates=[0])\n",
        "print(ebola.iloc[:5,:5])"
      ],
      "metadata": {
        "colab": {
          "base_uri": "https://localhost:8080/"
        },
        "id": "71klq-SBUInu",
        "outputId": "c013f6bb-2ec2-4a82-a1f7-b7289fd95d7b"
      },
      "execution_count": 41,
      "outputs": [
        {
          "output_type": "stream",
          "name": "stdout",
          "text": [
            "        Date  Day  Cases_Guinea  Cases_Liberia  Cases_SierraLeone\n",
            "0 2015-01-05  289        2776.0            NaN            10030.0\n",
            "1 2015-01-04  288        2775.0            NaN             9780.0\n",
            "2 2015-01-03  287        2769.0         8166.0             9722.0\n",
            "3 2015-01-02  286           NaN         8157.0                NaN\n",
            "4 2014-12-31  284        2730.0         8115.0             9633.0\n"
          ]
        }
      ]
    },
    {
      "cell_type": "code",
      "source": [
        "print(ebola.iloc[-5:,:5])"
      ],
      "metadata": {
        "colab": {
          "base_uri": "https://localhost:8080/"
        },
        "id": "67sYU57-YuIc",
        "outputId": "2368b5fd-e444-4d2b-ec95-524634697f4c"
      },
      "execution_count": 42,
      "outputs": [
        {
          "output_type": "stream",
          "name": "stdout",
          "text": [
            "          Date  Day  Cases_Guinea  Cases_Liberia  Cases_SierraLeone\n",
            "117 2014-03-27    5         103.0            8.0                6.0\n",
            "118 2014-03-26    4          86.0            NaN                NaN\n",
            "119 2014-03-25    3          86.0            NaN                NaN\n",
            "120 2014-03-24    2          86.0            NaN                NaN\n",
            "121 2014-03-22    0          49.0            NaN                NaN\n"
          ]
        }
      ]
    },
    {
      "cell_type": "code",
      "source": [
        "#date_range 메서드 사용하여 특정 기간 사이 시간 인덱스 생성\n",
        "head_range=pd.date_range(start='2014-12-31',end='2015-01-05')\n",
        "print(head_range)"
      ],
      "metadata": {
        "colab": {
          "base_uri": "https://localhost:8080/"
        },
        "id": "WVtiD82FYy-Q",
        "outputId": "42045531-9a78-4ae9-a2d0-8febe72b933a"
      },
      "execution_count": 43,
      "outputs": [
        {
          "output_type": "stream",
          "name": "stdout",
          "text": [
            "DatetimeIndex(['2014-12-31', '2015-01-01', '2015-01-02', '2015-01-03',\n",
            "               '2015-01-04', '2015-01-05'],\n",
            "              dtype='datetime64[ns]', freq='D')\n"
          ]
        }
      ]
    },
    {
      "cell_type": "code",
      "source": [
        "#원본 데이터 손상 방지 위해 ebola 데이터프레임 앞쪽 5개 데이터를 추출하여 새로운 데이터프레임 생성\n",
        "#Date열을 인덱스로 먼저 지정\n",
        "ebola_5=ebola.head()\n",
        "ebola_5.index=ebola_5['Date']\n",
        "ebola_5.reindex(head_range)\n",
        "print(ebola_5.iloc[:5,:5])"
      ],
      "metadata": {
        "colab": {
          "base_uri": "https://localhost:8080/"
        },
        "id": "PWnJ7xylY7XU",
        "outputId": "0bcd16ae-f8a0-45b0-929b-7b8104a4faaa"
      },
      "execution_count": 44,
      "outputs": [
        {
          "output_type": "stream",
          "name": "stdout",
          "text": [
            "                 Date  Day  Cases_Guinea  Cases_Liberia  Cases_SierraLeone\n",
            "Date                                                                      \n",
            "2015-01-05 2015-01-05  289        2776.0            NaN            10030.0\n",
            "2015-01-04 2015-01-04  288        2775.0            NaN             9780.0\n",
            "2015-01-03 2015-01-03  287        2769.0         8166.0             9722.0\n",
            "2015-01-02 2015-01-02  286           NaN         8157.0                NaN\n",
            "2014-12-31 2014-12-31  284        2730.0         8115.0             9633.0\n"
          ]
        }
      ]
    },
    {
      "cell_type": "markdown",
      "source": [
        "시간 범위의 주기 설정하기:\n",
        "\n",
        "freq 속성 값으로 사용할 수 있는 시간 주기\n",
        "\n",
        "*   B:평일만 포함\n",
        "*   C:사용자가 정의한 평일만 포함\n",
        "*   D: 달력 일자 단위\n",
        "*   W:주간 단위\n",
        "*   M:월 마지막 날만 포함\n",
        "*   SM:15일과 월 마지막 날만 포함\n",
        "*   BM: M 주기의 값이 휴일이면 제외하고 평일만 포함\n",
        "*   CBM: BM에 사용자 정의 평일을 적용\n",
        "*   MS: 월 시작일만 포함\n",
        "*   SMS:월 시작일과 15일만 포함\n",
        "*   BMS:MS 주기의 값이 휴일이면 제외하고 평일만 포함\n",
        "*   CBMS: BMS에 사용자 정의 평일을 적용\n",
        "*   Q:3,6,9,12월 분기 마지막 날만 포함\n",
        "*   BQ: 3,6,9,12월 분기 마지막 날이 휴일이면 제외하고 평일만 포함\n",
        "*   QS: 3,6,9,12월 분기 시작일만 포함\n",
        "*   BQS: 3,6,9,12월 분기 시작일이 휴일이면 제외하고 평일만 포함\n",
        "*   A:년의 마지막 날만 포함\n",
        "*   BA: 년의 마지막 날이 휴일이면 제외하고 평일만 포함\n",
        "*   AS:년의 시작일만 포함\n",
        "*   BAS:년의 시작일이 휴일이면 제외하고 평일만 포함\n",
        "*   BH: 평일을 시간 단위로 포함(09:00~16:00)\n",
        "*   H:시간 단위로 포함(00:00~00:00)\n",
        "*   T:분 단위 포함\n",
        "*   S: 초 단위 포함\n",
        "*   L: 밀리초 단위 포함\n",
        "*   U: 마이크로초 단위포함\n",
        "*   N: 나노초 단위 포함"
      ],
      "metadata": {
        "id": "rtnmpZ-LZJ1d"
      }
    }
  ]
}