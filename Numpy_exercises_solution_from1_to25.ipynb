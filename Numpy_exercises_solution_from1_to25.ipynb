{
  "nbformat": 4,
  "nbformat_minor": 5,
  "metadata": {
    "kernelspec": {
      "display_name": "Python 3",
      "language": "python",
      "name": "python3"
    },
    "language_info": {
      "codemirror_mode": {
        "name": "ipython",
        "version": 3
      },
      "file_extension": ".py",
      "mimetype": "text/x-python",
      "name": "python",
      "nbconvert_exporter": "python",
      "pygments_lexer": "ipython3",
      "version": "3.8.5"
    },
    "colab": {
      "provenance": [],
      "collapsed_sections": [],
      "include_colab_link": true
    }
  },
  "cells": [
    {
      "cell_type": "markdown",
      "metadata": {
        "id": "view-in-github",
        "colab_type": "text"
      },
      "source": [
        "<a href=\"https://colab.research.google.com/github/chacha715/ESAA/blob/main/Numpy_exercises_solution_from1_to25.ipynb\" target=\"_parent\"><img src=\"https://colab.research.google.com/assets/colab-badge.svg\" alt=\"Open In Colab\"/></a>"
      ]
    },
    {
      "cell_type": "markdown",
      "metadata": {
        "id": "IiLNHU3xZeCm"
      },
      "source": [
        "# 100 numpy exercises\n",
        "\n",
        "This is a collection of exercises that have been collected in the numpy mailing list, on stack overflow\n",
        "and in the numpy documentation. The goal of this collection is to offer a quick reference for both old\n",
        "and new users but also to provide a set of exercises for those who teach.\n",
        "\n",
        "\n",
        "If you find an error or think you've a better way to solve some of them, feel\n",
        "free to open an issue at <https://github.com/rougier/numpy-100>."
      ],
      "id": "IiLNHU3xZeCm"
    },
    {
      "cell_type": "markdown",
      "metadata": {
        "id": "tcsqxtYIZeCq"
      },
      "source": [
        "File automatically generated. See the documentation to update questions/answers/hints programmatically."
      ],
      "id": "tcsqxtYIZeCq"
    },
    {
      "cell_type": "markdown",
      "metadata": {
        "id": "5fNp7IRPZeCt"
      },
      "source": [
        "#### 1. Import the numpy package under the name `np` (★☆☆)"
      ],
      "id": "5fNp7IRPZeCt"
    },
    {
      "cell_type": "code",
      "metadata": {
        "id": "1jcWnTOOZeCu"
      },
      "source": [
        "import numpy as np"
      ],
      "id": "1jcWnTOOZeCu",
      "execution_count": null,
      "outputs": []
    },
    {
      "cell_type": "markdown",
      "metadata": {
        "id": "g6Ww4MF4ZeCu"
      },
      "source": [
        "#### 2. Print the numpy version and the configuration (★☆☆)"
      ],
      "id": "g6Ww4MF4ZeCu"
    },
    {
      "cell_type": "code",
      "metadata": {
        "id": "lXNIsXuGZeCv",
        "outputId": "b593dc40-a223-4546-c1c7-8c03d47d48d2"
      },
      "source": [
        "print(np.__version__)\n",
        "np.show_config()"
      ],
      "id": "lXNIsXuGZeCv",
      "execution_count": null,
      "outputs": [
        {
          "name": "stdout",
          "output_type": "stream",
          "text": [
            "1.19.5\n",
            "blas_mkl_info:\n",
            "  NOT AVAILABLE\n",
            "blis_info:\n",
            "  NOT AVAILABLE\n",
            "openblas_info:\n",
            "    library_dirs = ['D:\\\\a\\\\1\\\\s\\\\numpy\\\\build\\\\openblas_info']\n",
            "    libraries = ['openblas_info']\n",
            "    language = f77\n",
            "    define_macros = [('HAVE_CBLAS', None)]\n",
            "blas_opt_info:\n",
            "    library_dirs = ['D:\\\\a\\\\1\\\\s\\\\numpy\\\\build\\\\openblas_info']\n",
            "    libraries = ['openblas_info']\n",
            "    language = f77\n",
            "    define_macros = [('HAVE_CBLAS', None)]\n",
            "lapack_mkl_info:\n",
            "  NOT AVAILABLE\n",
            "openblas_lapack_info:\n",
            "    library_dirs = ['D:\\\\a\\\\1\\\\s\\\\numpy\\\\build\\\\openblas_lapack_info']\n",
            "    libraries = ['openblas_lapack_info']\n",
            "    language = f77\n",
            "    define_macros = [('HAVE_CBLAS', None)]\n",
            "lapack_opt_info:\n",
            "    library_dirs = ['D:\\\\a\\\\1\\\\s\\\\numpy\\\\build\\\\openblas_lapack_info']\n",
            "    libraries = ['openblas_lapack_info']\n",
            "    language = f77\n",
            "    define_macros = [('HAVE_CBLAS', None)]\n"
          ]
        }
      ]
    },
    {
      "cell_type": "markdown",
      "metadata": {
        "id": "9lqCix3qZeCw"
      },
      "source": [
        "#### 3. Create a null vector of size 10 (★☆☆)"
      ],
      "id": "9lqCix3qZeCw"
    },
    {
      "cell_type": "code",
      "metadata": {
        "id": "Ts16a5sUZeCx",
        "outputId": "88eab7b5-cfd4-44cd-bdc9-e6d2f3d7f613"
      },
      "source": [
        "Z = np.zeros(10)\n",
        "print(Z)"
      ],
      "id": "Ts16a5sUZeCx",
      "execution_count": null,
      "outputs": [
        {
          "name": "stdout",
          "output_type": "stream",
          "text": [
            "[0. 0. 0. 0. 0. 0. 0. 0. 0. 0.]\n"
          ]
        }
      ]
    },
    {
      "cell_type": "markdown",
      "metadata": {
        "id": "J6eEGcWoZeCx"
      },
      "source": [
        "#### 4. How to find the memory size of any array (★☆☆)"
      ],
      "id": "J6eEGcWoZeCx"
    },
    {
      "cell_type": "code",
      "metadata": {
        "id": "GFNtd3_WZeCy",
        "outputId": "ce1a58af-1818-44de-f185-05f2dc6657d4"
      },
      "source": [
        "Z = np.zeros((10,10))\n",
        "print(\"%d bytes\" % (Z.size * Z.itemsize))"
      ],
      "id": "GFNtd3_WZeCy",
      "execution_count": null,
      "outputs": [
        {
          "name": "stdout",
          "output_type": "stream",
          "text": [
            "800 bytes\n"
          ]
        }
      ]
    },
    {
      "cell_type": "markdown",
      "metadata": {
        "id": "59AxD7PPZeCz"
      },
      "source": [
        "#### 5. Create a null vector of size 10 but the fifth value which is 1 (★☆☆)"
      ],
      "id": "59AxD7PPZeCz"
    },
    {
      "cell_type": "code",
      "metadata": {
        "id": "Q4fJ72bTZeC0",
        "outputId": "57f11cd6-3fd5-41bd-e1db-a90aa47c11e4"
      },
      "source": [
        "Z = np.zeros(10)\n",
        "Z[4] = 1\n",
        "print(Z)"
      ],
      "id": "Q4fJ72bTZeC0",
      "execution_count": null,
      "outputs": [
        {
          "name": "stdout",
          "output_type": "stream",
          "text": [
            "[0. 0. 0. 0. 1. 0. 0. 0. 0. 0.]\n"
          ]
        }
      ]
    },
    {
      "cell_type": "markdown",
      "metadata": {
        "id": "QgQFaULvZeC1"
      },
      "source": [
        "#### 6. Create a vector with values ranging from 10 to 49 (★☆☆)"
      ],
      "id": "QgQFaULvZeC1"
    },
    {
      "cell_type": "code",
      "metadata": {
        "id": "WbL0r_ETZeC2",
        "outputId": "a5a3722b-79e0-4f51-9161-b3bbfef31c98"
      },
      "source": [
        "Z = np.arange(10,50)\n",
        "print(Z)"
      ],
      "id": "WbL0r_ETZeC2",
      "execution_count": null,
      "outputs": [
        {
          "name": "stdout",
          "output_type": "stream",
          "text": [
            "[10 11 12 13 14 15 16 17 18 19 20 21 22 23 24 25 26 27 28 29 30 31 32 33\n",
            " 34 35 36 37 38 39 40 41 42 43 44 45 46 47 48 49]\n"
          ]
        }
      ]
    },
    {
      "cell_type": "markdown",
      "metadata": {
        "id": "BGtVZL90ZeC2"
      },
      "source": [
        "#### 7. Reverse a vector (first element becomes last) (★☆☆)"
      ],
      "id": "BGtVZL90ZeC2"
    },
    {
      "cell_type": "code",
      "metadata": {
        "id": "v2Rp4TInZeC2",
        "outputId": "d2e6cd15-a2e7-44ad-d399-98344e356b1f"
      },
      "source": [
        "Z = np.arange(50)\n",
        "Z = Z[::-1]\n",
        "print(Z)"
      ],
      "id": "v2Rp4TInZeC2",
      "execution_count": null,
      "outputs": [
        {
          "name": "stdout",
          "output_type": "stream",
          "text": [
            "[49 48 47 46 45 44 43 42 41 40 39 38 37 36 35 34 33 32 31 30 29 28 27 26\n",
            " 25 24 23 22 21 20 19 18 17 16 15 14 13 12 11 10  9  8  7  6  5  4  3  2\n",
            "  1  0]\n"
          ]
        }
      ]
    },
    {
      "cell_type": "markdown",
      "metadata": {
        "id": "yrl9d3TWZeC3"
      },
      "source": [
        "#### 8. Create a 3x3 matrix with values ranging from 0 to 8 (★☆☆)"
      ],
      "id": "yrl9d3TWZeC3"
    },
    {
      "cell_type": "code",
      "metadata": {
        "id": "MQGUiO22ZeC3",
        "outputId": "3a4e30cb-1080-4054-abdc-eba49598795b"
      },
      "source": [
        "Z = np.arange(9).reshape(3, 3)\n",
        "print(Z)"
      ],
      "id": "MQGUiO22ZeC3",
      "execution_count": null,
      "outputs": [
        {
          "name": "stdout",
          "output_type": "stream",
          "text": [
            "[[0 1 2]\n",
            " [3 4 5]\n",
            " [6 7 8]]\n"
          ]
        }
      ]
    },
    {
      "cell_type": "markdown",
      "metadata": {
        "id": "VzuB3GH8ZeC4"
      },
      "source": [
        "#### 9. Find indices of non-zero elements from [1,2,0,0,4,0] (★☆☆)"
      ],
      "id": "VzuB3GH8ZeC4"
    },
    {
      "cell_type": "code",
      "metadata": {
        "id": "yeNOS3hBZeC4",
        "outputId": "35924847-b8f8-486b-cfa2-9ad6bdd03a13"
      },
      "source": [
        "nz = np.nonzero([1,2,0,0,4,0])\n",
        "print(nz)"
      ],
      "id": "yeNOS3hBZeC4",
      "execution_count": null,
      "outputs": [
        {
          "name": "stdout",
          "output_type": "stream",
          "text": [
            "(array([0, 1, 4], dtype=int64),)\n"
          ]
        }
      ]
    },
    {
      "cell_type": "markdown",
      "metadata": {
        "id": "MQGUyu3rZeC6"
      },
      "source": [
        "#### 10. Create a 3x3 identity matrix (★☆☆)\n",
        "Hint : identity & eye, try to use 'help' to learn how to use two functions of numpy"
      ],
      "id": "MQGUyu3rZeC6"
    },
    {
      "cell_type": "code",
      "metadata": {
        "id": "4MLBTHSKZeC8",
        "outputId": "251d4400-abd9-4acb-c99e-49fa5a1ac14d"
      },
      "source": [
        "Z = np.eye(3)\n",
        "print(Z)"
      ],
      "id": "4MLBTHSKZeC8",
      "execution_count": null,
      "outputs": [
        {
          "name": "stdout",
          "output_type": "stream",
          "text": [
            "[[1. 0. 0.]\n",
            " [0. 1. 0.]\n",
            " [0. 0. 1.]]\n"
          ]
        }
      ]
    },
    {
      "cell_type": "markdown",
      "metadata": {
        "id": "5a8NIwvFZeC9"
      },
      "source": [
        "#### 11. Create a 3x3x3 array with random values (★☆☆)\n",
        "Hint : numpy.random.random"
      ],
      "id": "5a8NIwvFZeC9"
    },
    {
      "cell_type": "code",
      "metadata": {
        "id": "MLEYtrI-ZeC9",
        "outputId": "b4274de5-9c3c-4faa-9abd-580462d3a240"
      },
      "source": [
        "Z = np.random.random((3,3,3))\n",
        "print(Z)"
      ],
      "id": "MLEYtrI-ZeC9",
      "execution_count": null,
      "outputs": [
        {
          "name": "stdout",
          "output_type": "stream",
          "text": [
            "[[[0.17619105 0.29494413 0.27804843]\n",
            "  [0.87703402 0.2114408  0.92177963]\n",
            "  [0.29973736 0.93079211 0.26038643]]\n",
            "\n",
            " [[0.08914194 0.47047211 0.69134378]\n",
            "  [0.69131165 0.72581247 0.74358902]\n",
            "  [0.76284673 0.74344347 0.18910404]]\n",
            "\n",
            " [[0.94237222 0.28893016 0.84988147]\n",
            "  [0.97946933 0.75327039 0.57372603]\n",
            "  [0.04146086 0.15998437 0.47326424]]]\n"
          ]
        }
      ]
    },
    {
      "cell_type": "markdown",
      "metadata": {
        "id": "csjsi6MjZeC-"
      },
      "source": [
        "#### 12. Create a 10x10 array with random values and find the **min**imum and **max**imum values (★☆☆)"
      ],
      "id": "csjsi6MjZeC-"
    },
    {
      "cell_type": "code",
      "metadata": {
        "id": "asL1NzvPZeC-",
        "outputId": "eff814b4-51d8-4705-8854-5584cc1638ab"
      },
      "source": [
        "Z = np.random.random((10,10))\n",
        "Zmin, Zmax = Z.min(), Z.max()\n",
        "print(Zmin, Zmax)"
      ],
      "id": "asL1NzvPZeC-",
      "execution_count": null,
      "outputs": [
        {
          "name": "stdout",
          "output_type": "stream",
          "text": [
            "3.073353794902367e-06 0.988764397962022\n"
          ]
        }
      ]
    },
    {
      "cell_type": "markdown",
      "metadata": {
        "id": "K47WyxYQZeC_"
      },
      "source": [
        "#### 13. Create a random vector of size 30 and find the **mean** value (★☆☆)"
      ],
      "id": "K47WyxYQZeC_"
    },
    {
      "cell_type": "code",
      "metadata": {
        "id": "CYWR9l2lZeC_",
        "outputId": "75569ab3-9e0c-4e71-b168-358f8d2fb659"
      },
      "source": [
        "Z = np.random.random(30)\n",
        "m = Z.mean()\n",
        "print(m)"
      ],
      "id": "CYWR9l2lZeC_",
      "execution_count": null,
      "outputs": [
        {
          "name": "stdout",
          "output_type": "stream",
          "text": [
            "0.47334902331875367\n"
          ]
        }
      ]
    },
    {
      "cell_type": "markdown",
      "metadata": {
        "id": "GGoHPCr_ZeDA"
      },
      "source": [
        "#### 14. Create a 2d array with 1 on the border and 0 inside (★☆☆)"
      ],
      "id": "GGoHPCr_ZeDA"
    },
    {
      "cell_type": "code",
      "metadata": {
        "id": "t3RiN_UrZeDA",
        "outputId": "73e4e68f-6869-430b-b793-4f6d51f3dfb2"
      },
      "source": [
        "Z = np.ones((10,10))\n",
        "Z[1:-1,1:-1] = 0\n",
        "print(Z)"
      ],
      "id": "t3RiN_UrZeDA",
      "execution_count": null,
      "outputs": [
        {
          "name": "stdout",
          "output_type": "stream",
          "text": [
            "[[1. 1. 1. 1. 1. 1. 1. 1. 1. 1.]\n",
            " [1. 0. 0. 0. 0. 0. 0. 0. 0. 1.]\n",
            " [1. 0. 0. 0. 0. 0. 0. 0. 0. 1.]\n",
            " [1. 0. 0. 0. 0. 0. 0. 0. 0. 1.]\n",
            " [1. 0. 0. 0. 0. 0. 0. 0. 0. 1.]\n",
            " [1. 0. 0. 0. 0. 0. 0. 0. 0. 1.]\n",
            " [1. 0. 0. 0. 0. 0. 0. 0. 0. 1.]\n",
            " [1. 0. 0. 0. 0. 0. 0. 0. 0. 1.]\n",
            " [1. 0. 0. 0. 0. 0. 0. 0. 0. 1.]\n",
            " [1. 1. 1. 1. 1. 1. 1. 1. 1. 1.]]\n"
          ]
        }
      ]
    },
    {
      "cell_type": "markdown",
      "metadata": {
        "id": "n7AUYiDRZeDC"
      },
      "source": [
        "#### 15. What is the result of the following expression? (★☆☆)\n",
        "```python\n",
        "0 * np.nan\n",
        "np.nan == np.nan\n",
        "np.inf > np.nan\n",
        "np.nan - np.nan\n",
        "np.nan in set([np.nan])\n",
        "0.3 == 3 * 0.1\n",
        "```"
      ],
      "id": "n7AUYiDRZeDC"
    },
    {
      "cell_type": "code",
      "metadata": {
        "id": "uEcrnQODZeDC",
        "outputId": "29341207-1356-4d19-9d6e-fb6209d1d6cb"
      },
      "source": [
        "0 * np.nan\n",
        "np.nan == np.nan\n",
        "np.inf > np.nan\n",
        "np.nan - np.nan\n",
        "np.nan in set([np.nan])\n",
        "0.3 == 3 * 0.1"
      ],
      "id": "uEcrnQODZeDC",
      "execution_count": null,
      "outputs": [
        {
          "data": {
            "text/plain": [
              "False"
            ]
          },
          "execution_count": 20,
          "metadata": {},
          "output_type": "execute_result"
        }
      ]
    },
    {
      "cell_type": "markdown",
      "metadata": {
        "id": "zg3ius1fZeDD"
      },
      "source": [
        "#### 16. Create a 5x5 matrix with values 1,2,3,4 just below the **diag**onal (★☆☆)"
      ],
      "id": "zg3ius1fZeDD"
    },
    {
      "cell_type": "code",
      "metadata": {
        "id": "9AcjhsxYZeDD",
        "outputId": "c4cec03a-ded6-4e6c-eb90-bb3ebb6320c0"
      },
      "source": [
        "Z = np.diag(1+np.arange(4),k=-1)\n",
        "print(Z)"
      ],
      "id": "9AcjhsxYZeDD",
      "execution_count": null,
      "outputs": [
        {
          "name": "stdout",
          "output_type": "stream",
          "text": [
            "[[0 0 0 0 0]\n",
            " [1 0 0 0 0]\n",
            " [0 2 0 0 0]\n",
            " [0 0 3 0 0]\n",
            " [0 0 0 4 0]]\n"
          ]
        }
      ]
    },
    {
      "cell_type": "markdown",
      "metadata": {
        "id": "i95uNbooZeDE"
      },
      "source": [
        "#### 17. Create a 8x8 matrix and fill it with a checkerboard pattern (★☆☆)"
      ],
      "id": "i95uNbooZeDE"
    },
    {
      "cell_type": "code",
      "metadata": {
        "id": "1xQveot0ZeDE",
        "outputId": "5e458ff9-af44-471f-e2b7-3df5e7711e00"
      },
      "source": [
        "Z = np.zeros((8,8),dtype=int)\n",
        "Z[1::2,::2] = 1\n",
        "Z[::2,1::2] = 1\n",
        "print(Z)"
      ],
      "id": "1xQveot0ZeDE",
      "execution_count": null,
      "outputs": [
        {
          "name": "stdout",
          "output_type": "stream",
          "text": [
            "[[0 1 0 1 0 1 0 1]\n",
            " [1 0 1 0 1 0 1 0]\n",
            " [0 1 0 1 0 1 0 1]\n",
            " [1 0 1 0 1 0 1 0]\n",
            " [0 1 0 1 0 1 0 1]\n",
            " [1 0 1 0 1 0 1 0]\n",
            " [0 1 0 1 0 1 0 1]\n",
            " [1 0 1 0 1 0 1 0]]\n"
          ]
        }
      ]
    },
    {
      "cell_type": "markdown",
      "metadata": {
        "id": "jJm20r-oZeDE"
      },
      "source": [
        "#### 18. Consider a (6,7,8) shape array, what is the index (x,y,z) of the 100th element? (★☆☆)\n",
        "Hint : use 'numpy.unravel_index(value, (x, y, z))"
      ],
      "id": "jJm20r-oZeDE"
    },
    {
      "cell_type": "code",
      "metadata": {
        "id": "h3IrT5ykZeDF",
        "outputId": "57002164-592b-4631-f693-7a0808d56494"
      },
      "source": [
        "print(np.unravel_index(99,(6,7,8)))"
      ],
      "id": "h3IrT5ykZeDF",
      "execution_count": null,
      "outputs": [
        {
          "name": "stdout",
          "output_type": "stream",
          "text": [
            "(1, 5, 3)\n"
          ]
        }
      ]
    },
    {
      "cell_type": "markdown",
      "metadata": {
        "id": "IGBRZQw5ZeDG"
      },
      "source": [
        "#### 19. Normalize a 5x5 random matrix (★☆☆)\n",
        "Hint : $Z = \\frac{X - \\overline{X}}{S}$"
      ],
      "id": "IGBRZQw5ZeDG"
    },
    {
      "cell_type": "code",
      "metadata": {
        "id": "H9U-oqe-ZeDH",
        "outputId": "61f39384-d303-40e2-f494-20390b29355f"
      },
      "source": [
        "Z = np.random.random((5,5))\n",
        "Z = (Z - np.mean (Z)) / (np.std (Z))\n",
        "print(Z)"
      ],
      "id": "H9U-oqe-ZeDH",
      "execution_count": null,
      "outputs": [
        {
          "name": "stdout",
          "output_type": "stream",
          "text": [
            "[[-1.67957339 -1.07585714 -1.69320131  0.75779307 -0.21574688]\n",
            " [ 1.19531736  1.38735373 -0.16635212  0.40221329 -0.7942447 ]\n",
            " [ 0.79036914 -1.23814487  0.2495337  -1.26884953  1.41933052]\n",
            " [-0.13698268 -0.29923369  0.5584197   0.73929265  1.05693149]\n",
            " [-0.19776008 -1.36561502 -0.81211648  1.09589494  1.29122832]]\n"
          ]
        }
      ]
    },
    {
      "cell_type": "code",
      "source": [],
      "metadata": {
        "id": "wb6apFkFux_Y"
      },
      "id": "wb6apFkFux_Y",
      "execution_count": null,
      "outputs": []
    },
    {
      "cell_type": "markdown",
      "metadata": {
        "id": "vDzQ_EgSZeDH"
      },
      "source": [
        "#### 20. Create a custom dtype that describes a color as four unsigned bytes (RGBA) (★☆☆)\n",
        "Hint : modify the code below\n",
        "```python\n",
        "numpy.dtype([(value, numpy.ubyte), … , (value, numpy.ubyte)])\n",
        "```"
      ],
      "id": "vDzQ_EgSZeDH"
    },
    {
      "cell_type": "code",
      "metadata": {
        "id": "KBs7yi05ZeDI"
      },
      "source": [
        "color = np.dtype([(\"r\", np.ubyte),\n",
        "                  (\"g\", np.ubyte),\n",
        "                  (\"b\", np.ubyte),\n",
        "                  (\"a\", np.ubyte)])"
      ],
      "id": "KBs7yi05ZeDI",
      "execution_count": null,
      "outputs": []
    },
    {
      "cell_type": "markdown",
      "metadata": {
        "id": "or9cJbNTZeDI"
      },
      "source": [
        "#### 21. Multiply a 5x3 matrix by a 3x2 matrix (real matrix product) (★☆☆)"
      ],
      "id": "or9cJbNTZeDI"
    },
    {
      "cell_type": "code",
      "metadata": {
        "id": "UnQsdQPeZeDI",
        "outputId": "61001939-904c-4cfa-a365-da2a45336501"
      },
      "source": [
        "Z = np.dot(np.ones((5,3)), np.ones((3,2)))\n",
        "print(Z)\n",
        "\n",
        "# Alternative solution, in Python 3.5 and above\n",
        "Z = np.ones((5,3)) @ np.ones((3,2))\n",
        "print(Z)"
      ],
      "id": "UnQsdQPeZeDI",
      "execution_count": null,
      "outputs": [
        {
          "name": "stdout",
          "output_type": "stream",
          "text": [
            "[[3. 3.]\n",
            " [3. 3.]\n",
            " [3. 3.]\n",
            " [3. 3.]\n",
            " [3. 3.]]\n",
            "[[3. 3.]\n",
            " [3. 3.]\n",
            " [3. 3.]\n",
            " [3. 3.]\n",
            " [3. 3.]]\n"
          ]
        }
      ]
    },
    {
      "cell_type": "markdown",
      "metadata": {
        "id": "UyFQKNhMZeDJ"
      },
      "source": [
        "#### 22. Given a 1D array, negate all elements which are between 3 and 8, in place. (★☆☆)"
      ],
      "id": "UyFQKNhMZeDJ"
    },
    {
      "cell_type": "code",
      "metadata": {
        "id": "eOJjxiEGZeDJ",
        "outputId": "463da822-7291-4c40-81f8-2e47f6193d67"
      },
      "source": [
        "# Author: Evgeni Burovski\n",
        "\n",
        "Z = np.arange(11)\n",
        "Z[(3 < Z) & (Z < 8)] *= -1\n",
        "print(Z)"
      ],
      "id": "eOJjxiEGZeDJ",
      "execution_count": null,
      "outputs": [
        {
          "name": "stdout",
          "output_type": "stream",
          "text": [
            "[ 0  1  2  3 -4 -5 -6 -7  8  9 10]\n"
          ]
        }
      ]
    },
    {
      "cell_type": "markdown",
      "metadata": {
        "id": "dR8Hphj2ZeDK"
      },
      "source": [
        "#### 23. What is the output of the following script? (★☆☆)\n",
        "```python\n",
        "# Author: Jake VanderPlas\n",
        "\n",
        "print(sum(range(5),-1))\n",
        "from numpy import *\n",
        "print(sum(range(5),-1))\n",
        "```"
      ],
      "id": "dR8Hphj2ZeDK"
    },
    {
      "cell_type": "code",
      "metadata": {
        "id": "yWc-tEe7ZeDK",
        "outputId": "8b8d407e-968f-4a44-f130-6e7b6caf2a88"
      },
      "source": [
        "# Author: Jake VanderPlas\n",
        "\n",
        "print(sum(range(5),-1))\n",
        "from numpy import *\n",
        "print(sum(range(5),-1))"
      ],
      "id": "yWc-tEe7ZeDK",
      "execution_count": null,
      "outputs": [
        {
          "name": "stdout",
          "output_type": "stream",
          "text": [
            "9\n",
            "10\n"
          ]
        }
      ]
    },
    {
      "cell_type": "markdown",
      "metadata": {
        "id": "h0NbRNuYZeDM"
      },
      "source": [
        "#### 24. Consider an integer vector Z, which of these expressions are legal? (★☆☆)\n",
        "```python\n",
        "Z**Z\n",
        "2 << Z >> 2\n",
        "Z <- Z\n",
        "1j*Z\n",
        "Z/1/1\n",
        "Z<Z>Z\n",
        "```"
      ],
      "id": "h0NbRNuYZeDM"
    },
    {
      "cell_type": "code",
      "metadata": {
        "id": "cE3v-rj3ZeDN",
        "outputId": "edd09446-4470-4b09-a6e6-355a56be4ec1"
      },
      "source": [
        "Z=np.arange(9).reshape(3,3)\n",
        "#legal\n",
        "print(Z**Z)\n",
        "print(2 << Z >> 2)\n",
        "print(Z <- Z)\n",
        "print(1j*Z)\n",
        "print(Z/1/1)\n",
        "\n",
        "\n",
        "# Z<Z>Z -> X legal"
      ],
      "id": "cE3v-rj3ZeDN",
      "execution_count": null,
      "outputs": [
        {
          "name": "stdout",
          "output_type": "stream",
          "text": [
            "[[       1        1        4]\n",
            " [      27      256     3125]\n",
            " [   46656   823543 16777216]]\n",
            "[[  0   1   2]\n",
            " [  4   8  16]\n",
            " [ 32  64 128]]\n",
            "[[False False False]\n",
            " [False False False]\n",
            " [False False False]]\n",
            "[[0.+0.j 0.+1.j 0.+2.j]\n",
            " [0.+3.j 0.+4.j 0.+5.j]\n",
            " [0.+6.j 0.+7.j 0.+8.j]]\n",
            "[[0. 1. 2.]\n",
            " [3. 4. 5.]\n",
            " [6. 7. 8.]]\n"
          ]
        }
      ]
    },
    {
      "cell_type": "markdown",
      "metadata": {
        "id": "bF3W9HaAZeDN"
      },
      "source": [
        "#### 25. What are the result of the following expressions? (★☆☆)\n",
        "```python\n",
        "np.array(0) / np.array(0)\n",
        "np.array(0) // np.array(0)\n",
        "np.array([np.nan]).astype(int).astype(float)\n",
        "```"
      ],
      "id": "bF3W9HaAZeDN"
    },
    {
      "cell_type": "code",
      "metadata": {
        "id": "yGSJ7_r3ZeDO",
        "outputId": "aa0d1c4a-d4ba-49c3-a4a2-14920b63af3c"
      },
      "source": [
        "print(np.array(0) / np.array(0))\n",
        "print(np.array(0) // np.array(0))\n",
        "print(np.array([np.nan]).astype(int).astype(float))"
      ],
      "id": "yGSJ7_r3ZeDO",
      "execution_count": null,
      "outputs": [
        {
          "name": "stdout",
          "output_type": "stream",
          "text": [
            "nan\n",
            "0\n",
            "[-2.14748365e+09]\n"
          ]
        },
        {
          "name": "stderr",
          "output_type": "stream",
          "text": [
            "<ipython-input-32-2a10de0ee61b>:1: RuntimeWarning: invalid value encountered in true_divide\n",
            "  print(np.array(0) / np.array(0))\n",
            "<ipython-input-32-2a10de0ee61b>:2: RuntimeWarning: divide by zero encountered in floor_divide\n",
            "  print(np.array(0) // np.array(0))\n"
          ]
        }
      ]
    }
  ]
}