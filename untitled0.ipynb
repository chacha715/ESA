{
  "nbformat": 4,
  "nbformat_minor": 0,
  "metadata": {
    "colab": {
      "provenance": [],
      "collapsed_sections": [],
      "authorship_tag": "ABX9TyOXHnCLZqjlQgRXIcKI+RYL",
      "include_colab_link": true
    },
    "kernelspec": {
      "name": "python3",
      "display_name": "Python 3"
    },
    "language_info": {
      "name": "python"
    }
  },
  "cells": [
    {
      "cell_type": "markdown",
      "metadata": {
        "id": "view-in-github",
        "colab_type": "text"
      },
      "source": [
        "<a href=\"https://colab.research.google.com/github/chacha715/ESAA/blob/main/untitled0.ipynb\" target=\"_parent\"><img src=\"https://colab.research.google.com/assets/colab-badge.svg\" alt=\"Open In Colab\"/></a>"
      ]
    },
    {
      "cell_type": "code",
      "execution_count": null,
      "metadata": {
        "id": "hvhPKeRlFrNo"
      },
      "outputs": [],
      "source": [
        "[개념정리]\n",
        "Numpy\n",
        ": Numerical Python을 의미. 선형대수 기반의 프로그램을 쉽게 만들 수 있도록 지원하는 대표적인 패키지."
      ]
    },
    {
      "cell_type": "markdown",
      "source": [
        "[개념정리]\n",
        "Numpy\n",
        ": Numerical Python을 의미. 선형대수 기반의 프로그램을 쉽게 만들 수 있도록 지원하는 대표적인 패키지."
      ],
      "metadata": {
        "id": "1SGowWj2Hi-O"
      }
    }
  ]
}