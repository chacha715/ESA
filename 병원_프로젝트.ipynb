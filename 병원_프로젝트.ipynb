{
  "nbformat": 4,
  "nbformat_minor": 0,
  "metadata": {
    "colab": {
      "provenance": [],
      "authorship_tag": "ABX9TyPcA1GcBiRGbzRUSY73Y4wK",
      "include_colab_link": true
    },
    "kernelspec": {
      "name": "python3",
      "display_name": "Python 3"
    },
    "language_info": {
      "name": "python"
    }
  },
  "cells": [
    {
      "cell_type": "markdown",
      "metadata": {
        "id": "view-in-github",
        "colab_type": "text"
      },
      "source": [
        "<a href=\"https://colab.research.google.com/github/chacha715/ESAA/blob/main/%EB%B3%91%EC%9B%90_%ED%94%84%EB%A1%9C%EC%A0%9D%ED%8A%B8.ipynb\" target=\"_parent\"><img src=\"https://colab.research.google.com/assets/colab-badge.svg\" alt=\"Open In Colab\"/></a>"
      ]
    },
    {
      "cell_type": "code",
      "source": [
        "from google.colab import drive\n",
        "drive.mount('/content/drive')"
      ],
      "metadata": {
        "colab": {
          "base_uri": "https://localhost:8080/"
        },
        "id": "7C9Mk3de0Ty1",
        "outputId": "13ffd719-bd1e-46a6-b689-b8974af920a8"
      },
      "execution_count": 59,
      "outputs": [
        {
          "output_type": "stream",
          "name": "stdout",
          "text": [
            "Drive already mounted at /content/drive; to attempt to forcibly remount, call drive.mount(\"/content/drive\", force_remount=True).\n"
          ]
        }
      ]
    },
    {
      "cell_type": "code",
      "source": [
        "import pandas as pd\n",
        "import numpy as np"
      ],
      "metadata": {
        "id": "QXzvnRrX0wg8"
      },
      "execution_count": 60,
      "outputs": []
    },
    {
      "cell_type": "code",
      "source": [
        "#train = pd.read_csv('/content/drive/MyDrive/ESAA/YB 1조/9565_hospital_data/train.csv')\n",
        "#test = pd.read_csv('/content/drive/MyDrive/ESAA/YB 1조/9565_hospital_data/test.csv')\n",
        "\n",
        "train = pd.read_csv('/content/drive/MyDrive/ESAA/YB 1조/train 지역변수 추가.csv')\n",
        "test = pd.read_csv('/content/drive/MyDrive/ESAA/YB 1조/test 지역변수 추가.csv')"
      ],
      "metadata": {
        "id": "3uf7rQnN0UMe"
      },
      "execution_count": 141,
      "outputs": []
    },
    {
      "cell_type": "markdown",
      "source": [
        "\n",
        "\n",
        "```\n",
        "# EDA 전처리\n",
        "```\n",
        "\n"
      ],
      "metadata": {
        "id": "S863C_Sf6tzy"
      }
    },
    {
      "cell_type": "code",
      "execution_count": 142,
      "metadata": {
        "id": "r1CzAfz6zWrE"
      },
      "outputs": [],
      "source": [
        "#train.drop(['inst_id','sgg'],axis=1,inplace=True)\n",
        "\n",
        "train.dropna(subset=['instkind'],axis=0,inplace=True)\n",
        "test.dropna(subset=['instkind'],axis=0,inplace=True)"
      ]
    },
    {
      "cell_type": "code",
      "source": [
        "#train.dropna(subset=['instkind'],axis=0,inplace=True)\n",
        "\n",
        "train['ownerChange'].mode()[0]\n",
        "train.loc[train['ownerChange'].isna(),'ownerChange'] = train['ownerChange'].mode()[0]\n",
        "train['ownerChange'].isna().sum()\n",
        "\n",
        "test['ownerChange'].mode()[0]\n",
        "test.loc[test['ownerChange'].isna(),'ownerChange'] = test['ownerChange'].mode()[0]\n",
        "test['ownerChange'].isna().sum()"
      ],
      "metadata": {
        "id": "x12T4qCmzYrL",
        "colab": {
          "base_uri": "https://localhost:8080/"
        },
        "outputId": "081a557b-ff65-4713-d3a4-6219319683df"
      },
      "execution_count": 143,
      "outputs": [
        {
          "output_type": "execute_result",
          "data": {
            "text/plain": [
              "0"
            ]
          },
          "metadata": {},
          "execution_count": 143
        }
      ]
    },
    {
      "cell_type": "code",
      "source": [
        "train.dropna(subset=['salescost1'],axis=0,inplace=True)\n",
        "test.dropna(subset=['salescost1'],axis=0,inplace=True)"
      ],
      "metadata": {
        "id": "FdKhsmJx5Ih9"
      },
      "execution_count": 144,
      "outputs": []
    },
    {
      "cell_type": "code",
      "source": [
        "train.groupby('instkind')['bedCount'].mean()\n",
        "train['bedCount'] = train['bedCount'].fillna(train.groupby('instkind')['bedCount'].transform('mean')) \n",
        "train['bedCount'].isnull().sum()\n",
        "\n",
        "test.groupby('instkind')['bedCount'].mean()\n",
        "test['bedCount'] = test['bedCount'].fillna(test.groupby('instkind')['bedCount'].transform('mean')) \n",
        "test['bedCount'].isnull().sum()"
      ],
      "metadata": {
        "colab": {
          "base_uri": "https://localhost:8080/"
        },
        "id": "m-HEofLz5K13",
        "outputId": "04bb9637-1bb7-4a72-df96-8d9cc5af2430"
      },
      "execution_count": 145,
      "outputs": [
        {
          "output_type": "execute_result",
          "data": {
            "text/plain": [
              "1"
            ]
          },
          "metadata": {},
          "execution_count": 145
        }
      ]
    },
    {
      "cell_type": "code",
      "source": [
        "for i in range(0,len(train[\"OC\"])):\n",
        "  if train.iloc[i,0] == \"open\":\n",
        "    train.iloc[i, 0]=1\n",
        "  else:\n",
        "    train.iloc[i, 0]=0 "
      ],
      "metadata": {
        "id": "ptsCX-qP5QlB"
      },
      "execution_count": 146,
      "outputs": []
    },
    {
      "cell_type": "code",
      "source": [
        "round(train['ownerChange'].value_counts(normalize=True),3)\n",
        "train['ownerChange'] = train['ownerChange'].fillna(pd.Series(np.random.choice(['same','change'], p=[0.85,0.15],size = 300))) "
      ],
      "metadata": {
        "id": "RXG9tNh75VsL"
      },
      "execution_count": 147,
      "outputs": []
    },
    {
      "cell_type": "code",
      "source": [
        "train['OC'] = train['OC'].map({'close': 0, 'open': 1})\n",
        "#train['OC'].fillna(0, inplace=True)"
      ],
      "metadata": {
        "id": "9rcRfKpptFgH"
      },
      "execution_count": 148,
      "outputs": []
    },
    {
      "cell_type": "code",
      "source": [
        "train['OC'].describe"
      ],
      "metadata": {
        "id": "WXBCB6qLt8Kj"
      },
      "execution_count": null,
      "outputs": []
    },
    {
      "cell_type": "code",
      "source": [
        "train['OC'].isna().sum()"
      ],
      "metadata": {
        "id": "8Jz26w0uxQdy"
      },
      "execution_count": null,
      "outputs": []
    },
    {
      "cell_type": "code",
      "source": [
        "a = train\n",
        "a['OC'].fillna(0, inplace=True)"
      ],
      "metadata": {
        "id": "2u6OKBByx6eL"
      },
      "execution_count": 150,
      "outputs": []
    },
    {
      "cell_type": "code",
      "source": [
        "train = a"
      ],
      "metadata": {
        "id": "yeNsAYmryGFE"
      },
      "execution_count": 151,
      "outputs": []
    },
    {
      "cell_type": "code",
      "source": [
        "train.tail()"
      ],
      "metadata": {
        "id": "JcoXGatfygPt"
      },
      "execution_count": null,
      "outputs": []
    },
    {
      "cell_type": "markdown",
      "source": [
        "\n",
        "\n",
        "```\n",
        "# 파생변수 생성\n",
        "```\n",
        "\n"
      ],
      "metadata": {
        "id": "cs-B7-pH6ymI"
      }
    },
    {
      "cell_type": "code",
      "source": [
        "#매출액순이익율=당기순이익/자기자본*100\n",
        "\n",
        "train['매출액순이익율'] = train.profit1/train.revenue1*100"
      ],
      "metadata": {
        "id": "L-6XXoQd1W05"
      },
      "execution_count": 21,
      "outputs": []
    },
    {
      "cell_type": "code",
      "source": [
        "#배당성향=배당금/당기순이익\n",
        "#배당금=당기순이익-이익잉여금\n",
        "\n",
        "train['배당성향'] = (train.profit1-train.surplus1)/train.profit1"
      ],
      "metadata": {
        "id": "ArBwcwRD1vEE"
      },
      "execution_count": 154,
      "outputs": []
    },
    {
      "cell_type": "code",
      "source": [
        "#이자보상비율=영업이익/이자비용*100\n",
        "#영업손익은 매출액 등의 영업수익으로부터 매출원가ㆍ판매비와관리비 등의 영업비용을 차감한 개념 (영업 외 이익과 비용도 차감)\n",
        "\n",
        "train['이자보상비율'] = (train.revenue1-train.salescost1-train.sga1-train.noi1-train.noe1)/train.interest1*100"
      ],
      "metadata": {
        "id": "gXY3Rayz1x9B"
      },
      "execution_count": 23,
      "outputs": []
    },
    {
      "cell_type": "code",
      "source": [
        "##은서\n",
        "\n",
        "#재고자산회전율=매출원가/평균재고자산\n",
        "#train['재고자산회전율']=train.salescost1/((train.inventoryAsset1+train.inventoryAsset2)/2)\n",
        "\n",
        "#자기자본비율=자기자본/총자본*100\n",
        "train['자기자본비율']=train.netAsset1/(train.debt1+train.netAsset1)*100"
      ],
      "metadata": {
        "id": "4osYon684fMi"
      },
      "execution_count": 155,
      "outputs": []
    },
    {
      "cell_type": "code",
      "source": [
        "##현서\n",
        "\n",
        "#유동비율 = 유동자산/유동부채 *100\n",
        "#train['유동비율']=(train['liquidAsset1']/train['liquidLiabilities1'])*100\n",
        "#당좌비율 = (유동자산-재고자산)/유동부채 *100\n",
        "#train['당좌비율']=(train['quickAsset1']/train['liquidLiabilities1'])*100\n",
        "#부채비율 = 부채/자본 *100\n",
        "train['부채비율']=(train['debt1']/(train['debt1']+train['netAsset1']))*100"
      ],
      "metadata": {
        "id": "33OLGnKw4oh-"
      },
      "execution_count": 156,
      "outputs": []
    },
    {
      "cell_type": "code",
      "source": [
        "##재령\n",
        "\n",
        "train['매출액증가율']=(train['revenue1']/train['revenue2'])*100-100\n",
        "train['총자산증가율']=(train['netAsset1']+train['debt1'])/(train['netAsset2']+train['debt2'])*100 -100\n",
        "train['ROE']=(train['profit1']/train['netAsset1'])*100"
      ],
      "metadata": {
        "id": "ScaZLrf44u2H"
      },
      "execution_count": 26,
      "outputs": []
    },
    {
      "cell_type": "code",
      "source": [
        "##미수\n",
        "\n",
        "train.loc[train.bedCount>300,'hospital_size']=1\n",
        "train.loc[train.bedCount<=300,'hospital_size']=0"
      ],
      "metadata": {
        "id": "SnKWfJFK5aE-"
      },
      "execution_count": 157,
      "outputs": []
    },
    {
      "cell_type": "code",
      "source": [
        "train.describe()"
      ],
      "metadata": {
        "id": "cIiItPO_6Yy5"
      },
      "execution_count": null,
      "outputs": []
    },
    {
      "cell_type": "code",
      "source": [
        "train['OC'].count()"
      ],
      "metadata": {
        "colab": {
          "base_uri": "https://localhost:8080/"
        },
        "id": "g-1nwt4O8mPQ",
        "outputId": "40d9a250-700d-47fb-88b9-29345bc41380"
      },
      "execution_count": 158,
      "outputs": [
        {
          "output_type": "execute_result",
          "data": {
            "text/plain": [
              "292"
            ]
          },
          "metadata": {},
          "execution_count": 158
        }
      ]
    },
    {
      "cell_type": "code",
      "source": [
        "train['OC'].describe"
      ],
      "metadata": {
        "colab": {
          "base_uri": "https://localhost:8080/"
        },
        "id": "8mtYLDGb7BD2",
        "outputId": "5e5a9840-fb84-412a-893b-f9dfa2304ae3"
      },
      "execution_count": 159,
      "outputs": [
        {
          "output_type": "execute_result",
          "data": {
            "text/plain": [
              "<bound method NDFrame.describe of 0      1.0\n",
              "2      1.0\n",
              "3      1.0\n",
              "4      1.0\n",
              "5      1.0\n",
              "      ... \n",
              "296    1.0\n",
              "297    0.0\n",
              "298    0.0\n",
              "299    0.0\n",
              "300    1.0\n",
              "Name: OC, Length: 292, dtype: float64>"
            ]
          },
          "metadata": {},
          "execution_count": 159
        }
      ]
    },
    {
      "cell_type": "markdown",
      "source": [
        "\n",
        "\n",
        "```\n",
        "# XGBoost 모델\n",
        "```\n",
        "\n"
      ],
      "metadata": {
        "id": "u5cv9WjhlYH-"
      }
    },
    {
      "cell_type": "code",
      "source": [
        "import xgboost as xgb\n",
        "from xgboost import XGBClassifier"
      ],
      "metadata": {
        "id": "b6iQgDzolXsC"
      },
      "execution_count": 174,
      "outputs": []
    },
    {
      "cell_type": "code",
      "source": [
        "import xgboost as xgb\n",
        "from xgboost import plot_importance\n",
        "import pandas as pd\n",
        "import numpy as np\n",
        "from sklearn.model_selection import train_test_split\n",
        "import warnings\n",
        "warnings.filterwarnings('ignore')"
      ],
      "metadata": {
        "id": "Sc6PYilMl_Sx"
      },
      "execution_count": 161,
      "outputs": []
    },
    {
      "cell_type": "code",
      "source": [
        "X_features = train.drop(columns = ['OC', 'sido', 'instkind', 'ownerChange']) #int형 아닌 열 삭제. sido랑 instkind는 파생변수로 적용, ownerChange는 지울까,,\n",
        "y_label = train['OC']\n",
        "\n",
        "X_train,X_test,y_train,y_test = train_test_split(X_features,y_label, test_size = 0.2, random_state = 156, stratify = y_label)\n",
        "print(X_train.shape,X_test.shape)"
      ],
      "metadata": {
        "colab": {
          "base_uri": "https://localhost:8080/"
        },
        "id": "vwVKSN90oNvQ",
        "outputId": "99791d10-da5b-44d4-867a-c7dc0496b526"
      },
      "execution_count": 162,
      "outputs": [
        {
          "output_type": "stream",
          "name": "stdout",
          "text": [
            "(233, 59) (59, 59)\n"
          ]
        }
      ]
    },
    {
      "cell_type": "code",
      "source": [
        "print(y_train.value_counts()/y_train.shape[0]*100)\n",
        "print(y_test.value_counts()/y_test.shape[0]*100)"
      ],
      "metadata": {
        "colab": {
          "base_uri": "https://localhost:8080/"
        },
        "id": "5jBA_MnhqJfe",
        "outputId": "90ca6784-a53d-454b-9913-514a2ed47267"
      },
      "execution_count": 163,
      "outputs": [
        {
          "output_type": "stream",
          "name": "stdout",
          "text": [
            "1.0    95.27897\n",
            "0.0     4.72103\n",
            "Name: OC, dtype: float64\n",
            "1.0    94.915254\n",
            "0.0     5.084746\n",
            "Name: OC, dtype: float64\n"
          ]
        }
      ]
    },
    {
      "cell_type": "code",
      "source": [
        "#X_train.info()\n",
        "#y_train.info()\n",
        "y_train.head()"
      ],
      "metadata": {
        "id": "vv1b2_Sgr6sq"
      },
      "execution_count": null,
      "outputs": []
    },
    {
      "cell_type": "code",
      "source": [
        "dtrain = xgb.DMatrix(data=X_train,label = y_train)\n",
        "dtest = xgb.DMatrix(data=X_test,label = y_test)"
      ],
      "metadata": {
        "id": "LR3UMPZcqtgC"
      },
      "execution_count": 165,
      "outputs": []
    },
    {
      "cell_type": "code",
      "source": [
        "params = {\n",
        "    'max_depth' :3,\n",
        "    'eta' : 0.1,\n",
        "    'objective' : 'binary:logistic',\n",
        "    'eval_metric':'logloss',\n",
        "    'early_stoppings':100\n",
        "}\n",
        "num_rounds = 400"
      ],
      "metadata": {
        "id": "ozO1d92Cy-MU"
      },
      "execution_count": 166,
      "outputs": []
    },
    {
      "cell_type": "code",
      "source": [
        "wlist=[(dtrain,'train'),(dtest,'eval')]\n",
        "#하이퍼 파라미터와 early stopping 파라미터를 train() 함수의 파라미터로 전달\n",
        "xgb_model=xgb.train(params=params,dtrain=dtrain,num_boost_round=num_rounds, early_stopping_rounds=100,evals=wlist)"
      ],
      "metadata": {
        "id": "3P6ZJvwhzAui"
      },
      "execution_count": null,
      "outputs": []
    },
    {
      "cell_type": "code",
      "source": [
        "pred_probs=xgb_model.predict(dtest)\n",
        "print('predict() 수행 결과값을 10개만 표시, 예측 확률값으로 표시됨')\n",
        "print(np.round(pred_probs[:10],3))\n",
        "\n",
        "#예측 활률이 0.5보다 크면 1, 그렇지 않으면 0으로 예측값 결정해 리스트 객체인 preds에 저장\n",
        "preds=[1 if x>0.5 else 0 for x in pred_probs]\n",
        "print('예측값 10개만 표시:',preds[:10])"
      ],
      "metadata": {
        "colab": {
          "base_uri": "https://localhost:8080/"
        },
        "id": "IqjKy9F9zJCP",
        "outputId": "8a983d1f-f986-4adb-d5be-82e027e9c056"
      },
      "execution_count": 168,
      "outputs": [
        {
          "output_type": "stream",
          "name": "stdout",
          "text": [
            "predict() 수행 결과값을 10개만 표시, 예측 확률값으로 표시됨\n",
            "[0.999 0.998 0.997 0.998 0.997 0.999 0.994 0.987 0.997 0.998]\n",
            "예측값 10개만 표시: [1, 1, 1, 1, 1, 1, 1, 1, 1, 1]\n"
          ]
        }
      ]
    },
    {
      "cell_type": "code",
      "source": [
        "import numpy as np\n",
        "import pandas as pd\n",
        "import matplotlib.pyplot as plt\n",
        "%matplotlib inline\n",
        "\n",
        "from sklearn.model_selection import train_test_split\n",
        "from sklearn.metrics import accuracy_score,precision_score,recall_score,roc_auc_score\n",
        "from sklearn.metrics import f1_score,confusion_matrix,precision_recall_curve,roc_curve\n",
        "from sklearn.preprocessing import StandardScaler\n",
        "from sklearn.linear_model import LogisticRegression"
      ],
      "metadata": {
        "id": "Lr07hNhEzTXf"
      },
      "execution_count": 169,
      "outputs": []
    },
    {
      "cell_type": "code",
      "source": [
        "def get_clf_eval(y_test, pred=None, pred_proba=None): #평가 한번에 호출하는 함수\n",
        "  confusion = confusion_matrix(y_test, pred)\n",
        "  accuracy = accuracy_score(y_test, pred)\n",
        "  precision = precision_score(y_test, pred)\n",
        "  recall = recall_score(y_test, pred)\n",
        "  f1 = f1_score(y_test, pred)\n",
        "\n",
        "  #ROC-AUC 추가\n",
        "  roc_auc = roc_auc_score(y_test, pred_proba)\n",
        "\n",
        "  print('오차행렬')\n",
        "  print(confusion)\n",
        "  print('정확도 : {0:.4f}, 정밀도 : {1:.4f}, 재현율:{2:.4f}, F1 : {3:.4f}, AUC : {4:.4f}'.format(accuracy, precision, recall, f1, roc_auc))"
      ],
      "metadata": {
        "id": "ddo10iVszXBx"
      },
      "execution_count": 170,
      "outputs": []
    },
    {
      "cell_type": "code",
      "source": [
        "get_clf_eval(y_test,preds,pred_probs)"
      ],
      "metadata": {
        "colab": {
          "base_uri": "https://localhost:8080/"
        },
        "id": "0h3yZ3kLzX43",
        "outputId": "41bc817b-acff-45b4-a112-ac433a1d3e33"
      },
      "execution_count": 171,
      "outputs": [
        {
          "output_type": "stream",
          "name": "stdout",
          "text": [
            "오차행렬\n",
            "[[ 0  3]\n",
            " [ 2 54]]\n",
            "정확도 : 0.9153, 정밀도 : 0.9474, 재현율:0.9643, F1 : 0.9558, AUC : 0.8095\n"
          ]
        }
      ]
    },
    {
      "cell_type": "code",
      "source": [
        "from xgboost import plot_importance\n",
        "import matplotlib.pyplot as plt\n",
        "%matplotlib inline\n",
        "\n",
        "fig,ax=plt.subplots(figsize=(10,12))\n",
        "plot_importance(xgb_model,ax=ax)"
      ],
      "metadata": {
        "colab": {
          "base_uri": "https://localhost:8080/",
          "height": 748
        },
        "id": "65m_TH30zemK",
        "outputId": "e75dade0-7364-4e4d-f904-6a509a4ddd02"
      },
      "execution_count": 172,
      "outputs": [
        {
          "output_type": "execute_result",
          "data": {
            "text/plain": [
              "<matplotlib.axes._subplots.AxesSubplot at 0x7f8398bffb50>"
            ]
          },
          "metadata": {},
          "execution_count": 172
        },
        {
          "output_type": "display_data",
          "data": {
            "text/plain": [
              "<Figure size 720x864 with 1 Axes>"
            ],
            "image/png": "[encoded data removed]"
          },
          "metadata": {
            "needs_background": "light"
          }
        }
      ]
    },
    {
      "cell_type": "code",
      "source": [
        "xgb.cv(params,dtrain,num_boost_round=10,nfold=3,stratified=False,metrics=(),obj=None,feval=None,maximize=False,early_stopping_rounds=None,fpreproc=None,as_pandas=True,verbose_eval=None, show_stdv=True, seed=0, callbacks=None, shuffle=True)"
      ],
      "metadata": {
        "colab": {
          "base_uri": "https://localhost:8080/",
          "height": 363
        },
        "id": "nlh4vYZ1zpAk",
        "outputId": "d9f2b747-cd03-4a1c-f268-7363d29eb668"
      },
      "execution_count": 176,
      "outputs": [
        {
          "output_type": "execute_result",
          "data": {
            "text/plain": [
              "   train-logloss-mean  train-logloss-std  test-logloss-mean  test-logloss-std\n",
              "0            0.613357           0.001069           0.618499          0.000779\n",
              "1            0.548317           0.002165           0.556972          0.001482\n",
              "2            0.493234           0.003646           0.507176          0.003371\n",
              "3            0.446821           0.004530           0.463530          0.003898\n",
              "4            0.406985           0.005205           0.426844          0.006757\n",
              "5            0.371851           0.005623           0.394614          0.007845\n",
              "6            0.340191           0.005925           0.367998          0.009078\n",
              "7            0.312730           0.005694           0.344538          0.009933\n",
              "8            0.287562           0.006247           0.324211          0.010887\n",
              "9            0.265093           0.006646           0.306768          0.013462"
            ],
            "text/html": [
              "\n",
              "  <div id=\"df-17707d11-f92a-4e2f-9760-e98b72071dd3\">\n",
              "    <div class=\"colab-df-container\">\n",
              "      <div>\n",
              "<style scoped>\n",
              "    .dataframe tbody tr th:only-of-type {\n",
              "        vertical-align: middle;\n",
              "    }\n",
              "\n",
              "    .dataframe tbody tr th {\n",
              "        vertical-align: top;\n",
              "    }\n",
              "\n",
              "    .dataframe thead th {\n",
              "        text-align: right;\n",
              "    }\n",
              "</style>\n",
              "<table border=\"1\" class=\"dataframe\">\n",
              "  <thead>\n",
              "    <tr style=\"text-align: right;\">\n",
              "      <th></th>\n",
              "      <th>train-logloss-mean</th>\n",
              "      <th>train-logloss-std</th>\n",
              "      <th>test-logloss-mean</th>\n",
              "      <th>test-logloss-std</th>\n",
              "    </tr>\n",
              "  </thead>\n",
              "  <tbody>\n",
              "    <tr>\n",
              "      <th>0</th>\n",
              "      <td>0.613357</td>\n",
              "      <td>0.001069</td>\n",
              "      <td>0.618499</td>\n",
              "      <td>0.000779</td>\n",
              "    </tr>\n",
              "    <tr>\n",
              "      <th>1</th>\n",
              "      <td>0.548317</td>\n",
              "      <td>0.002165</td>\n",
              "      <td>0.556972</td>\n",
              "      <td>0.001482</td>\n",
              "    </tr>\n",
              "    <tr>\n",
              "      <th>2</th>\n",
              "      <td>0.493234</td>\n",
              "      <td>0.003646</td>\n",
              "      <td>0.507176</td>\n",
              "      <td>0.003371</td>\n",
              "    </tr>\n",
              "    <tr>\n",
              "      <th>3</th>\n",
              "      <td>0.446821</td>\n",
              "      <td>0.004530</td>\n",
              "      <td>0.463530</td>\n",
              "      <td>0.003898</td>\n",
              "    </tr>\n",
              "    <tr>\n",
              "      <th>4</th>\n",
              "      <td>0.406985</td>\n",
              "      <td>0.005205</td>\n",
              "      <td>0.426844</td>\n",
              "      <td>0.006757</td>\n",
              "    </tr>\n",
              "    <tr>\n",
              "      <th>5</th>\n",
              "      <td>0.371851</td>\n",
              "      <td>0.005623</td>\n",
              "      <td>0.394614</td>\n",
              "      <td>0.007845</td>\n",
              "    </tr>\n",
              "    <tr>\n",
              "      <th>6</th>\n",
              "      <td>0.340191</td>\n",
              "      <td>0.005925</td>\n",
              "      <td>0.367998</td>\n",
              "      <td>0.009078</td>\n",
              "    </tr>\n",
              "    <tr>\n",
              "      <th>7</th>\n",
              "      <td>0.312730</td>\n",
              "      <td>0.005694</td>\n",
              "      <td>0.344538</td>\n",
              "      <td>0.009933</td>\n",
              "    </tr>\n",
              "    <tr>\n",
              "      <th>8</th>\n",
              "      <td>0.287562</td>\n",
              "      <td>0.006247</td>\n",
              "      <td>0.324211</td>\n",
              "      <td>0.010887</td>\n",
              "    </tr>\n",
              "    <tr>\n",
              "      <th>9</th>\n",
              "      <td>0.265093</td>\n",
              "      <td>0.006646</td>\n",
              "      <td>0.306768</td>\n",
              "      <td>0.013462</td>\n",
              "    </tr>\n",
              "  </tbody>\n",
              "</table>\n",
              "</div>\n",
              "      <button class=\"colab-df-convert\" onclick=\"convertToInteractive('df-17707d11-f92a-4e2f-9760-e98b72071dd3')\"\n",
              "              title=\"Convert this dataframe to an interactive table.\"\n",
              "              style=\"display:none;\">\n",
              "        \n",
              "  <svg xmlns=\"http://www.w3.org/2000/svg\" height=\"24px\"viewBox=\"0 0 24 24\"\n",
              "       width=\"24px\">\n",
              "    <path d=\"M0 0h24v24H0V0z\" fill=\"none\"/>\n",
              "    <path d=\"M18.56 5.44l.94 2.06.94-2.06 2.06-.94-2.06-.94-.94-2.06-.94 2.06-2.06.94zm-11 1L8.5 8.5l.94-2.06 2.06-.94-2.06-.94L8.5 2.5l-.94 2.06-2.06.94zm10 10l.94 2.06.94-2.06 2.06-.94-2.06-.94-.94-2.06-.94 2.06-2.06.94z\"/><path d=\"M17.41 7.96l-1.37-1.37c-.4-.4-.92-.59-1.43-.59-.52 0-1.04.2-1.43.59L10.3 9.45l-7.72 7.72c-.78.78-.78 2.05 0 2.83L4 21.41c.39.39.9.59 1.41.59.51 0 1.02-.2 1.41-.59l7.78-7.78 2.81-2.81c.8-.78.8-2.07 0-2.86zM5.41 20L4 18.59l7.72-7.72 1.47 1.35L5.41 20z\"/>\n",
              "  </svg>\n",
              "      </button>\n",
              "      \n",
              "  <style>\n",
              "    .colab-df-container {\n",
              "      display:flex;\n",
              "      flex-wrap:wrap;\n",
              "      gap: 12px;\n",
              "    }\n",
              "\n",
              "    .colab-df-convert {\n",
              "      background-color: #E8F0FE;\n",
              "      border: none;\n",
              "      border-radius: 50%;\n",
              "      cursor: pointer;\n",
              "      display: none;\n",
              "      fill: #1967D2;\n",
              "      height: 32px;\n",
              "      padding: 0 0 0 0;\n",
              "      width: 32px;\n",
              "    }\n",
              "\n",
              "    .colab-df-convert:hover {\n",
              "      background-color: #E2EBFA;\n",
              "      box-shadow: 0px 1px 2px rgba(60, 64, 67, 0.3), 0px 1px 3px 1px rgba(60, 64, 67, 0.15);\n",
              "      fill: #174EA6;\n",
              "    }\n",
              "\n",
              "    [theme=dark] .colab-df-convert {\n",
              "      background-color: #3B4455;\n",
              "      fill: #D2E3FC;\n",
              "    }\n",
              "\n",
              "    [theme=dark] .colab-df-convert:hover {\n",
              "      background-color: #434B5C;\n",
              "      box-shadow: 0px 1px 3px 1px rgba(0, 0, 0, 0.15);\n",
              "      filter: drop-shadow(0px 1px 2px rgba(0, 0, 0, 0.3));\n",
              "      fill: #FFFFFF;\n",
              "    }\n",
              "  </style>\n",
              "\n",
              "      <script>\n",
              "        const buttonEl =\n",
              "          document.querySelector('#df-17707d11-f92a-4e2f-9760-e98b72071dd3 button.colab-df-convert');\n",
              "        buttonEl.style.display =\n",
              "          google.colab.kernel.accessAllowed ? 'block' : 'none';\n",
              "\n",
              "        async function convertToInteractive(key) {\n",
              "          const element = document.querySelector('#df-17707d11-f92a-4e2f-9760-e98b72071dd3');\n",
              "          const dataTable =\n",
              "            await google.colab.kernel.invokeFunction('convertToInteractive',\n",
              "                                                     [key], {});\n",
              "          if (!dataTable) return;\n",
              "\n",
              "          const docLinkHtml = 'Like what you see? Visit the ' +\n",
              "            '<a target=\"_blank\" href=https://colab.research.google.com/notebooks/data_table.ipynb>data table notebook</a>'\n",
              "            + ' to learn more about interactive tables.';\n",
              "          element.innerHTML = '';\n",
              "          dataTable['output_type'] = 'display_data';\n",
              "          await google.colab.output.renderOutput(dataTable, element);\n",
              "          const docLink = document.createElement('div');\n",
              "          docLink.innerHTML = docLinkHtml;\n",
              "          element.appendChild(docLink);\n",
              "        }\n",
              "      </script>\n",
              "    </div>\n",
              "  </div>\n",
              "  "
            ]
          },
          "metadata": {},
          "execution_count": 176
        }
      ]
    }
  ]
}