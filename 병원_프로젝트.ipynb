{
  "nbformat": 4,
  "nbformat_minor": 0,
  "metadata": {
    "colab": {
      "provenance": [],
      "authorship_tag": "ABX9TyNt7SxxqgbooaHvfhz0lD65",
      "include_colab_link": true
    },
    "kernelspec": {
      "name": "python3",
      "display_name": "Python 3"
    },
    "language_info": {
      "name": "python"
    }
  },
  "cells": [
    {
      "cell_type": "markdown",
      "metadata": {
        "id": "view-in-github",
        "colab_type": "text"
      },
      "source": [
        "<a href=\"https://colab.research.google.com/github/chacha715/ESAA/blob/main/%EB%B3%91%EC%9B%90_%ED%94%84%EB%A1%9C%EC%A0%9D%ED%8A%B8.ipynb\" target=\"_parent\"><img src=\"https://colab.research.google.com/assets/colab-badge.svg\" alt=\"Open In Colab\"/></a>"
      ]
    },
    {
      "cell_type": "code",
      "source": [
        "from google.colab import drive\n",
        "drive.mount('/content/drive')"
      ],
      "metadata": {
        "colab": {
          "base_uri": "https://localhost:8080/"
        },
        "id": "7C9Mk3de0Ty1",
        "outputId": "e677bead-6a0f-4b1d-d8ef-98019d342f65"
      },
      "execution_count": 1,
      "outputs": [
        {
          "output_type": "stream",
          "name": "stdout",
          "text": [
            "Mounted at /content/drive\n"
          ]
        }
      ]
    },
    {
      "cell_type": "code",
      "source": [
        "import pandas as pd\n",
        "import numpy as np"
      ],
      "metadata": {
        "id": "QXzvnRrX0wg8"
      },
      "execution_count": 2,
      "outputs": []
    },
    {
      "cell_type": "code",
      "source": [
        "#train = pd.read_csv('/content/drive/MyDrive/ESAA/YB 1조/9565_hospital_data/train.csv')\n",
        "#test = pd.read_csv('/content/drive/MyDrive/ESAA/YB 1조/9565_hospital_data/test.csv')\n",
        "\n",
        "train = pd.read_csv('/content/drive/MyDrive/ESAA/YB 1조/train 지역변수 추가.csv')\n",
        "test = pd.read_csv('/content/drive/MyDrive/ESAA/YB 1조/test 지역변수 추가.csv')"
      ],
      "metadata": {
        "id": "3uf7rQnN0UMe"
      },
      "execution_count": 3,
      "outputs": []
    },
    {
      "cell_type": "markdown",
      "source": [
        "\n",
        "\n",
        "```\n",
        "# EDA 전처리\n",
        "```\n",
        "\n"
      ],
      "metadata": {
        "id": "S863C_Sf6tzy"
      }
    },
    {
      "cell_type": "code",
      "execution_count": 13,
      "metadata": {
        "id": "r1CzAfz6zWrE"
      },
      "outputs": [],
      "source": [
        "#train.drop(['inst_id','sgg'],axis=1,inplace=True)\n",
        "\n",
        "train.dropna(subset=['instkind'],axis=0,inplace=True)\n",
        "test.dropna(subset=['instkind'],axis=0,inplace=True)"
      ]
    },
    {
      "cell_type": "code",
      "source": [
        "#train.dropna(subset=['instkind'],axis=0,inplace=True)\n",
        "\n",
        "train['ownerChange'].mode()[0]\n",
        "train.loc[train['ownerChange'].isna(),'ownerChange'] = train['ownerChange'].mode()[0]\n",
        "train['ownerChange'].isna().sum()\n",
        "\n",
        "test['ownerChange'].mode()[0]\n",
        "test.loc[test['ownerChange'].isna(),'ownerChange'] = test['ownerChange'].mode()[0]\n",
        "test['ownerChange'].isna().sum()"
      ],
      "metadata": {
        "id": "x12T4qCmzYrL",
        "colab": {
          "base_uri": "https://localhost:8080/"
        },
        "outputId": "4d927df4-b2f7-4ce7-92c3-526411147cdd"
      },
      "execution_count": 14,
      "outputs": [
        {
          "output_type": "execute_result",
          "data": {
            "text/plain": [
              "0"
            ]
          },
          "metadata": {},
          "execution_count": 14
        }
      ]
    },
    {
      "cell_type": "code",
      "source": [
        "train.dropna(subset=['salescost1'],axis=0,inplace=True)\n",
        "test.dropna(subset=['salescost1'],axis=0,inplace=True)"
      ],
      "metadata": {
        "id": "FdKhsmJx5Ih9"
      },
      "execution_count": 16,
      "outputs": []
    },
    {
      "cell_type": "code",
      "source": [
        "train.groupby('instkind')['bedCount'].mean()\n",
        "train['bedCount'] = train['bedCount'].fillna(train.groupby('instkind')['bedCount'].transform('mean')) \n",
        "train['bedCount'].isnull().sum()\n",
        "\n",
        "test.groupby('instkind')['bedCount'].mean()\n",
        "test['bedCount'] = test['bedCount'].fillna(test.groupby('instkind')['bedCount'].transform('mean')) \n",
        "test['bedCount'].isnull().sum()"
      ],
      "metadata": {
        "colab": {
          "base_uri": "https://localhost:8080/"
        },
        "id": "m-HEofLz5K13",
        "outputId": "ca7464cc-a00f-447f-a61c-d9975b98dd90"
      },
      "execution_count": 17,
      "outputs": [
        {
          "output_type": "execute_result",
          "data": {
            "text/plain": [
              "1"
            ]
          },
          "metadata": {},
          "execution_count": 17
        }
      ]
    },
    {
      "cell_type": "code",
      "source": [
        "for i in range(0,len(train[\"OC\"])):\n",
        "  if train.iloc[i,0] == \"open\":\n",
        "    train.iloc[i, 0]=1\n",
        "  else:\n",
        "    train.iloc[i, 0]=0 "
      ],
      "metadata": {
        "id": "ptsCX-qP5QlB"
      },
      "execution_count": 18,
      "outputs": []
    },
    {
      "cell_type": "code",
      "source": [
        "round(train['ownerChange'].value_counts(normalize=True),3)\n",
        "train['ownerChange'] = train['ownerChange'].fillna(pd.Series(np.random.choice(['same','change'], p=[0.85,0.15],size = 300))) "
      ],
      "metadata": {
        "id": "RXG9tNh75VsL"
      },
      "execution_count": 19,
      "outputs": []
    },
    {
      "cell_type": "markdown",
      "source": [
        "\n",
        "\n",
        "```\n",
        "# 파생변수 생성\n",
        "```\n",
        "\n"
      ],
      "metadata": {
        "id": "cs-B7-pH6ymI"
      }
    },
    {
      "cell_type": "code",
      "source": [
        "#매출액순이익율=당기순이익/자기자본*100\n",
        "\n",
        "train['매출액순이익율'] = train.profit1/train.revenue1*100"
      ],
      "metadata": {
        "id": "L-6XXoQd1W05"
      },
      "execution_count": 21,
      "outputs": []
    },
    {
      "cell_type": "code",
      "source": [
        "#배당성향=배당금/당기순이익\n",
        "#배당금=당기순이익-이익잉여금\n",
        "\n",
        "train['배당성향'] = (train.profit1-train.surplus1)/train.profit1"
      ],
      "metadata": {
        "id": "ArBwcwRD1vEE"
      },
      "execution_count": 22,
      "outputs": []
    },
    {
      "cell_type": "code",
      "source": [
        "#이자보상비율=영업이익/이자비용*100\n",
        "#영업손익은 매출액 등의 영업수익으로부터 매출원가ㆍ판매비와관리비 등의 영업비용을 차감한 개념 (영업 외 이익과 비용도 차감)\n",
        "\n",
        "train['이자보상비율'] = (train.revenue1-train.salescost1-train.sga1-train.noi1-train.noe1)/train.interest1*100"
      ],
      "metadata": {
        "id": "gXY3Rayz1x9B"
      },
      "execution_count": 23,
      "outputs": []
    },
    {
      "cell_type": "code",
      "source": [
        "##은서\n",
        "\n",
        "#재고자산회전율=매출원가/평균재고자산\n",
        "train['재고자산회전율']=train.salescost1/((train.inventoryAsset1+train.inventoryAsset2)/2)\n",
        "\n",
        "#자기자본비율=자기자본/총자본*100\n",
        "train['자기자본비율']=train.netAsset1/(train.debt1+train.netAsset1)*100"
      ],
      "metadata": {
        "id": "4osYon684fMi"
      },
      "execution_count": 24,
      "outputs": []
    },
    {
      "cell_type": "code",
      "source": [
        "##현서\n",
        "\n",
        "#유동비율 = 유동자산/유동부채 *100\n",
        "train['유동비율']=(train['liquidAsset1']/train['liquidLiabilities1'])*100\n",
        "#당좌비율 = (유동자산-재고자산)/유동부채 *100\n",
        "train['당좌비율']=(train['quickAsset1']/train['liquidLiabilities1'])*100\n",
        "#부채비율 = 부채/자본 *100\n",
        "train['부채비율']=(train['debt1']/(train['debt1']+train['netAsset1']))*100"
      ],
      "metadata": {
        "id": "33OLGnKw4oh-"
      },
      "execution_count": 25,
      "outputs": []
    },
    {
      "cell_type": "code",
      "source": [
        "##재령\n",
        "\n",
        "train['매출액증가율']=(train['revenue1']/train['revenue2'])*100-100\n",
        "train['총자산증가율']=(train['netAsset1']+train['debt1'])/(train['netAsset2']+train['debt2'])*100 -100\n",
        "train['ROE']=(train['profit1']/train['netAsset1'])*100"
      ],
      "metadata": {
        "id": "ScaZLrf44u2H"
      },
      "execution_count": 26,
      "outputs": []
    },
    {
      "cell_type": "code",
      "source": [
        "##미수\n",
        "\n",
        "train.loc[train.bedCount>300,'hospital_size']=1\n",
        "train.loc[train.bedCount<=300,'hospital_size']=0"
      ],
      "metadata": {
        "id": "SnKWfJFK5aE-"
      },
      "execution_count": 20,
      "outputs": []
    },
    {
      "cell_type": "code",
      "source": [
        "train.describe()"
      ],
      "metadata": {
        "colab": {
          "base_uri": "https://localhost:8080/",
          "height": 411
        },
        "id": "cIiItPO_6Yy5",
        "outputId": "d6ded684-9e0d-45a6-de8d-4a908e52224c"
      },
      "execution_count": 32,
      "outputs": [
        {
          "output_type": "execute_result",
          "data": {
            "text/plain": [
              "           openDate    bedCount      revenue1    salescost1          sga1  \\\n",
              "count  2.920000e+02  292.000000  2.920000e+02  2.920000e+02  2.920000e+02   \n",
              "mean   2.005035e+07  142.673888  1.292482e+10  2.021726e+09  1.036622e+10   \n",
              "std    8.859836e+04  117.585777  2.045719e+10  7.472162e+09  1.495329e+10   \n",
              "min    1.978012e+07    0.000000  0.000000e+00  0.000000e+00  0.000000e+00   \n",
              "25%    2.001117e+07   52.000000  3.261234e+09  0.000000e+00  2.825778e+09   \n",
              "50%    2.007116e+07  133.000000  5.554592e+09  2.112576e+08  4.717490e+09   \n",
              "75%    2.011087e+07  185.250000  1.286315e+10  9.106278e+08  1.078348e+10   \n",
              "max    2.017061e+07  656.000000  1.510000e+11  9.850332e+10  1.030000e+11   \n",
              "\n",
              "            salary1          noi1          noe1     interest1         ctax1  \\\n",
              "count  2.920000e+02  2.920000e+02  2.920000e+02  2.920000e+02  2.920000e+02   \n",
              "mean   5.672605e+09  2.704924e+08  5.130304e+08  1.875221e+08  7.874196e+07   \n",
              "std    8.091010e+09  8.036068e+08  1.061911e+09  2.741262e+08  2.489944e+08   \n",
              "min    0.000000e+00  0.000000e+00  0.000000e+00  0.000000e+00  0.000000e+00   \n",
              "25%    1.631012e+09  8.179622e+06  8.007077e+07  5.172361e+07  0.000000e+00   \n",
              "50%    2.664001e+09  4.482983e+07  1.839620e+08  1.098159e+08  1.134180e+06   \n",
              "75%    6.380456e+09  2.057630e+08  4.221954e+08  2.251664e+08  4.445450e+07   \n",
              "max    6.403559e+10  9.144171e+09  8.686380e+09  2.841475e+09  2.808883e+09   \n",
              "\n",
              "       ...      이자보상비율     재고자산회전율      자기자본비율        유동비율        당좌비율  \\\n",
              "count  ...  292.000000  266.000000  264.000000  267.000000  267.000000   \n",
              "mean   ...         NaN         inf   38.723885         inf         inf   \n",
              "std    ...         NaN         NaN   42.123776         NaN         NaN   \n",
              "min    ...        -inf    0.000000 -437.041102    5.153869    5.153869   \n",
              "25%    ... -314.944860    1.116397   26.705177   41.047893   38.650658   \n",
              "50%    ...    4.822876   11.483622   41.252349   81.437475   78.845424   \n",
              "75%    ...  211.103501   33.901424   55.060157  199.245287  192.412602   \n",
              "max    ...         inf         inf  100.000000         inf         inf   \n",
              "\n",
              "             부채비율      매출액증가율      총자산증가율         ROE  hospital_size  \n",
              "count  264.000000  289.000000  264.000000  292.000000     292.000000  \n",
              "mean    61.276115         inf         inf         NaN       0.078767  \n",
              "std     42.123776         NaN         NaN         NaN       0.269837  \n",
              "min      0.000000 -100.000000  -24.096703        -inf       0.000000  \n",
              "25%     44.939843   -1.397761   -1.258887   -0.007859       0.000000  \n",
              "50%     58.747651    3.724451    2.644641    3.478714       0.000000  \n",
              "75%     73.294823   12.852503    9.923170    9.941502       0.000000  \n",
              "max    537.041102         inf         inf         inf       1.000000  \n",
              "\n",
              "[8 rows x 65 columns]"
            ],
            "text/html": [
              "\n",
              "  <div id=\"df-46ed4e1a-a142-4f35-bfc8-ce094a315d52\">\n",
              "    <div class=\"colab-df-container\">\n",
              "      <div>\n",
              "<style scoped>\n",
              "    .dataframe tbody tr th:only-of-type {\n",
              "        vertical-align: middle;\n",
              "    }\n",
              "\n",
              "    .dataframe tbody tr th {\n",
              "        vertical-align: top;\n",
              "    }\n",
              "\n",
              "    .dataframe thead th {\n",
              "        text-align: right;\n",
              "    }\n",
              "</style>\n",
              "<table border=\"1\" class=\"dataframe\">\n",
              "  <thead>\n",
              "    <tr style=\"text-align: right;\">\n",
              "      <th></th>\n",
              "      <th>openDate</th>\n",
              "      <th>bedCount</th>\n",
              "      <th>revenue1</th>\n",
              "      <th>salescost1</th>\n",
              "      <th>sga1</th>\n",
              "      <th>salary1</th>\n",
              "      <th>noi1</th>\n",
              "      <th>noe1</th>\n",
              "      <th>interest1</th>\n",
              "      <th>ctax1</th>\n",
              "      <th>...</th>\n",
              "      <th>이자보상비율</th>\n",
              "      <th>재고자산회전율</th>\n",
              "      <th>자기자본비율</th>\n",
              "      <th>유동비율</th>\n",
              "      <th>당좌비율</th>\n",
              "      <th>부채비율</th>\n",
              "      <th>매출액증가율</th>\n",
              "      <th>총자산증가율</th>\n",
              "      <th>ROE</th>\n",
              "      <th>hospital_size</th>\n",
              "    </tr>\n",
              "  </thead>\n",
              "  <tbody>\n",
              "    <tr>\n",
              "      <th>count</th>\n",
              "      <td>2.920000e+02</td>\n",
              "      <td>292.000000</td>\n",
              "      <td>2.920000e+02</td>\n",
              "      <td>2.920000e+02</td>\n",
              "      <td>2.920000e+02</td>\n",
              "      <td>2.920000e+02</td>\n",
              "      <td>2.920000e+02</td>\n",
              "      <td>2.920000e+02</td>\n",
              "      <td>2.920000e+02</td>\n",
              "      <td>2.920000e+02</td>\n",
              "      <td>...</td>\n",
              "      <td>292.000000</td>\n",
              "      <td>266.000000</td>\n",
              "      <td>264.000000</td>\n",
              "      <td>267.000000</td>\n",
              "      <td>267.000000</td>\n",
              "      <td>264.000000</td>\n",
              "      <td>289.000000</td>\n",
              "      <td>264.000000</td>\n",
              "      <td>292.000000</td>\n",
              "      <td>292.000000</td>\n",
              "    </tr>\n",
              "    <tr>\n",
              "      <th>mean</th>\n",
              "      <td>2.005035e+07</td>\n",
              "      <td>142.673888</td>\n",
              "      <td>1.292482e+10</td>\n",
              "      <td>2.021726e+09</td>\n",
              "      <td>1.036622e+10</td>\n",
              "      <td>5.672605e+09</td>\n",
              "      <td>2.704924e+08</td>\n",
              "      <td>5.130304e+08</td>\n",
              "      <td>1.875221e+08</td>\n",
              "      <td>7.874196e+07</td>\n",
              "      <td>...</td>\n",
              "      <td>NaN</td>\n",
              "      <td>inf</td>\n",
              "      <td>38.723885</td>\n",
              "      <td>inf</td>\n",
              "      <td>inf</td>\n",
              "      <td>61.276115</td>\n",
              "      <td>inf</td>\n",
              "      <td>inf</td>\n",
              "      <td>NaN</td>\n",
              "      <td>0.078767</td>\n",
              "    </tr>\n",
              "    <tr>\n",
              "      <th>std</th>\n",
              "      <td>8.859836e+04</td>\n",
              "      <td>117.585777</td>\n",
              "      <td>2.045719e+10</td>\n",
              "      <td>7.472162e+09</td>\n",
              "      <td>1.495329e+10</td>\n",
              "      <td>8.091010e+09</td>\n",
              "      <td>8.036068e+08</td>\n",
              "      <td>1.061911e+09</td>\n",
              "      <td>2.741262e+08</td>\n",
              "      <td>2.489944e+08</td>\n",
              "      <td>...</td>\n",
              "      <td>NaN</td>\n",
              "      <td>NaN</td>\n",
              "      <td>42.123776</td>\n",
              "      <td>NaN</td>\n",
              "      <td>NaN</td>\n",
              "      <td>42.123776</td>\n",
              "      <td>NaN</td>\n",
              "      <td>NaN</td>\n",
              "      <td>NaN</td>\n",
              "      <td>0.269837</td>\n",
              "    </tr>\n",
              "    <tr>\n",
              "      <th>min</th>\n",
              "      <td>1.978012e+07</td>\n",
              "      <td>0.000000</td>\n",
              "      <td>0.000000e+00</td>\n",
              "      <td>0.000000e+00</td>\n",
              "      <td>0.000000e+00</td>\n",
              "      <td>0.000000e+00</td>\n",
              "      <td>0.000000e+00</td>\n",
              "      <td>0.000000e+00</td>\n",
              "      <td>0.000000e+00</td>\n",
              "      <td>0.000000e+00</td>\n",
              "      <td>...</td>\n",
              "      <td>-inf</td>\n",
              "      <td>0.000000</td>\n",
              "      <td>-437.041102</td>\n",
              "      <td>5.153869</td>\n",
              "      <td>5.153869</td>\n",
              "      <td>0.000000</td>\n",
              "      <td>-100.000000</td>\n",
              "      <td>-24.096703</td>\n",
              "      <td>-inf</td>\n",
              "      <td>0.000000</td>\n",
              "    </tr>\n",
              "    <tr>\n",
              "      <th>25%</th>\n",
              "      <td>2.001117e+07</td>\n",
              "      <td>52.000000</td>\n",
              "      <td>3.261234e+09</td>\n",
              "      <td>0.000000e+00</td>\n",
              "      <td>2.825778e+09</td>\n",
              "      <td>1.631012e+09</td>\n",
              "      <td>8.179622e+06</td>\n",
              "      <td>8.007077e+07</td>\n",
              "      <td>5.172361e+07</td>\n",
              "      <td>0.000000e+00</td>\n",
              "      <td>...</td>\n",
              "      <td>-314.944860</td>\n",
              "      <td>1.116397</td>\n",
              "      <td>26.705177</td>\n",
              "      <td>41.047893</td>\n",
              "      <td>38.650658</td>\n",
              "      <td>44.939843</td>\n",
              "      <td>-1.397761</td>\n",
              "      <td>-1.258887</td>\n",
              "      <td>-0.007859</td>\n",
              "      <td>0.000000</td>\n",
              "    </tr>\n",
              "    <tr>\n",
              "      <th>50%</th>\n",
              "      <td>2.007116e+07</td>\n",
              "      <td>133.000000</td>\n",
              "      <td>5.554592e+09</td>\n",
              "      <td>2.112576e+08</td>\n",
              "      <td>4.717490e+09</td>\n",
              "      <td>2.664001e+09</td>\n",
              "      <td>4.482983e+07</td>\n",
              "      <td>1.839620e+08</td>\n",
              "      <td>1.098159e+08</td>\n",
              "      <td>1.134180e+06</td>\n",
              "      <td>...</td>\n",
              "      <td>4.822876</td>\n",
              "      <td>11.483622</td>\n",
              "      <td>41.252349</td>\n",
              "      <td>81.437475</td>\n",
              "      <td>78.845424</td>\n",
              "      <td>58.747651</td>\n",
              "      <td>3.724451</td>\n",
              "      <td>2.644641</td>\n",
              "      <td>3.478714</td>\n",
              "      <td>0.000000</td>\n",
              "    </tr>\n",
              "    <tr>\n",
              "      <th>75%</th>\n",
              "      <td>2.011087e+07</td>\n",
              "      <td>185.250000</td>\n",
              "      <td>1.286315e+10</td>\n",
              "      <td>9.106278e+08</td>\n",
              "      <td>1.078348e+10</td>\n",
              "      <td>6.380456e+09</td>\n",
              "      <td>2.057630e+08</td>\n",
              "      <td>4.221954e+08</td>\n",
              "      <td>2.251664e+08</td>\n",
              "      <td>4.445450e+07</td>\n",
              "      <td>...</td>\n",
              "      <td>211.103501</td>\n",
              "      <td>33.901424</td>\n",
              "      <td>55.060157</td>\n",
              "      <td>199.245287</td>\n",
              "      <td>192.412602</td>\n",
              "      <td>73.294823</td>\n",
              "      <td>12.852503</td>\n",
              "      <td>9.923170</td>\n",
              "      <td>9.941502</td>\n",
              "      <td>0.000000</td>\n",
              "    </tr>\n",
              "    <tr>\n",
              "      <th>max</th>\n",
              "      <td>2.017061e+07</td>\n",
              "      <td>656.000000</td>\n",
              "      <td>1.510000e+11</td>\n",
              "      <td>9.850332e+10</td>\n",
              "      <td>1.030000e+11</td>\n",
              "      <td>6.403559e+10</td>\n",
              "      <td>9.144171e+09</td>\n",
              "      <td>8.686380e+09</td>\n",
              "      <td>2.841475e+09</td>\n",
              "      <td>2.808883e+09</td>\n",
              "      <td>...</td>\n",
              "      <td>inf</td>\n",
              "      <td>inf</td>\n",
              "      <td>100.000000</td>\n",
              "      <td>inf</td>\n",
              "      <td>inf</td>\n",
              "      <td>537.041102</td>\n",
              "      <td>inf</td>\n",
              "      <td>inf</td>\n",
              "      <td>inf</td>\n",
              "      <td>1.000000</td>\n",
              "    </tr>\n",
              "  </tbody>\n",
              "</table>\n",
              "<p>8 rows × 65 columns</p>\n",
              "</div>\n",
              "      <button class=\"colab-df-convert\" onclick=\"convertToInteractive('df-46ed4e1a-a142-4f35-bfc8-ce094a315d52')\"\n",
              "              title=\"Convert this dataframe to an interactive table.\"\n",
              "              style=\"display:none;\">\n",
              "        \n",
              "  <svg xmlns=\"http://www.w3.org/2000/svg\" height=\"24px\"viewBox=\"0 0 24 24\"\n",
              "       width=\"24px\">\n",
              "    <path d=\"M0 0h24v24H0V0z\" fill=\"none\"/>\n",
              "    <path d=\"M18.56 5.44l.94 2.06.94-2.06 2.06-.94-2.06-.94-.94-2.06-.94 2.06-2.06.94zm-11 1L8.5 8.5l.94-2.06 2.06-.94-2.06-.94L8.5 2.5l-.94 2.06-2.06.94zm10 10l.94 2.06.94-2.06 2.06-.94-2.06-.94-.94-2.06-.94 2.06-2.06.94z\"/><path d=\"M17.41 7.96l-1.37-1.37c-.4-.4-.92-.59-1.43-.59-.52 0-1.04.2-1.43.59L10.3 9.45l-7.72 7.72c-.78.78-.78 2.05 0 2.83L4 21.41c.39.39.9.59 1.41.59.51 0 1.02-.2 1.41-.59l7.78-7.78 2.81-2.81c.8-.78.8-2.07 0-2.86zM5.41 20L4 18.59l7.72-7.72 1.47 1.35L5.41 20z\"/>\n",
              "  </svg>\n",
              "      </button>\n",
              "      \n",
              "  <style>\n",
              "    .colab-df-container {\n",
              "      display:flex;\n",
              "      flex-wrap:wrap;\n",
              "      gap: 12px;\n",
              "    }\n",
              "\n",
              "    .colab-df-convert {\n",
              "      background-color: #E8F0FE;\n",
              "      border: none;\n",
              "      border-radius: 50%;\n",
              "      cursor: pointer;\n",
              "      display: none;\n",
              "      fill: #1967D2;\n",
              "      height: 32px;\n",
              "      padding: 0 0 0 0;\n",
              "      width: 32px;\n",
              "    }\n",
              "\n",
              "    .colab-df-convert:hover {\n",
              "      background-color: #E2EBFA;\n",
              "      box-shadow: 0px 1px 2px rgba(60, 64, 67, 0.3), 0px 1px 3px 1px rgba(60, 64, 67, 0.15);\n",
              "      fill: #174EA6;\n",
              "    }\n",
              "\n",
              "    [theme=dark] .colab-df-convert {\n",
              "      background-color: #3B4455;\n",
              "      fill: #D2E3FC;\n",
              "    }\n",
              "\n",
              "    [theme=dark] .colab-df-convert:hover {\n",
              "      background-color: #434B5C;\n",
              "      box-shadow: 0px 1px 3px 1px rgba(0, 0, 0, 0.15);\n",
              "      filter: drop-shadow(0px 1px 2px rgba(0, 0, 0, 0.3));\n",
              "      fill: #FFFFFF;\n",
              "    }\n",
              "  </style>\n",
              "\n",
              "      <script>\n",
              "        const buttonEl =\n",
              "          document.querySelector('#df-46ed4e1a-a142-4f35-bfc8-ce094a315d52 button.colab-df-convert');\n",
              "        buttonEl.style.display =\n",
              "          google.colab.kernel.accessAllowed ? 'block' : 'none';\n",
              "\n",
              "        async function convertToInteractive(key) {\n",
              "          const element = document.querySelector('#df-46ed4e1a-a142-4f35-bfc8-ce094a315d52');\n",
              "          const dataTable =\n",
              "            await google.colab.kernel.invokeFunction('convertToInteractive',\n",
              "                                                     [key], {});\n",
              "          if (!dataTable) return;\n",
              "\n",
              "          const docLinkHtml = 'Like what you see? Visit the ' +\n",
              "            '<a target=\"_blank\" href=https://colab.research.google.com/notebooks/data_table.ipynb>data table notebook</a>'\n",
              "            + ' to learn more about interactive tables.';\n",
              "          element.innerHTML = '';\n",
              "          dataTable['output_type'] = 'display_data';\n",
              "          await google.colab.output.renderOutput(dataTable, element);\n",
              "          const docLink = document.createElement('div');\n",
              "          docLink.innerHTML = docLinkHtml;\n",
              "          element.appendChild(docLink);\n",
              "        }\n",
              "      </script>\n",
              "    </div>\n",
              "  </div>\n",
              "  "
            ]
          },
          "metadata": {},
          "execution_count": 32
        }
      ]
    },
    {
      "cell_type": "code",
      "source": [
        "train['profit1'].describe()"
      ],
      "metadata": {
        "colab": {
          "base_uri": "https://localhost:8080/"
        },
        "id": "g-1nwt4O8mPQ",
        "outputId": "20fdb742-137c-4fae-f1fa-25a364d4b4c8"
      },
      "execution_count": 34,
      "outputs": [
        {
          "output_type": "execute_result",
          "data": {
            "text/plain": [
              "count    2.920000e+02\n",
              "mean     2.117841e+08\n",
              "std      1.136284e+09\n",
              "min     -4.696701e+09\n",
              "25%     -5.420698e+05\n",
              "50%      8.208208e+07\n",
              "75%      2.946849e+08\n",
              "max      7.475427e+09\n",
              "Name: profit1, dtype: float64"
            ]
          },
          "metadata": {},
          "execution_count": 34
        }
      ]
    },
    {
      "cell_type": "code",
      "source": [
        "train['revenue1'].isnull().sum()"
      ],
      "metadata": {
        "colab": {
          "base_uri": "https://localhost:8080/"
        },
        "id": "8mtYLDGb7BD2",
        "outputId": "99ec1a27-01ab-4677-8dce-969192f0661e"
      },
      "execution_count": 36,
      "outputs": [
        {
          "output_type": "execute_result",
          "data": {
            "text/plain": [
              "0"
            ]
          },
          "metadata": {},
          "execution_count": 36
        }
      ]
    }
  ]
}