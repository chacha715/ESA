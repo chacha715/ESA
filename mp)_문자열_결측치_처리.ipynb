{
  "nbformat": 4,
  "nbformat_minor": 0,
  "metadata": {
    "colab": {
      "provenance": [],
      "authorship_tag": "ABX9TyO6iz/apJRBk6ExtnkuF4EV",
      "include_colab_link": true
    },
    "kernelspec": {
      "name": "python3",
      "display_name": "Python 3"
    },
    "language_info": {
      "name": "python"
    }
  },
  "cells": [
    {
      "cell_type": "markdown",
      "metadata": {
        "id": "view-in-github",
        "colab_type": "text"
      },
      "source": [
        "<a href=\"https://colab.research.google.com/github/chacha715/ESAA/blob/main/mp)_%EB%AC%B8%EC%9E%90%EC%97%B4_%EA%B2%B0%EC%B8%A1%EC%B9%98_%EC%B2%98%EB%A6%AC.ipynb\" target=\"_parent\"><img src=\"https://colab.research.google.com/assets/colab-badge.svg\" alt=\"Open In Colab\"/></a>"
      ]
    },
    {
      "cell_type": "code",
      "execution_count": 1,
      "metadata": {
        "colab": {
          "base_uri": "https://localhost:8080/"
        },
        "id": "SBCBtBFsolY9",
        "outputId": "7d377cb3-6f87-4325-9d67-62c3745358a2"
      },
      "outputs": [
        {
          "output_type": "stream",
          "name": "stdout",
          "text": [
            "Mounted at /content/drive\n"
          ]
        }
      ],
      "source": [
        "from google.colab import drive\n",
        "drive.mount('/content/drive')"
      ]
    },
    {
      "cell_type": "code",
      "source": [
        "import pandas as pd\n",
        "import numpy as np"
      ],
      "metadata": {
        "id": "4i8s1k-aooZG"
      },
      "execution_count": 2,
      "outputs": []
    },
    {
      "cell_type": "code",
      "source": [
        "train = pd.read_csv('/content/drive/MyDrive/ESAA/YB 1조/train 지역변수 추가.csv')\n",
        "test = pd.read_csv('/content/drive/MyDrive/ESAA/YB 1조/test 지역변수 추가.csv')"
      ],
      "metadata": {
        "id": "eh-EwCk3opaz"
      },
      "execution_count": 3,
      "outputs": []
    },
    {
      "cell_type": "markdown",
      "source": [
        "## **문자열 결측치 처리**\n",
        "\n",
        "*   instkind : 결측치 1개, 2개 -> NotSure 처리 후 원핫 인코딩\n",
        "*   ownerChange : 결측치 12개, 15개 -> NotSure 처리 후 원핫 인코딩\n",
        "*   sido : 결측치 없음 -> 레이블 인코딩\n",
        "\n"
      ],
      "metadata": {
        "id": "mPOuRMvephfr"
      }
    },
    {
      "cell_type": "code",
      "source": [
        "#train['instkind'].isnull().sum()"
      ],
      "metadata": {
        "id": "PVj8WA1Wo27-"
      },
      "execution_count": null,
      "outputs": []
    },
    {
      "cell_type": "code",
      "source": [
        "#train['ownerChange'].isnull().sum()"
      ],
      "metadata": {
        "id": "r0l6iJkIpZut"
      },
      "execution_count": null,
      "outputs": []
    },
    {
      "cell_type": "code",
      "source": [
        "#test['sido'].isnull().sum()"
      ],
      "metadata": {
        "id": "bDl9HlKMpaX1"
      },
      "execution_count": null,
      "outputs": []
    },
    {
      "cell_type": "code",
      "source": [
        "train['instkind'] = train['instkind'].fillna('Not_sure')\n",
        "test['instkind'] = test['instkind'].fillna('Not_sure')"
      ],
      "metadata": {
        "id": "1Osv2MYVqBqr"
      },
      "execution_count": 12,
      "outputs": []
    },
    {
      "cell_type": "code",
      "source": [
        "train['ownerChange'] = train['ownerChange'].fillna('Not_sure')\n",
        "test['ownerChange'] = test['ownerChange'].fillna('Not_sure')"
      ],
      "metadata": {
        "id": "tnvKhCiOr6Sk"
      },
      "execution_count": 15,
      "outputs": []
    },
    {
      "cell_type": "code",
      "source": [
        "from sklearn.preprocessing import LabelEncoder"
      ],
      "metadata": {
        "id": "GxzCa38Qs6sl"
      },
      "execution_count": 18,
      "outputs": []
    },
    {
      "cell_type": "code",
      "source": [
        "encoder = LabelEncoder()\n",
        "train['sido'] = encoder.fit_transform(train['sido'])\n",
        "test['sido'] = encoder.fit_transform(test['sido'])"
      ],
      "metadata": {
        "id": "_xgFDcPXuE6D"
      },
      "execution_count": 27,
      "outputs": []
    },
    {
      "cell_type": "code",
      "source": [
        "#test['sido'].value_counts()"
      ],
      "metadata": {
        "id": "HqPhHiweuNzI"
      },
      "execution_count": null,
      "outputs": []
    },
    {
      "cell_type": "code",
      "source": [
        "train = pd.get_dummies(train)\n",
        "test = pd.get_dummies(test)"
      ],
      "metadata": {
        "id": "QbNkfwVRupFT"
      },
      "execution_count": 33,
      "outputs": []
    },
    {
      "cell_type": "code",
      "source": [
        "#train.head()"
      ],
      "metadata": {
        "id": "tGPnH83Au6gK"
      },
      "execution_count": null,
      "outputs": []
    }
  ]
}