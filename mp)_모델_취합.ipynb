{
  "nbformat": 4,
  "nbformat_minor": 0,
  "metadata": {
    "colab": {
      "provenance": [],
      "collapsed_sections": [
        "yJEtcM1CWISC"
      ],
      "include_colab_link": true
    },
    "kernelspec": {
      "name": "python3",
      "display_name": "Python 3"
    },
    "language_info": {
      "name": "python"
    }
  },
  "cells": [
    {
      "cell_type": "markdown",
      "metadata": {
        "id": "view-in-github",
        "colab_type": "text"
      },
      "source": [
        "<a href=\"https://colab.research.google.com/github/chacha715/ESAA/blob/main/mp)_%EB%AA%A8%EB%8D%B8_%EC%B7%A8%ED%95%A9.ipynb\" target=\"_parent\"><img src=\"https://colab.research.google.com/assets/colab-badge.svg\" alt=\"Open In Colab\"/></a>"
      ]
    },
    {
      "cell_type": "markdown",
      "source": [
        "# 1. 데이터셋 불러오기"
      ],
      "metadata": {
        "id": "VUNeMw_d4wfl"
      }
    },
    {
      "cell_type": "code",
      "source": [
        "from google.colab import drive\n",
        "drive.mount('/content/drive')"
      ],
      "metadata": {
        "colab": {
          "base_uri": "https://localhost:8080/"
        },
        "id": "ABUjIUKMxegh",
        "outputId": "c0021069-e792-4cee-ec05-1f4c3c58bcbd"
      },
      "execution_count": 40,
      "outputs": [
        {
          "output_type": "stream",
          "name": "stdout",
          "text": [
            "Drive already mounted at /content/drive; to attempt to forcibly remount, call drive.mount(\"/content/drive\", force_remount=True).\n"
          ]
        }
      ]
    },
    {
      "cell_type": "code",
      "execution_count": 41,
      "metadata": {
        "id": "NfniDTZpxaOY"
      },
      "outputs": [],
      "source": [
        "import numpy as np\n",
        "import pandas as pd "
      ]
    },
    {
      "cell_type": "code",
      "source": [
        "pd.options.display.float_format = '{:.2f}'.format"
      ],
      "metadata": {
        "id": "SS76bsRShZag"
      },
      "execution_count": 42,
      "outputs": []
    },
    {
      "cell_type": "code",
      "source": [
        "train = pd.read_csv('/content/drive/MyDrive/ESAA/YB 1조/train 지역변수 추가.csv')\n",
        "test = pd.read_csv('/content/drive/MyDrive/ESAA/YB 1조/test 지역변수 추가.csv')"
      ],
      "metadata": {
        "id": "MLTWprIaze3n"
      },
      "execution_count": 43,
      "outputs": []
    },
    {
      "cell_type": "code",
      "source": [
        "# train = pd.read_csv(\"/content/train 지역변수 추가.csv\")\n",
        "# test = pd.read_csv(\"/content/test 지역변수 추가.csv\")\n",
        "# sb = pd.read_csv(\"/content/submission_sample.csv\")"
      ],
      "metadata": {
        "id": "ifbFOGCjxtrO"
      },
      "execution_count": null,
      "outputs": []
    },
    {
      "cell_type": "code",
      "source": [
        "test.head(3)"
      ],
      "metadata": {
        "id": "NaDLmif1HG4g"
      },
      "execution_count": null,
      "outputs": []
    },
    {
      "cell_type": "code",
      "source": [
        "train.head(3)"
      ],
      "metadata": {
        "id": "j7-PsvIzyGXK"
      },
      "execution_count": null,
      "outputs": []
    },
    {
      "cell_type": "code",
      "source": [
        "train.describe()"
      ],
      "metadata": {
        "id": "2lt2jUnQyIVZ"
      },
      "execution_count": null,
      "outputs": []
    },
    {
      "cell_type": "markdown",
      "source": [
        "#### **변수설명**\n",
        "> `inst_id` - 각 파일에서의 병원 고유 번호\n",
        "`OC` – 영업/폐업 분류, 2018년 폐업은 2017년 폐업으로 간주함    \n",
        "`sido` – 병원의 광역 지역 정보    \n",
        "`sgg` – 병원의 시군구 자료     \n",
        "`openDate` – 병원 설립일    \n",
        "`bedCount` - 병원이 갖추고 있는 병상의 수       \n",
        "`instkind` – 병원, 의원, 요양병원, 한의원, 종합병원 등 병원의 종류    \n",
        "·        종합병원 : 입원환자 100명 이상 수용 가능    \n",
        "·        병원 : 입원 환자 30명 이상 100명 미만 수용 가능     \n",
        "·        의원 : 입원 환자 30명 이하 수용 가능      \n",
        "·        한방 병원(한의원) : 침술과 한약으로 치료하는 의료 기관.    \n",
        "`revenue1` – 매출액 / salescost1 – 매출원가      \n",
        "`sga1` - 판매비와 관리비 / salary1 – 급여   \n",
        "`noi1` – 영업외수익 / noe1 – 영업외비용      \n",
        "`Interest1` – 이자비용 / ctax1 – 법인세비용     \n",
        "`Profit1` – 당기순이익 / liquidAsset1 – 유동자산      \n",
        "`quickAsset1` – 당좌자산 / receivableS1 - 미수금(단기)       \n",
        "`inventoryAsset1` – 재고자산 / nonCAsset1 – 비유동자산     \n",
        "`tanAsset1` – 유형자산 / OnonCAsset1 - 기타 비유동자산       \n",
        "`receivableL1` – 장기미수금 / debt1 – 부채총계      \n",
        "`liquidLiabilities1` – 유동부채 / shortLoan1 – 단기차입금    \n",
        "`NCLiabilities1` – 비유동부채 / longLoan1 – 장기차입금    \n",
        "`netAsset1` – 순자산총계 / surplus1 – 이익잉여금    \n",
        "`employee1` – 고용한 총 직원의 수     \n",
        "`ownerChange` – 대표자의 변동 "
      ],
      "metadata": {
        "id": "NlPrkRFw58Nz"
      }
    },
    {
      "cell_type": "markdown",
      "source": [
        "# 2. EDA 및 전처리"
      ],
      "metadata": {
        "id": "pO0QDbCs5Gj6"
      }
    },
    {
      "cell_type": "code",
      "source": [
        "train.isnull().sum()"
      ],
      "metadata": {
        "id": "WuRHdr_NyIdH"
      },
      "execution_count": null,
      "outputs": []
    },
    {
      "cell_type": "code",
      "source": [
        "test.isnull().sum()"
      ],
      "metadata": {
        "id": "yqaxYY3CHZNc"
      },
      "execution_count": null,
      "outputs": []
    },
    {
      "cell_type": "markdown",
      "source": [
        "### (1) 레이블 데이터 : 인코딩"
      ],
      "metadata": {
        "id": "0Q0GI3YRIq1d"
      }
    },
    {
      "cell_type": "code",
      "source": [
        "from sklearn.preprocessing import LabelEncoder\n",
        "\n",
        "# OC : 'close': 0, 'open': 1 처리해주기\n",
        "print(train['OC'].value_counts()) #인코딩전 확인\n",
        "encoder1 = LabelEncoder()\n",
        "train['OC']=encoder1.fit_transform(train['OC'])\n",
        "print(train['OC'].value_counts()) #인코딩후 확인\n",
        "\n",
        "# 테스트데이터셋은 OC가 모두 NaN이므로 레이블인코딩 처리x"
      ],
      "metadata": {
        "colab": {
          "base_uri": "https://localhost:8080/"
        },
        "id": "h6SbqN_T8_K8",
        "outputId": "e9299b27-76a9-429c-a83c-36208933e498"
      },
      "execution_count": 44,
      "outputs": [
        {
          "output_type": "stream",
          "name": "stdout",
          "text": [
            "open      286\n",
            " close     15\n",
            "Name: OC, dtype: int64\n",
            "1    286\n",
            "0     15\n",
            "Name: OC, dtype: int64\n"
          ]
        }
      ]
    },
    {
      "cell_type": "markdown",
      "source": [
        "### (2) 피처 데이터 : 결측치 처리 및 인코딩"
      ],
      "metadata": {
        "id": "ohWmqSteI0mf"
      }
    },
    {
      "cell_type": "markdown",
      "source": [
        "* 문자열 피처의 결측치는 Not_sure 로 대체.\n",
        "* 숫자형 피처의 결측치는 -9999 로 대체.\n"
      ],
      "metadata": {
        "id": "FgsK_xcqRls_"
      }
    },
    {
      "cell_type": "markdown",
      "source": [
        "#### (2)-1. ints_id, sgg"
      ],
      "metadata": {
        "id": "y0pM2iabJX4c"
      }
    },
    {
      "cell_type": "code",
      "source": [
        "# inst_id : 인덱스 중복이므로 열 버리기\n",
        "# sgg : sido와 정보가 겹치므로 열 버리기\n",
        "train.drop(['inst_id','sgg'],axis=1,inplace=True)\n",
        "test.drop(['inst_id','sgg'],axis=1,inplace=True)"
      ],
      "metadata": {
        "id": "4yAGpS4l5OCL"
      },
      "execution_count": 45,
      "outputs": []
    },
    {
      "cell_type": "markdown",
      "source": [
        "#### (2)-2. 문자열 피처"
      ],
      "metadata": {
        "id": "HpuNjOMeJdk4"
      }
    },
    {
      "cell_type": "code",
      "source": [
        "## 문자열 피처에서 결측치가 존재할 경우, 'Not_sure'로 대체\n",
        "# 문자열 피처중 instkind, ownerChange 에서 결측치 존재\n",
        "\n",
        "train['instkind'] = train['instkind'].fillna('Not_sure')\n",
        "test['instkind'] = test['instkind'].fillna('Not_sure')\n",
        "\n",
        "train['ownerChange'] = train['ownerChange'].fillna('Not_sure')\n",
        "test['ownerChange'] = test['ownerChange'].fillna('Not_sure')"
      ],
      "metadata": {
        "id": "xRJNYTri5OE9"
      },
      "execution_count": 46,
      "outputs": []
    },
    {
      "cell_type": "markdown",
      "source": [
        "#### (2)-3. 숫자형 피처중 금융변수"
      ],
      "metadata": {
        "id": "HMk3DICLJiHl"
      }
    },
    {
      "cell_type": "code",
      "source": [
        "## 숫자형 피처중 금융변수에서 결측치(NaN) 존재\n",
        "\n",
        "# open&같은행번호에서 공통적으로 8개의 결측치가 나타난다. \n",
        "print(train[train['revenue1'].isnull()]['OC'])\n",
        "print(train[train['shortLoan2'].isnull()]['OC'])\n",
        "\n",
        "# 같은행번호에서 공통적으로 2개의 결측치가 나타난다.\n",
        "print(test[test['revenue1'].isnull()])\n",
        "print(test[test['shortLoan2'].isnull()])"
      ],
      "metadata": {
        "id": "BPbfY77pEPX7"
      },
      "execution_count": null,
      "outputs": []
    },
    {
      "cell_type": "code",
      "source": [
        "#NAN인 관측치 처리(dropna)\n",
        "fin_list=['revenue1', 'salescost1', 'sga1', 'salary1', 'noi1', 'noe1',\n",
        "       'interest1', 'ctax1', 'profit1', 'liquidAsset1', 'quickAsset1',\n",
        "       'receivableS1', 'inventoryAsset1', 'nonCAsset1', 'tanAsset1',\n",
        "       'OnonCAsset1', 'receivableL1', 'debt1', 'liquidLiabilities1',\n",
        "       'shortLoan1', 'NCLiabilities1', 'longLoan1', 'netAsset1', 'surplus1',\n",
        "       'revenue2', 'salescost2', 'sga2', 'salary2', 'noi2', 'noe2',\n",
        "       'interest2', 'ctax2', 'profit2', 'liquidAsset2', 'quickAsset2',\n",
        "       'receivableS2', 'inventoryAsset2', 'nonCAsset2', 'tanAsset2',\n",
        "       'OnonCAsset2', 'receivableL2', 'debt2', 'liquidLiabilities2',\n",
        "       'shortLoan2', 'NCLiabilities2', 'longLoan2', 'netAsset2', 'surplus2']\n",
        "train.dropna(subset=fin_list, axis=0,inplace=True)\n",
        "test.dropna(subset=fin_list, axis=0,inplace=True)\n",
        "#0인 관측치 처리\n",
        "train[fin_list]=train[fin_list].replace(0 ,-9999)\n",
        "test[fin_list]=test[fin_list].replace(0 ,-9999)"
      ],
      "metadata": {
        "id": "IHARsqhZZC54"
      },
      "execution_count": 48,
      "outputs": []
    },
    {
      "cell_type": "code",
      "source": [
        "## 확인\n",
        "train.describe()\n",
        "test.describe()\n",
        "# 최소값이 -9999로 나타난다."
      ],
      "metadata": {
        "id": "1pWYEEEQZpaQ"
      },
      "execution_count": null,
      "outputs": []
    },
    {
      "cell_type": "markdown",
      "source": [
        "#### (2)-4. bedcount, employee\n",
        "\n"
      ],
      "metadata": {
        "id": "Xo9y1DDiJoTR"
      }
    },
    {
      "cell_type": "code",
      "source": [
        "## 숫자형 피처의 결측치는 -9999로 대체\n",
        "train['bedCount']=train['bedCount'].fillna(-9999)\n",
        "test['bedCount']=test['bedCount'].fillna(-9999)\n",
        "\n",
        "train['employee1']=train['employee1'].fillna(-9999)\n",
        "test['employee1']=test['employee1'].fillna(-9999)\n",
        "\n",
        "train['employee2']=train['employee2'].fillna(-9999)\n",
        "test['employee2']=test['employee2'].fillna(-9999)"
      ],
      "metadata": {
        "id": "nZrhOuVdRfbl"
      },
      "execution_count": 49,
      "outputs": []
    },
    {
      "cell_type": "markdown",
      "source": [
        "#### (2)-5. 피처 인코딩 처리"
      ],
      "metadata": {
        "id": "7O9EQuU0TR2J"
      }
    },
    {
      "cell_type": "code",
      "source": [
        "## 문자열 피처 인코딩 처리\n",
        "## 전처리 후 마지막에\n",
        "\n",
        "# sido는 레이블인코딩 (sido의 개별관측치가 많아 원핫인코딩을 하게 되면 변수개수가 너무많아지기 때문.)\n",
        "from sklearn.preprocessing import LabelEncoder\n",
        "encoder = LabelEncoder()\n",
        "train['sido'] = encoder.fit_transform(train['sido'])\n",
        "test['sido'] = encoder.fit_transform(test['sido'])\n",
        "\n",
        "# instkind, ownerChange는 원핫인코딩\n",
        "train = pd.get_dummies(train)\n",
        "test = pd.get_dummies(test)"
      ],
      "metadata": {
        "id": "R3h230gCV_FO"
      },
      "execution_count": 50,
      "outputs": []
    },
    {
      "cell_type": "code",
      "source": [
        "## 확인\n",
        "train.head(3)\n",
        "# sido는 숫자형변수로, instkind, ownerChange는 더미변수로 잘 바뀜."
      ],
      "metadata": {
        "id": "eVTliFWOWVuL"
      },
      "execution_count": null,
      "outputs": []
    },
    {
      "cell_type": "markdown",
      "source": [
        "# 3. 파생변수 만들기"
      ],
      "metadata": {
        "id": "XZ8HIXLpvJnC"
      }
    },
    {
      "cell_type": "markdown",
      "source": [
        "### (1) 금융변수"
      ],
      "metadata": {
        "id": "hoFz-VLAL9G2"
      }
    },
    {
      "cell_type": "code",
      "source": [
        "## 성장성\n",
        "# 매출액 증가율 = 당기매출액/ 전기매출액*100 -100\n",
        "train['revenueGrowth']=(train['revenue1']/train['revenue2'])*100-100\n",
        "# 총자산 증가율 = 당기총자산/ 전기총자산*100 -100\n",
        "train['netAssetGrowth']=(train['netAsset1']+train['debt1'])/(train['netAsset2']+train['debt2'])*100 -100\n",
        "\n",
        "## 수익성\n",
        "# 자기자본순이익률(ROE)=당기순이익/자기자본*100\n",
        "train['ROE']=(train['profit1']/train['netAsset1'])*100\n",
        "# 매출순이익률 = 당기순이익/매출액*100\n",
        "train['ROS'] = train.profit1/train.revenue1*100\n",
        "# 배당성향 = 배당금/당기순이익\n",
        "train['dividendPayoutRatio'] = (train.profit1-train.surplus1)/train.profit1\n",
        "# 이자보상비율 = 영업이익/이자비용*100\n",
        "# (영업손익은 매출액 등의 영업수익으로부터 매출원가ㆍ판매비와관리비 등의 영업비용을 차감한 개념, 영업 외 이익과 비용도 차감)\n",
        "train['interestCoverageRatio'] = (train.revenue1-train.salescost1-train.sga1-train.noi1-train.noe1)/train.interest1*100\n",
        "\n",
        "## 안정성\n",
        "# 유동비율 = 유동자산/유동부채*100 (바람직: 200%이상)\n",
        "train['liquidRatio']=(train['liquidAsset1']/train['liquidLiabilities1'])*100\n",
        "# 당좌비율 = 당좌자산/유동부채*100 (바람직: 100%이상)\n",
        "train['quickRatio']=(train['quickAsset1']/train['liquidLiabilities1'])*100\n",
        "# 부채비율 = 부채/자본*100\n",
        "train['debtRatio']=(train['debt1']/(train['debt1']+train['netAsset1']))*100\n",
        "# 자기자본비율 = 자기자본/총자본*100\n",
        "train['netAssetRatio']=train.netAsset1/(train.debt1+train.netAsset1)*100\n",
        "\n",
        "## 활동성\n",
        "# 재고자산회전율 = 매출원가/평균재고자산\n",
        "train['inventoryTurnover']=train.salescost1/((train.inventoryAsset1+train.inventoryAsset2)/2)"
      ],
      "metadata": {
        "id": "m3YNXzeCwLMv"
      },
      "execution_count": 51,
      "outputs": []
    },
    {
      "cell_type": "code",
      "source": [
        "## 성장성\n",
        "# 매출액 증가율 = 당기매출액/ 전기매출액*100 -100\n",
        "test['revenueGrowth']=(test['revenue1']/test['revenue2'])*100-100\n",
        "# 총자산 증가율 = 당기총자산/ 전기총자산*100 -100\n",
        "test['netAssetGrowth']=(test['netAsset1']+test['debt1'])/(test['netAsset2']+test['debt2'])*100 -100\n",
        "\n",
        "## 수익성\n",
        "# 자기자본순이익률(ROE)=당기순이익/자기자본*100\n",
        "test['ROE']=(test['profit1']/test['netAsset1'])*100\n",
        "# 매출순이익률 = 당기순이익/매출액*100\n",
        "test['ROS'] = test.profit1/test.revenue1*100\n",
        "# 배당성향 = 배당금/당기순이익\n",
        "test['dividendPayoutRatio'] = (test.profit1-test.surplus1)/test.profit1\n",
        "# 이자보상비율 = 영업이익/이자비용*100\n",
        "# (영업손익은 매출액 등의 영업수익으로부터 매출원가ㆍ판매비와관리비 등의 영업비용을 차감한 개념, 영업 외 이익과 비용도 차감)\n",
        "test['interestCoverageRatio'] = (test.revenue1-test.salescost1-test.sga1-test.noi1-test.noe1)/test.interest1*100\n",
        "\n",
        "## 안정성\n",
        "# 유동비율 = 유동자산/유동부채*100 (바람직: 200%이상)\n",
        "test['liquidRatio']=(test['liquidAsset1']/test['liquidLiabilities1'])*100\n",
        "# 당좌비율 = 당좌자산/유동부채*100 (바람직: 100%이상)\n",
        "test['quickRatio']=(test['quickAsset1']/test['liquidLiabilities1'])*100\n",
        "# 부채비율 = 부채/자본*100\n",
        "test['debtRatio']=(test['debt1']/(test['debt1']+test['netAsset1']))*100\n",
        "# 자기자본비율 = 자기자본/총자본*100\n",
        "test['netAssetRatio']=test.netAsset1/(test.debt1+test.netAsset1)*100\n",
        "\n",
        "## 활동성\n",
        "# 재고자산회전율 = 매출원가/평균재고자산\n",
        "test['inventoryTurnover']=test.salescost1/((test.inventoryAsset1+test.inventoryAsset2)/2)"
      ],
      "metadata": {
        "id": "TP1pTe4l2rfb"
      },
      "execution_count": 52,
      "outputs": []
    },
    {
      "cell_type": "code",
      "source": [
        "## 확인\n",
        "fin_Ratio_list = ['revenueGrowth', 'netAssetGrowth',\n",
        "    'ROE', 'ROS', 'dividendPayoutRatio', 'interestCoverageRatio',\n",
        "    'liquidRatio', 'quickRatio', 'debtRatio','netAssetRatio',\n",
        "    'inventoryTurnover']\n",
        "train[fin_Ratio_list].describe()\n",
        "\n",
        "fin_Ratio_list = ['revenueGrowth', 'netAssetGrowth',\n",
        "    'ROE', 'ROS', 'dividendPayoutRatio', 'interestCoverageRatio',\n",
        "    'liquidRatio', 'quickRatio', 'debtRatio','netAssetRatio',\n",
        "    'inventoryTurnover']\n",
        "test[fin_Ratio_list].describe()\n",
        "# min값에 0이 없고, max값에 inf가 없다."
      ],
      "metadata": {
        "id": "w0h0XpXyap0I"
      },
      "execution_count": null,
      "outputs": []
    },
    {
      "cell_type": "markdown",
      "source": [
        "### (2) 중소병원/대형병원"
      ],
      "metadata": {
        "id": "eo25OJggvJp3"
      }
    },
    {
      "cell_type": "code",
      "source": [
        "train.loc[train.bedCount>300,'hospital_size']=1\n",
        "train.loc[train.bedCount<=300,'hospital_size']=0"
      ],
      "metadata": {
        "id": "x0avpgfYMDi8"
      },
      "execution_count": 53,
      "outputs": []
    },
    {
      "cell_type": "code",
      "source": [
        "test.loc[test.bedCount>300,'hospital_size']=1\n",
        "test.loc[test.bedCount<=300,'hospital_size']=0"
      ],
      "metadata": {
        "id": "J8tqwBpfCPCl"
      },
      "execution_count": 54,
      "outputs": []
    },
    {
      "cell_type": "markdown",
      "source": [
        "### (3) 지역 내 병원종류수"
      ],
      "metadata": {
        "id": "AR2g5y-SMC8N"
      }
    },
    {
      "cell_type": "code",
      "source": [
        "#  이건 모델 돌리고나서 만들기\n",
        "#hospital_count 결측값 처리 코드\n",
        "train['hospital_count']=train['hospital_count'].replace(np.nan, 1)\n",
        "#hospital_count 결측값 제거 확인 코드\n",
        "train['hospital_count'].isnull().sum()"
      ],
      "metadata": {
        "id": "-bmvZOQ0V_V-",
        "colab": {
          "base_uri": "https://localhost:8080/"
        },
        "outputId": "df9d7e61-c8c1-4bb0-c27e-210004efe047"
      },
      "execution_count": 55,
      "outputs": [
        {
          "output_type": "execute_result",
          "data": {
            "text/plain": [
              "0"
            ]
          },
          "metadata": {},
          "execution_count": 55
        }
      ]
    },
    {
      "cell_type": "markdown",
      "source": [
        "# 4. 피처 정규화"
      ],
      "metadata": {
        "id": "-9ddHIyALdiy"
      }
    },
    {
      "cell_type": "markdown",
      "source": [
        "* 표준화 : 정규분포를 가진 값으로 변환 \n",
        "            (x-mean)/sd\n",
        "* 정규화 : 개별 데이터의 크기를 모두 똑같은 단위로 변경\n",
        "            (x-min)/(max-min)"
      ],
      "metadata": {
        "id": "KDJB9auCLibd"
      }
    },
    {
      "cell_type": "code",
      "source": [
        "#금융변수 정규화\n",
        "from sklearn.preprocessing import MinMaxScaler\n",
        "train.loc[:,'revenue1':'surplus2'] = MinMaxScaler().fit_transform(train.loc[:,'revenue1':'surplus2'])\n",
        "train.loc[:,'revenueGrowth':'inventoryTurnover'] = MinMaxScaler().fit_transform(train.loc[:,'revenueGrowth':'inventoryTurnover'])\n",
        "test.loc[:,'revenue1':'surplus2'] = MinMaxScaler().fit_transform(test.loc[:,'revenue1':'surplus2'])\n",
        "test.loc[:,'revenueGrowth':'inventoryTurnover'] = MinMaxScaler().fit_transform(test.loc[:,'revenueGrowth':'inventoryTurnover'])"
      ],
      "metadata": {
        "id": "mzhe37hcvwdF"
      },
      "execution_count": 56,
      "outputs": []
    },
    {
      "cell_type": "code",
      "source": [
        "#전체 데이터 확인\n",
        "pd.set_option('display.max_columns', None) # 전체 열 보기"
      ],
      "metadata": {
        "id": "0bi1I2UZ6x-o"
      },
      "execution_count": 57,
      "outputs": []
    },
    {
      "cell_type": "code",
      "source": [
        "#정규화 여부 확인\n",
        "train.describe()\n",
        "#금융변수의 최솟값은 0 최댓값은 1로 정규화가 잘 되었다고 볼 수 있다. "
      ],
      "metadata": {
        "id": "RFeyJNNu6KY5"
      },
      "execution_count": null,
      "outputs": []
    },
    {
      "cell_type": "code",
      "source": [
        "## 정규화 여부 확인\n",
        "test[fin_list].describe()\n",
        "#금융변수의 최솟값은 0 최댓값은 1로 정규화가 잘 되었다고 볼 수 있다. "
      ],
      "metadata": {
        "id": "jgafLdW36ZT8"
      },
      "execution_count": null,
      "outputs": []
    },
    {
      "cell_type": "code",
      "source": [
        "#정규화 여부 확인\n",
        "test[fin_Ratio_list].describe()\n",
        "#금융변수의 최솟값은 0 최댓값은 1로 정규화가 잘 되었다고 볼 수 있다"
      ],
      "metadata": {
        "id": "4FWR3tDqUVZv"
      },
      "execution_count": null,
      "outputs": []
    },
    {
      "cell_type": "markdown",
      "source": [
        "---\n",
        "추가 null 확인"
      ],
      "metadata": {
        "id": "X5bfiUpfAIcC"
      }
    },
    {
      "cell_type": "code",
      "source": [
        "train.isnull().sum().sort_values(ascending=False)"
      ],
      "metadata": {
        "id": "P-5XtDGs2nfw"
      },
      "execution_count": null,
      "outputs": []
    },
    {
      "cell_type": "code",
      "source": [
        "test.isnull().sum().sort_values(ascending=False)"
      ],
      "metadata": {
        "id": "NFIS5idU_m8D"
      },
      "execution_count": null,
      "outputs": []
    },
    {
      "cell_type": "code",
      "source": [
        "#test 파일 openDate 결측값 처리\n",
        "test['openDate'] = test['openDate'].fillna(-9999)\n",
        "#test 파일 hospita_count 결측값 처리\n",
        "test['hospital_count'] = test['hospital_count'].fillna(-9999)"
      ],
      "metadata": {
        "id": "CL5iJPdpARQb"
      },
      "execution_count": 58,
      "outputs": []
    },
    {
      "cell_type": "code",
      "source": [
        "np.shape(train)\n",
        "np.shape(test)"
      ],
      "metadata": {
        "id": "kBQiIvGUBIOw"
      },
      "execution_count": null,
      "outputs": []
    },
    {
      "cell_type": "code",
      "source": [
        "train.columns"
      ],
      "metadata": {
        "id": "GuhyjsgGBcrE"
      },
      "execution_count": null,
      "outputs": []
    },
    {
      "cell_type": "code",
      "source": [
        "test.columns"
      ],
      "metadata": {
        "id": "0ZXtXOClBevM"
      },
      "execution_count": null,
      "outputs": []
    },
    {
      "cell_type": "code",
      "source": [
        "train.drop(['instkind_dental_clinic'],axis=1, inplace=True)"
      ],
      "metadata": {
        "id": "veKtGUnDCtSX"
      },
      "execution_count": 59,
      "outputs": []
    },
    {
      "cell_type": "markdown",
      "source": [
        "# 5. 모델 돌리기"
      ],
      "metadata": {
        "id": "H0wAvaFfWDZ1"
      }
    },
    {
      "cell_type": "markdown",
      "source": [
        "## (1) RandomForest"
      ],
      "metadata": {
        "id": "yJEtcM1CWISC"
      }
    },
    {
      "cell_type": "code",
      "source": [
        "from sklearn.ensemble import RandomForestClassifier\n",
        "from sklearn.metrics import accuracy_score\n",
        "from sklearn.model_selection import train_test_split"
      ],
      "metadata": {
        "id": "biR1OqzU0PYB"
      },
      "execution_count": null,
      "outputs": []
    },
    {
      "cell_type": "code",
      "source": [
        "X_features = train.drop(columns = 'OC',axis=1)\n",
        "y_labels = train['OC']\n",
        "X_train, X_test, y_train, y_test = train_test_split(X_features, y_labels, test_size=0.2, random_state=156)"
      ],
      "metadata": {
        "id": "UgAZTd5J03X0"
      },
      "execution_count": null,
      "outputs": []
    },
    {
      "cell_type": "code",
      "source": [
        "print(y_train.value_counts()/y_train.shape[0]*100)\n",
        "print(y_test.value_counts()/y_test.shape[0]*100)"
      ],
      "metadata": {
        "colab": {
          "base_uri": "https://localhost:8080/"
        },
        "id": "dCMY41ZqO6bD",
        "outputId": "fb38df96-e3d4-4f95-94d6-cd4c7cf11ad5"
      },
      "execution_count": null,
      "outputs": [
        {
          "output_type": "stream",
          "name": "stdout",
          "text": [
            "1   94.44\n",
            "0    5.56\n",
            "Name: OC, dtype: float64\n",
            "1   96.61\n",
            "0    3.39\n",
            "Name: OC, dtype: float64\n"
          ]
        }
      ]
    },
    {
      "cell_type": "code",
      "source": [
        "#랜덤 포레스트 학습 및 별도의 테스트 세트로 예측 성능 평가\n",
        "rf_clf = RandomForestClassifier(random_state=0)\n",
        "rf_clf.fit(X_train,y_train)\n",
        "pred = rf_clf.predict(X_test)"
      ],
      "metadata": {
        "id": "V-vpbgDz0hUY"
      },
      "execution_count": null,
      "outputs": []
    },
    {
      "cell_type": "code",
      "source": [
        "accuracy = accuracy_score(y_test, pred)\n",
        "print('랜덤 포레스트 정확도: {0:.4f}'.format(accuracy))"
      ],
      "metadata": {
        "colab": {
          "base_uri": "https://localhost:8080/"
        },
        "id": "1jqFF_OuEp6N",
        "outputId": "161d5bf4-1198-478d-817c-2795fadbdad2"
      },
      "execution_count": null,
      "outputs": [
        {
          "output_type": "stream",
          "name": "stdout",
          "text": [
            "랜덤 포레스트 정확도: 0.9661\n"
          ]
        }
      ]
    },
    {
      "cell_type": "code",
      "source": [
        "import matplotlib.pyplot as plt\n",
        "import seaborn as sns\n",
        "%matplotlib inline\n",
        "\n",
        "ftr_importances_values=rf_clf.feature_importances_ #피처 중요도\n",
        "ftr_importances=pd.Series(ftr_importances_values, index=X_train.columns)\n",
        "ftr_top=ftr_importances.sort_values(ascending=False)\n",
        "\n",
        "plt.figure(figsize=(12,14))\n",
        "plt.title('Feature importances')\n",
        "sns.barplot(x=ftr_top, y=ftr_top.index)\n",
        "plt.show()"
      ],
      "metadata": {
        "colab": {
          "base_uri": "https://localhost:8080/",
          "height": 825
        },
        "id": "Tq7dukyKq78i",
        "outputId": "9f0da7a0-8e6d-460f-a4ee-fc0610c19e29"
      },
      "execution_count": null,
      "outputs": [
        {
          "output_type": "display_data",
          "data": {
            "text/plain": [
              "<Figure size 864x1008 with 1 Axes>"
            ],
            "image/png": "[encoded data removed]"
          },
          "metadata": {
            "needs_background": "light"
          }
        }
      ]
    },
    {
      "cell_type": "code",
      "source": [
        "from sklearn.model_selection import GridSearchCV\n",
        "\n",
        "params={\n",
        "    'n_estimators':[200],\n",
        "    'max_depth':[4,6,8,10,12],\n",
        "    'min_samples_leaf':[6,8,12,18],\n",
        "    'min_samples_split':[4,8,16,20]\n",
        "}\n",
        "#RandomForestClassifier 객체 생성 후 GridSearchCV 수행\n",
        "rf_clf=RandomForestClassifier(random_state=0, n_jobs=-1)\n",
        "grid_cv = GridSearchCV(rf_clf, param_grid=params, cv=2, n_jobs=-1)\n",
        "grid_cv.fit(X_train, y_train)\n",
        "\n",
        "print('최적 하이퍼 파라미터:\\n', grid_cv.best_params_)\n",
        "print('최고 예측 정확도:{0:4f}'.format(grid_cv.best_score_))"
      ],
      "metadata": {
        "colab": {
          "base_uri": "https://localhost:8080/"
        },
        "id": "cgSeoTR5pETj",
        "outputId": "7ae6ecf4-9950-40d2-dc62-4becbad5b78a"
      },
      "execution_count": null,
      "outputs": [
        {
          "output_type": "stream",
          "name": "stdout",
          "text": [
            "최적 하이퍼 파라미터:\n",
            " {'max_depth': 4, 'min_samples_leaf': 6, 'min_samples_split': 4, 'n_estimators': 200}\n",
            "최고 예측 정확도:0.944444\n"
          ]
        }
      ]
    },
    {
      "cell_type": "markdown",
      "source": [
        "## (2) XGBoost"
      ],
      "metadata": {
        "id": "ToFAN3PbWIWd"
      }
    },
    {
      "cell_type": "code",
      "source": [
        "import xgboost as xgb\n",
        "from xgboost import XGBClassifier"
      ],
      "metadata": {
        "id": "Tlu4K8HTFnIP"
      },
      "execution_count": 60,
      "outputs": []
    },
    {
      "cell_type": "code",
      "source": [
        "from xgboost import plot_importance\n",
        "import pandas as pd\n",
        "import numpy as np\n",
        "from sklearn.model_selection import train_test_split\n",
        "import warnings\n",
        "warnings.filterwarnings('ignore')"
      ],
      "metadata": {
        "id": "gRmCRcg0GfTB"
      },
      "execution_count": 61,
      "outputs": []
    },
    {
      "cell_type": "code",
      "source": [
        "X_features = train.drop(columns = 'OC',axis=1)\n",
        "y_label = train['OC']\n",
        "\n",
        "X_train,X_test,y_train,y_test = train_test_split(X_features,y_label, test_size = 0.2, random_state = 156, stratify = y_label)\n",
        "print(X_train.shape,X_test.shape)"
      ],
      "metadata": {
        "colab": {
          "base_uri": "https://localhost:8080/"
        },
        "id": "-LD1vZRkFgF2",
        "outputId": "3add8ef4-3ba9-4243-b516-698a5f8ea240"
      },
      "execution_count": 62,
      "outputs": [
        {
          "output_type": "stream",
          "name": "stdout",
          "text": [
            "(234, 76) (59, 76)\n"
          ]
        }
      ]
    },
    {
      "cell_type": "code",
      "source": [
        "print(y_train.value_counts()/y_train.shape[0]*100)\n",
        "print(y_test.value_counts()/y_test.shape[0]*100)"
      ],
      "metadata": {
        "colab": {
          "base_uri": "https://localhost:8080/"
        },
        "id": "IT_RQWkhFxiP",
        "outputId": "f9ff3dd1-80d9-49d9-8803-a9fcfc1badac"
      },
      "execution_count": 63,
      "outputs": [
        {
          "output_type": "stream",
          "name": "stdout",
          "text": [
            "1   94.87\n",
            "0    5.13\n",
            "Name: OC, dtype: float64\n",
            "1   94.92\n",
            "0    5.08\n",
            "Name: OC, dtype: float64\n"
          ]
        }
      ]
    },
    {
      "cell_type": "code",
      "source": [
        "dtrain = xgb.DMatrix(data=X_train,label = y_train)\n",
        "dtest = xgb.DMatrix(data=X_test,label = y_test)"
      ],
      "metadata": {
        "id": "RHAq7hU3Gtjd"
      },
      "execution_count": 64,
      "outputs": []
    },
    {
      "cell_type": "code",
      "source": [
        "params = {\n",
        "    'max_depth' :3,\n",
        "    'eta' : 0.1,\n",
        "    'objective' : 'binary:logistic',\n",
        "    'eval_metric':'logloss',\n",
        "    'early_stoppings':100\n",
        "}\n",
        "num_rounds = 400"
      ],
      "metadata": {
        "id": "kmSZU36eGvrG"
      },
      "execution_count": 65,
      "outputs": []
    },
    {
      "cell_type": "code",
      "source": [
        "wlist=[(dtrain,'train'),(dtest,'eval')]\n",
        "#하이퍼 파라미터와 early stopping 파라미터를 train() 함수의 파라미터로 전달\n",
        "xgb_model=xgb.train(params=params,dtrain=dtrain,num_boost_round=num_rounds, early_stopping_rounds=100,evals=wlist)"
      ],
      "metadata": {
        "id": "j8JW2uB0GxKc"
      },
      "execution_count": null,
      "outputs": []
    },
    {
      "cell_type": "code",
      "source": [
        "pred_probs=xgb_model.predict(dtest)\n",
        "print('predict() 수행 결과값을 10개만 표시, 예측 확률값으로 표시됨')\n",
        "print(np.round(pred_probs[:10],3))\n",
        "\n",
        "#예측 확률이 0.5보다 크면 1, 그렇지 않으면 0으로 예측값 결정해 리스트 객체인 preds에 저장\n",
        "preds=[1 if x>0.5 else 0 for x in pred_probs]\n",
        "print('예측값 10개만 표시:',preds[:10])"
      ],
      "metadata": {
        "colab": {
          "base_uri": "https://localhost:8080/"
        },
        "id": "L8V0o_g3G06m",
        "outputId": "1407d82a-9ec7-4993-f5d2-45f7ecc4a8eb"
      },
      "execution_count": 67,
      "outputs": [
        {
          "output_type": "stream",
          "name": "stdout",
          "text": [
            "predict() 수행 결과값을 10개만 표시, 예측 확률값으로 표시됨\n",
            "[0.978 0.976 0.924 0.978 0.978 0.978 0.945 0.974 0.978 0.978]\n",
            "예측값 10개만 표시: [1, 1, 1, 1, 1, 1, 1, 1, 1, 1]\n"
          ]
        }
      ]
    },
    {
      "cell_type": "code",
      "source": [
        "import numpy as np\n",
        "import pandas as pd\n",
        "import matplotlib.pyplot as plt\n",
        "%matplotlib inline\n",
        "\n",
        "from sklearn.model_selection import train_test_split\n",
        "from sklearn.metrics import accuracy_score,precision_score,recall_score,roc_auc_score\n",
        "from sklearn.metrics import f1_score,confusion_matrix,precision_recall_curve,roc_curve\n",
        "from sklearn.preprocessing import StandardScaler\n",
        "from sklearn.linear_model import LogisticRegression"
      ],
      "metadata": {
        "id": "i8HT4BtxG3BM"
      },
      "execution_count": 68,
      "outputs": []
    },
    {
      "cell_type": "code",
      "source": [
        "def get_clf_eval(y_test, pred=None, pred_proba=None): #평가 한번에 호출하는 함수\n",
        "  confusion = confusion_matrix(y_test, pred)\n",
        "  accuracy = accuracy_score(y_test, pred)\n",
        "  precision = precision_score(y_test, pred)\n",
        "  recall = recall_score(y_test, pred)\n",
        "  f1 = f1_score(y_test, pred)\n",
        "\n",
        "  #ROC-AUC 추가\n",
        "  roc_auc = roc_auc_score(y_test, pred_proba)\n",
        "\n",
        "  print('오차행렬')\n",
        "  print(confusion)\n",
        "  print('정확도 : {0:.4f}, 정밀도 : {1:.4f}, 재현율:{2:.4f}, F1 : {3:.4f}, AUC : {4:.4f}'.format(accuracy, precision, recall, f1, roc_auc))"
      ],
      "metadata": {
        "id": "DbNFQ4k5G8EX"
      },
      "execution_count": 69,
      "outputs": []
    },
    {
      "cell_type": "code",
      "source": [
        "get_clf_eval(y_test,preds,pred_probs)"
      ],
      "metadata": {
        "colab": {
          "base_uri": "https://localhost:8080/"
        },
        "id": "yCFapsdlG9kh",
        "outputId": "a782c266-f3f4-4fa7-8da4-0424472e4fb0"
      },
      "execution_count": 70,
      "outputs": [
        {
          "output_type": "stream",
          "name": "stdout",
          "text": [
            "오차행렬\n",
            "[[ 0  3]\n",
            " [ 1 55]]\n",
            "정확도 : 0.9322, 정밀도 : 0.9483, 재현율:0.9821, F1 : 0.9649, AUC : 0.8452\n"
          ]
        }
      ]
    },
    {
      "cell_type": "code",
      "source": [
        "from xgboost import plot_importance\n",
        "import matplotlib.pyplot as plt\n",
        "%matplotlib inline\n",
        "\n",
        "fig,ax=plt.subplots(figsize=(10,12))\n",
        "plot_importance(xgb_model,ax=ax)"
      ],
      "metadata": {
        "colab": {
          "base_uri": "https://localhost:8080/",
          "height": 748
        },
        "id": "xM71j_ARG_9c",
        "outputId": "15564fba-41e8-43e0-a1a0-ae9dcd3c95ae"
      },
      "execution_count": 71,
      "outputs": [
        {
          "output_type": "execute_result",
          "data": {
            "text/plain": [
              "<matplotlib.axes._subplots.AxesSubplot at 0x7f1f8b8c8590>"
            ]
          },
          "metadata": {},
          "execution_count": 71
        },
        {
          "output_type": "display_data",
          "data": {
            "text/plain": [
              "<Figure size 720x864 with 1 Axes>"
            ],
            "image/png": "[encoded data removed]"
          },
          "metadata": {
            "needs_background": "light"
          }
        }
      ]
    },
    {
      "cell_type": "code",
      "source": [
        "xgb.cv(params,dtrain,num_boost_round=10,nfold=3,stratified=False,metrics=(),obj=None,feval=None,maximize=False,early_stopping_rounds=None,fpreproc=None,as_pandas=True,verbose_eval=None, show_stdv=True, seed=0, callbacks=None, shuffle=True)"
      ],
      "metadata": {
        "id": "vZ_2TAAqHDCz"
      },
      "execution_count": null,
      "outputs": []
    },
    {
      "cell_type": "code",
      "source": [
        "from sklearn.model_selection import GridSearchCV\n",
        "\n",
        "params={\n",
        "    'n_estimators' : [100,200,300,400],\n",
        "    'learning_rate' : [0.01,0.05,0.1,0.15],\n",
        "    'max_depth' : [4,6,8,10,12],\n",
        "    'min_child_weight' : [0.8,1,1.2],\n",
        "    'gamma' : [0,1,2,3],\n",
        "    'subsample':[0.8,1],\n",
        "    'colsample_bytree' : [0.8,0.9],\n",
        "}\n",
        "\n",
        "xgb_clf = XGBClassifier(random_state=156, n_jobs=-1)\n",
        "xgb_gridcv = GridSearchCV(xgb_clf, param_grid=params, cv=2, n_jobs=-1, verbose = 2)\n",
        "xgb_gridcv.fit(X_train, y_train, \n",
        "           early_stopping_rounds=40, eval_metric=\"auc\",\n",
        "           eval_set=[(X_train, y_train), (X_test, y_test)])\n",
        "print('GridSearchCV 최적 파라미터:\\n', xgb_gridcv.best_params_)\n",
        "print('최고 예측 정확도:{0:4f}'.format(xgb_gridcv.best_score_))"
      ],
      "metadata": {
        "colab": {
          "base_uri": "https://localhost:8080/"
        },
        "id": "8-wrXSsAF-Ey",
        "outputId": "01331365-6ee3-48b5-cb74-f8f32aacb255"
      },
      "execution_count": 77,
      "outputs": [
        {
          "output_type": "stream",
          "name": "stdout",
          "text": [
            "Fitting 2 folds for each of 3840 candidates, totalling 7680 fits\n",
            "[0]\tvalidation_0-auc:0.63964\tvalidation_1-auc:0.60119\n",
            "Multiple eval metrics have been passed: 'validation_1-auc' will be used for early stopping.\n",
            "\n",
            "Will train until validation_1-auc hasn't improved in 40 rounds.\n",
            "[1]\tvalidation_0-auc:0.833709\tvalidation_1-auc:0.779762\n",
            "[2]\tvalidation_0-auc:0.973724\tvalidation_1-auc:0.964286\n",
            "[3]\tvalidation_0-auc:0.978228\tvalidation_1-auc:0.964286\n",
            "[4]\tvalidation_0-auc:0.990616\tvalidation_1-auc:0.934524\n",
            "[5]\tvalidation_0-auc:0.998123\tvalidation_1-auc:0.928571\n",
            "[6]\tvalidation_0-auc:0.994369\tvalidation_1-auc:0.910714\n",
            "[7]\tvalidation_0-auc:0.996622\tvalidation_1-auc:0.946429\n",
            "[8]\tvalidation_0-auc:0.995495\tvalidation_1-auc:0.934524\n",
            "[9]\tvalidation_0-auc:0.996997\tvalidation_1-auc:0.964286\n",
            "[10]\tvalidation_0-auc:0.997372\tvalidation_1-auc:0.958333\n",
            "[11]\tvalidation_0-auc:0.995495\tvalidation_1-auc:0.958333\n",
            "[12]\tvalidation_0-auc:0.995495\tvalidation_1-auc:0.97619\n",
            "[13]\tvalidation_0-auc:0.995871\tvalidation_1-auc:0.952381\n",
            "[14]\tvalidation_0-auc:0.995871\tvalidation_1-auc:0.964286\n",
            "[15]\tvalidation_0-auc:0.996997\tvalidation_1-auc:0.964286\n",
            "[16]\tvalidation_0-auc:0.996622\tvalidation_1-auc:0.958333\n",
            "[17]\tvalidation_0-auc:0.996246\tvalidation_1-auc:0.952381\n",
            "[18]\tvalidation_0-auc:0.996246\tvalidation_1-auc:0.946429\n",
            "[19]\tvalidation_0-auc:0.996246\tvalidation_1-auc:0.952381\n",
            "[20]\tvalidation_0-auc:0.996246\tvalidation_1-auc:0.946429\n",
            "[21]\tvalidation_0-auc:0.996622\tvalidation_1-auc:0.952381\n",
            "[22]\tvalidation_0-auc:0.995871\tvalidation_1-auc:0.964286\n",
            "[23]\tvalidation_0-auc:0.996246\tvalidation_1-auc:0.958333\n",
            "[24]\tvalidation_0-auc:0.996622\tvalidation_1-auc:0.97619\n",
            "[25]\tvalidation_0-auc:0.996246\tvalidation_1-auc:0.97619\n",
            "[26]\tvalidation_0-auc:0.996246\tvalidation_1-auc:0.970238\n",
            "[27]\tvalidation_0-auc:0.996622\tvalidation_1-auc:0.958333\n",
            "[28]\tvalidation_0-auc:0.996622\tvalidation_1-auc:0.970238\n",
            "[29]\tvalidation_0-auc:0.996246\tvalidation_1-auc:0.97619\n",
            "[30]\tvalidation_0-auc:0.996622\tvalidation_1-auc:0.97619\n",
            "[31]\tvalidation_0-auc:0.995871\tvalidation_1-auc:0.97619\n",
            "[32]\tvalidation_0-auc:0.996622\tvalidation_1-auc:0.97619\n",
            "[33]\tvalidation_0-auc:0.996622\tvalidation_1-auc:0.97619\n",
            "[34]\tvalidation_0-auc:0.996622\tvalidation_1-auc:0.970238\n",
            "[35]\tvalidation_0-auc:0.996622\tvalidation_1-auc:0.982143\n",
            "[36]\tvalidation_0-auc:0.996997\tvalidation_1-auc:0.982143\n",
            "[37]\tvalidation_0-auc:0.996997\tvalidation_1-auc:0.982143\n",
            "[38]\tvalidation_0-auc:0.996997\tvalidation_1-auc:0.982143\n",
            "[39]\tvalidation_0-auc:0.996997\tvalidation_1-auc:0.970238\n",
            "[40]\tvalidation_0-auc:0.996997\tvalidation_1-auc:0.958333\n",
            "[41]\tvalidation_0-auc:0.996997\tvalidation_1-auc:0.958333\n",
            "[42]\tvalidation_0-auc:0.996997\tvalidation_1-auc:0.958333\n",
            "[43]\tvalidation_0-auc:0.996997\tvalidation_1-auc:0.964286\n",
            "[44]\tvalidation_0-auc:0.996997\tvalidation_1-auc:0.970238\n",
            "[45]\tvalidation_0-auc:0.996997\tvalidation_1-auc:0.970238\n",
            "[46]\tvalidation_0-auc:0.996997\tvalidation_1-auc:0.970238\n",
            "[47]\tvalidation_0-auc:0.996997\tvalidation_1-auc:0.964286\n",
            "[48]\tvalidation_0-auc:0.996997\tvalidation_1-auc:0.964286\n",
            "[49]\tvalidation_0-auc:0.996997\tvalidation_1-auc:0.964286\n",
            "[50]\tvalidation_0-auc:0.997372\tvalidation_1-auc:0.964286\n",
            "[51]\tvalidation_0-auc:0.997372\tvalidation_1-auc:0.964286\n",
            "[52]\tvalidation_0-auc:0.997372\tvalidation_1-auc:0.970238\n",
            "[53]\tvalidation_0-auc:0.997372\tvalidation_1-auc:0.97619\n",
            "[54]\tvalidation_0-auc:0.996997\tvalidation_1-auc:0.97619\n",
            "[55]\tvalidation_0-auc:0.996997\tvalidation_1-auc:0.97619\n",
            "[56]\tvalidation_0-auc:0.997372\tvalidation_1-auc:0.97619\n",
            "[57]\tvalidation_0-auc:0.997372\tvalidation_1-auc:0.982143\n",
            "[58]\tvalidation_0-auc:0.997372\tvalidation_1-auc:0.97619\n",
            "[59]\tvalidation_0-auc:0.998498\tvalidation_1-auc:0.97619\n",
            "[60]\tvalidation_0-auc:0.997748\tvalidation_1-auc:0.982143\n",
            "[61]\tvalidation_0-auc:0.998498\tvalidation_1-auc:0.988095\n",
            "[62]\tvalidation_0-auc:0.998874\tvalidation_1-auc:0.988095\n",
            "[63]\tvalidation_0-auc:0.998874\tvalidation_1-auc:0.988095\n",
            "[64]\tvalidation_0-auc:0.998874\tvalidation_1-auc:0.988095\n",
            "[65]\tvalidation_0-auc:0.998498\tvalidation_1-auc:0.988095\n",
            "[66]\tvalidation_0-auc:0.998498\tvalidation_1-auc:0.988095\n",
            "[67]\tvalidation_0-auc:0.998498\tvalidation_1-auc:0.982143\n",
            "[68]\tvalidation_0-auc:0.998123\tvalidation_1-auc:0.97619\n",
            "[69]\tvalidation_0-auc:0.997748\tvalidation_1-auc:0.97619\n",
            "[70]\tvalidation_0-auc:0.998123\tvalidation_1-auc:0.982143\n",
            "[71]\tvalidation_0-auc:0.997748\tvalidation_1-auc:0.982143\n",
            "[72]\tvalidation_0-auc:0.997748\tvalidation_1-auc:0.982143\n",
            "[73]\tvalidation_0-auc:0.997748\tvalidation_1-auc:0.97619\n",
            "[74]\tvalidation_0-auc:0.997748\tvalidation_1-auc:0.97619\n",
            "[75]\tvalidation_0-auc:0.997748\tvalidation_1-auc:0.97619\n",
            "[76]\tvalidation_0-auc:0.997748\tvalidation_1-auc:0.97619\n",
            "[77]\tvalidation_0-auc:0.997372\tvalidation_1-auc:0.982143\n",
            "[78]\tvalidation_0-auc:0.997372\tvalidation_1-auc:0.982143\n",
            "[79]\tvalidation_0-auc:0.997748\tvalidation_1-auc:0.982143\n",
            "[80]\tvalidation_0-auc:0.997748\tvalidation_1-auc:0.982143\n",
            "[81]\tvalidation_0-auc:0.997748\tvalidation_1-auc:0.982143\n",
            "[82]\tvalidation_0-auc:0.997748\tvalidation_1-auc:0.982143\n",
            "[83]\tvalidation_0-auc:0.998123\tvalidation_1-auc:0.982143\n",
            "[84]\tvalidation_0-auc:0.998123\tvalidation_1-auc:0.97619\n",
            "[85]\tvalidation_0-auc:0.997748\tvalidation_1-auc:0.97619\n",
            "[86]\tvalidation_0-auc:0.998123\tvalidation_1-auc:0.97619\n",
            "[87]\tvalidation_0-auc:0.998123\tvalidation_1-auc:0.97619\n",
            "[88]\tvalidation_0-auc:0.998498\tvalidation_1-auc:0.97619\n",
            "[89]\tvalidation_0-auc:0.998498\tvalidation_1-auc:0.97619\n",
            "[90]\tvalidation_0-auc:0.998498\tvalidation_1-auc:0.97619\n",
            "[91]\tvalidation_0-auc:0.998498\tvalidation_1-auc:0.97619\n",
            "[92]\tvalidation_0-auc:0.998498\tvalidation_1-auc:0.97619\n",
            "[93]\tvalidation_0-auc:0.998498\tvalidation_1-auc:0.97619\n",
            "[94]\tvalidation_0-auc:0.998498\tvalidation_1-auc:0.97619\n",
            "[95]\tvalidation_0-auc:0.998123\tvalidation_1-auc:0.97619\n",
            "[96]\tvalidation_0-auc:0.998123\tvalidation_1-auc:0.97619\n",
            "[97]\tvalidation_0-auc:0.997748\tvalidation_1-auc:0.97619\n",
            "[98]\tvalidation_0-auc:0.997748\tvalidation_1-auc:0.97619\n",
            "[99]\tvalidation_0-auc:0.998123\tvalidation_1-auc:0.97619\n",
            "GridSearchCV 최적 파라미터:\n",
            " {'colsample_bytree': 0.8, 'gamma': 0, 'learning_rate': 0.01, 'max_depth': 4, 'min_child_weight': 0.8, 'n_estimators': 100, 'subsample': 0.8}\n",
            "최고 예측 정확도:0.948718\n"
          ]
        }
      ]
    },
    {
      "cell_type": "markdown",
      "source": [
        "###**xgboost GridSearchCV 최적 파라미터**: {'eta(learning rate)': 0.01, 'num_round(n_estimators)': 100, 'max_depth': 4, 'min_child_weight': 0.8, 'gamma': 0, 'subsample': 0.8, 'colsample_bytree': 0.8}###"
      ],
      "metadata": {
        "id": "x6JOOeQiI2xl"
      }
    },
    {
      "cell_type": "code",
      "source": [
        "params={\n",
        "    'n_estimators' : 100,\n",
        "    'learning_rate' : 0.01,\n",
        "    'max_depth' : 4,\n",
        "    'min_child_weight' : 0.8,\n",
        "    'subsample':0.8,\n",
        "    'colsample_bytree' : 0.8,\n",
        "    'objective' : 'binary:logistic',\n",
        "    'eval_metric':'logloss',\n",
        "    #'early_stoppings':100\n",
        "}"
      ],
      "metadata": {
        "id": "xzMtxBBaSOdW"
      },
      "execution_count": 78,
      "outputs": []
    },
    {
      "cell_type": "code",
      "source": [
        "wlist=[(dtrain,'train'),(dtest,'eval')]\n",
        "xgb_model=xgb.train(params=params,dtrain=dtrain,evals=wlist)"
      ],
      "metadata": {
        "id": "a_bEH4IXSTPK"
      },
      "execution_count": null,
      "outputs": []
    },
    {
      "cell_type": "code",
      "source": [
        "pred_probs=xgb_model.predict(dtest)\n",
        "preds=[1 if x>0.5 else 0 for x in pred_probs]"
      ],
      "metadata": {
        "id": "aDY5CYaKSWOq"
      },
      "execution_count": 80,
      "outputs": []
    },
    {
      "cell_type": "code",
      "source": [
        "get_clf_eval(y_test,preds,pred_probs)"
      ],
      "metadata": {
        "colab": {
          "base_uri": "https://localhost:8080/"
        },
        "id": "u7SGwxAzSZhy",
        "outputId": "05c5c019-18f3-42ae-cedf-fb579f987316"
      },
      "execution_count": 81,
      "outputs": [
        {
          "output_type": "stream",
          "name": "stdout",
          "text": [
            "오차행렬\n",
            "[[ 0  3]\n",
            " [ 0 56]]\n",
            "정확도 : 0.9492, 정밀도 : 0.9492, 재현율:1.0000, F1 : 0.9739, AUC : 0.9643\n"
          ]
        }
      ]
    },
    {
      "cell_type": "markdown",
      "source": [
        "## (3) LightGBM"
      ],
      "metadata": {
        "id": "8ERpG3X2WIZX"
      }
    },
    {
      "cell_type": "code",
      "source": [
        "# LightGBM의 파이썬 패키지인 lightgbm에서 LGBMClassifier 임포트\n",
        "from lightgbm import LGBMClassifier\n",
        "from sklearn.model_selection import train_test_split\n",
        "import warnings\n",
        "warnings.filterwarnings('ignore')"
      ],
      "metadata": {
        "id": "ZLImDkSIcr9-"
      },
      "execution_count": null,
      "outputs": []
    },
    {
      "cell_type": "code",
      "source": [
        "# 앞서 XGBoost와 동일하게 n_estimators는 400설정\n",
        "lgbm_wrapper = LGBMClassifier(n_estimators=400)\n",
        "\n",
        "# LightGBM도 XGBoost와 동일하게 조기중단 수행가능\n",
        "evals = [(X_test, y_test)]\n",
        "lgbm_wrapper.fit(X_train, y_train,\n",
        "                 early_stopping_rounds=100, eval_metric=\"logloss\",\n",
        "                 eval_set=evals, verbose=True)\n",
        "preds = lgbm_wrapper.predict(X_test)\n",
        "pred_proba = lgbm_wrapper.predict_proba(X_test)[:, 1]"
      ],
      "metadata": {
        "id": "hIhelJgCg8cV"
      },
      "execution_count": null,
      "outputs": []
    },
    {
      "cell_type": "code",
      "source": [
        "get_clf_eval(y_test,preds,pred_proba)"
      ],
      "metadata": {
        "colab": {
          "base_uri": "https://localhost:8080/"
        },
        "id": "T3gBsSmHKatI",
        "outputId": "eee05555-1db5-402c-b527-2cc8e0413cf8"
      },
      "execution_count": null,
      "outputs": [
        {
          "output_type": "stream",
          "name": "stdout",
          "text": [
            "오차행렬\n",
            "[[ 0  3]\n",
            " [ 0 56]]\n",
            "정확도 : 0.9492, 정밀도 : 0.9492, 재현율:1.0000, F1 : 0.9739, AUC : 0.8333\n"
          ]
        }
      ]
    },
    {
      "cell_type": "code",
      "source": [
        "from lightgbm import LGBMClassifier\n",
        "from sklearn.model_selection import GridSearchCV\n",
        "\n",
        "# 하이퍼 파라미터 테스트의 수행속도를 향상시키기 위해 n_estimators를 200으로 감소\n",
        "lgbm_wrapper = LGBMClassifier(n_estimators=400)\n",
        "\n",
        "params = {\n",
        "    'num_leaves':[32,64],\n",
        "    'max_depth':[128, 160], \n",
        "    'min_child_samples':[60,100],\n",
        "    'subsample':[0.8,1]\n",
        "}\n",
        "\n",
        "# cv는 3으로 지정\n",
        "gridcv= GridSearchCV(lgbm_wrapper, param_grid=params, cv=3)\n",
        "gridcv.fit(X_train, y_train, \n",
        "           early_stopping_rounds=30, eval_metric=\"auc\",\n",
        "           eval_set=[(X_train, y_train), (X_test, y_test)])\n",
        "print('GridSearchCV 최적 파라미터:', gridcv.best_params_)\n",
        "lgbm_roc_score = roc_auc_score(y_test, gridcv.predict_proba(X_test)[:,1], average=\"macro\")\n",
        "print(\"ROC AUC : {0:.4f}\".format(lgbm_roc_score))"
      ],
      "metadata": {
        "id": "9fMLh7LGQhAQ"
      },
      "execution_count": null,
      "outputs": []
    },
    {
      "cell_type": "markdown",
      "source": [
        "light gbm GridSearchCV 최적 파라미터: {'max_depth': 128, 'min_child_samples': 60, 'num_leaves': 32, 'subsample': 0.8}"
      ],
      "metadata": {
        "id": "uFpj1UObQrog"
      }
    },
    {
      "cell_type": "code",
      "source": [
        "lgbm_clf = LGBMClassifier(n_estimators=400,max_depth= 128, min_child_samples=60, num_leaves= 32, subsample= 0.8)\n",
        "evals = [(X_test, y_test)]\n",
        "lgbm_clf.fit(X_train, y_train,\n",
        "             early_stopping_rounds=100, eval_metric=\"auc\", eval_set=evals, verbose=True)\n",
        "lgbm_roc_score = roc_auc_score(y_test, lgbm_clf.predict_proba(X_test)[:,1], average=\"macro\")\n",
        "print(\"ROC AUC: {0:.4f}\".format(lgbm_roc_score))"
      ],
      "metadata": {
        "colab": {
          "base_uri": "https://localhost:8080/"
        },
        "id": "sHN4snA4RWGp",
        "outputId": "17e38ed2-6172-465e-a50a-92ae5336c529"
      },
      "execution_count": null,
      "outputs": [
        {
          "output_type": "stream",
          "name": "stdout",
          "text": [
            "[1]\tvalid_0's auc: 0.469298\tvalid_0's binary_logloss: 0.153974\n",
            "Training until validation scores don't improve for 100 rounds.\n",
            "[2]\tvalid_0's auc: 0.714912\tvalid_0's binary_logloss: 0.153577\n",
            "[3]\tvalid_0's auc: 0.377193\tvalid_0's binary_logloss: 0.156645\n",
            "[4]\tvalid_0's auc: 0.377193\tvalid_0's binary_logloss: 0.15749\n",
            "[5]\tvalid_0's auc: 0.359649\tvalid_0's binary_logloss: 0.159161\n",
            "[6]\tvalid_0's auc: 0.438596\tvalid_0's binary_logloss: 0.158552\n",
            "[7]\tvalid_0's auc: 0.394737\tvalid_0's binary_logloss: 0.161554\n",
            "[8]\tvalid_0's auc: 0.372807\tvalid_0's binary_logloss: 0.162307\n",
            "[9]\tvalid_0's auc: 0.381579\tvalid_0's binary_logloss: 0.162015\n",
            "[10]\tvalid_0's auc: 0.390351\tvalid_0's binary_logloss: 0.164492\n",
            "[11]\tvalid_0's auc: 0.390351\tvalid_0's binary_logloss: 0.165517\n",
            "[12]\tvalid_0's auc: 0.416667\tvalid_0's binary_logloss: 0.165942\n",
            "[13]\tvalid_0's auc: 0.495614\tvalid_0's binary_logloss: 0.163751\n",
            "[14]\tvalid_0's auc: 0.434211\tvalid_0's binary_logloss: 0.165714\n",
            "[15]\tvalid_0's auc: 0.508772\tvalid_0's binary_logloss: 0.164469\n",
            "[16]\tvalid_0's auc: 0.482456\tvalid_0's binary_logloss: 0.165629\n",
            "[17]\tvalid_0's auc: 0.482456\tvalid_0's binary_logloss: 0.166525\n",
            "[18]\tvalid_0's auc: 0.517544\tvalid_0's binary_logloss: 0.167282\n",
            "[19]\tvalid_0's auc: 0.54386\tvalid_0's binary_logloss: 0.165552\n",
            "[20]\tvalid_0's auc: 0.570175\tvalid_0's binary_logloss: 0.165686\n",
            "[21]\tvalid_0's auc: 0.578947\tvalid_0's binary_logloss: 0.166353\n",
            "[22]\tvalid_0's auc: 0.596491\tvalid_0's binary_logloss: 0.166237\n",
            "[23]\tvalid_0's auc: 0.587719\tvalid_0's binary_logloss: 0.165926\n",
            "[24]\tvalid_0's auc: 0.570175\tvalid_0's binary_logloss: 0.168411\n",
            "[25]\tvalid_0's auc: 0.570175\tvalid_0's binary_logloss: 0.167928\n",
            "[26]\tvalid_0's auc: 0.614035\tvalid_0's binary_logloss: 0.166734\n",
            "[27]\tvalid_0's auc: 0.596491\tvalid_0's binary_logloss: 0.168364\n",
            "[28]\tvalid_0's auc: 0.614035\tvalid_0's binary_logloss: 0.168515\n",
            "[29]\tvalid_0's auc: 0.622807\tvalid_0's binary_logloss: 0.168839\n",
            "[30]\tvalid_0's auc: 0.605263\tvalid_0's binary_logloss: 0.169545\n",
            "[31]\tvalid_0's auc: 0.596491\tvalid_0's binary_logloss: 0.172037\n",
            "[32]\tvalid_0's auc: 0.570175\tvalid_0's binary_logloss: 0.171892\n",
            "[33]\tvalid_0's auc: 0.596491\tvalid_0's binary_logloss: 0.171625\n",
            "[34]\tvalid_0's auc: 0.605263\tvalid_0's binary_logloss: 0.170377\n",
            "[35]\tvalid_0's auc: 0.605263\tvalid_0's binary_logloss: 0.170765\n",
            "[36]\tvalid_0's auc: 0.605263\tvalid_0's binary_logloss: 0.171338\n",
            "[37]\tvalid_0's auc: 0.614035\tvalid_0's binary_logloss: 0.170652\n",
            "[38]\tvalid_0's auc: 0.631579\tvalid_0's binary_logloss: 0.170461\n",
            "[39]\tvalid_0's auc: 0.640351\tvalid_0's binary_logloss: 0.170367\n",
            "[40]\tvalid_0's auc: 0.596491\tvalid_0's binary_logloss: 0.17348\n",
            "[41]\tvalid_0's auc: 0.631579\tvalid_0's binary_logloss: 0.174036\n",
            "[42]\tvalid_0's auc: 0.614035\tvalid_0's binary_logloss: 0.174578\n",
            "[43]\tvalid_0's auc: 0.614035\tvalid_0's binary_logloss: 0.174637\n",
            "[44]\tvalid_0's auc: 0.605263\tvalid_0's binary_logloss: 0.174667\n",
            "[45]\tvalid_0's auc: 0.640351\tvalid_0's binary_logloss: 0.17415\n",
            "[46]\tvalid_0's auc: 0.614035\tvalid_0's binary_logloss: 0.176615\n",
            "[47]\tvalid_0's auc: 0.605263\tvalid_0's binary_logloss: 0.17685\n",
            "[48]\tvalid_0's auc: 0.578947\tvalid_0's binary_logloss: 0.178308\n",
            "[49]\tvalid_0's auc: 0.596491\tvalid_0's binary_logloss: 0.177361\n",
            "[50]\tvalid_0's auc: 0.640351\tvalid_0's binary_logloss: 0.177312\n",
            "[51]\tvalid_0's auc: 0.596491\tvalid_0's binary_logloss: 0.178947\n",
            "[52]\tvalid_0's auc: 0.587719\tvalid_0's binary_logloss: 0.18164\n",
            "[53]\tvalid_0's auc: 0.578947\tvalid_0's binary_logloss: 0.184109\n",
            "[54]\tvalid_0's auc: 0.587719\tvalid_0's binary_logloss: 0.184984\n",
            "[55]\tvalid_0's auc: 0.605263\tvalid_0's binary_logloss: 0.184587\n",
            "[56]\tvalid_0's auc: 0.622807\tvalid_0's binary_logloss: 0.184411\n",
            "[57]\tvalid_0's auc: 0.622807\tvalid_0's binary_logloss: 0.18468\n",
            "[58]\tvalid_0's auc: 0.587719\tvalid_0's binary_logloss: 0.185005\n",
            "[59]\tvalid_0's auc: 0.605263\tvalid_0's binary_logloss: 0.186555\n",
            "[60]\tvalid_0's auc: 0.631579\tvalid_0's binary_logloss: 0.186224\n",
            "[61]\tvalid_0's auc: 0.622807\tvalid_0's binary_logloss: 0.186882\n",
            "[62]\tvalid_0's auc: 0.640351\tvalid_0's binary_logloss: 0.186311\n",
            "[63]\tvalid_0's auc: 0.666667\tvalid_0's binary_logloss: 0.187182\n",
            "[64]\tvalid_0's auc: 0.666667\tvalid_0's binary_logloss: 0.187708\n",
            "[65]\tvalid_0's auc: 0.657895\tvalid_0's binary_logloss: 0.18763\n",
            "[66]\tvalid_0's auc: 0.666667\tvalid_0's binary_logloss: 0.187339\n",
            "[67]\tvalid_0's auc: 0.675439\tvalid_0's binary_logloss: 0.187501\n",
            "[68]\tvalid_0's auc: 0.675439\tvalid_0's binary_logloss: 0.189953\n",
            "[69]\tvalid_0's auc: 0.666667\tvalid_0's binary_logloss: 0.190419\n",
            "[70]\tvalid_0's auc: 0.666667\tvalid_0's binary_logloss: 0.191021\n",
            "[71]\tvalid_0's auc: 0.657895\tvalid_0's binary_logloss: 0.191343\n",
            "[72]\tvalid_0's auc: 0.675439\tvalid_0's binary_logloss: 0.192097\n",
            "[73]\tvalid_0's auc: 0.684211\tvalid_0's binary_logloss: 0.19214\n",
            "[74]\tvalid_0's auc: 0.675439\tvalid_0's binary_logloss: 0.194707\n",
            "[75]\tvalid_0's auc: 0.684211\tvalid_0's binary_logloss: 0.195797\n",
            "[76]\tvalid_0's auc: 0.675439\tvalid_0's binary_logloss: 0.196393\n",
            "[77]\tvalid_0's auc: 0.666667\tvalid_0's binary_logloss: 0.196901\n",
            "[78]\tvalid_0's auc: 0.666667\tvalid_0's binary_logloss: 0.198995\n",
            "[79]\tvalid_0's auc: 0.666667\tvalid_0's binary_logloss: 0.200785\n",
            "[80]\tvalid_0's auc: 0.666667\tvalid_0's binary_logloss: 0.203273\n",
            "[81]\tvalid_0's auc: 0.666667\tvalid_0's binary_logloss: 0.203422\n",
            "[82]\tvalid_0's auc: 0.675439\tvalid_0's binary_logloss: 0.20217\n",
            "[83]\tvalid_0's auc: 0.675439\tvalid_0's binary_logloss: 0.204124\n",
            "[84]\tvalid_0's auc: 0.675439\tvalid_0's binary_logloss: 0.205221\n",
            "[85]\tvalid_0's auc: 0.675439\tvalid_0's binary_logloss: 0.205615\n",
            "[86]\tvalid_0's auc: 0.666667\tvalid_0's binary_logloss: 0.206111\n",
            "[87]\tvalid_0's auc: 0.666667\tvalid_0's binary_logloss: 0.208662\n",
            "[88]\tvalid_0's auc: 0.675439\tvalid_0's binary_logloss: 0.210667\n",
            "[89]\tvalid_0's auc: 0.684211\tvalid_0's binary_logloss: 0.210882\n",
            "[90]\tvalid_0's auc: 0.666667\tvalid_0's binary_logloss: 0.213729\n",
            "[91]\tvalid_0's auc: 0.675439\tvalid_0's binary_logloss: 0.214864\n",
            "[92]\tvalid_0's auc: 0.684211\tvalid_0's binary_logloss: 0.215435\n",
            "[93]\tvalid_0's auc: 0.666667\tvalid_0's binary_logloss: 0.217667\n",
            "[94]\tvalid_0's auc: 0.657895\tvalid_0's binary_logloss: 0.219003\n",
            "[95]\tvalid_0's auc: 0.666667\tvalid_0's binary_logloss: 0.218797\n",
            "[96]\tvalid_0's auc: 0.666667\tvalid_0's binary_logloss: 0.220074\n",
            "[97]\tvalid_0's auc: 0.666667\tvalid_0's binary_logloss: 0.220045\n",
            "[98]\tvalid_0's auc: 0.666667\tvalid_0's binary_logloss: 0.220346\n",
            "[99]\tvalid_0's auc: 0.657895\tvalid_0's binary_logloss: 0.220889\n",
            "[100]\tvalid_0's auc: 0.675439\tvalid_0's binary_logloss: 0.22094\n",
            "[101]\tvalid_0's auc: 0.666667\tvalid_0's binary_logloss: 0.222435\n",
            "[102]\tvalid_0's auc: 0.666667\tvalid_0's binary_logloss: 0.224711\n",
            "Early stopping, best iteration is:\n",
            "[2]\tvalid_0's auc: 0.714912\tvalid_0's binary_logloss: 0.153577\n",
            "ROC AUC: 0.7149\n"
          ]
        }
      ]
    },
    {
      "cell_type": "code",
      "source": [
        "preds = lgbm_clf.predict(X_test)\n",
        "pred_proba = lgbm_clf.predict_proba(X_test)[:, 1]"
      ],
      "metadata": {
        "id": "ps2pggohSIkV"
      },
      "execution_count": null,
      "outputs": []
    },
    {
      "cell_type": "code",
      "source": [
        "get_clf_eval(y_test,preds,pred_proba)"
      ],
      "metadata": {
        "colab": {
          "base_uri": "https://localhost:8080/"
        },
        "id": "81mIUPfLSWPo",
        "outputId": "0e638d19-fb2f-4cdc-d2e8-a3ceec8acb3c"
      },
      "execution_count": null,
      "outputs": [
        {
          "output_type": "stream",
          "name": "stdout",
          "text": [
            "오차행렬\n",
            "[[ 0  2]\n",
            " [ 0 57]]\n",
            "정확도 : 0.9661, 정밀도 : 0.9661, 재현율:1.0000, F1 : 0.9828, AUC : 0.7149\n"
          ]
        }
      ]
    },
    {
      "cell_type": "code",
      "source": [
        "from lightgbm import plot_importance\n",
        "import matplotlib.pyplot as plt\n",
        "%matplotlib inline\n",
        "\n",
        "fig,ax = plt.subplots(figsize=(10,12))\n",
        "plot_importance(lgbm_wrapper,ax=ax)"
      ],
      "metadata": {
        "colab": {
          "base_uri": "https://localhost:8080/",
          "height": 748
        },
        "id": "czAA1PNRK87X",
        "outputId": "e057b1c8-d860-4b92-d9e4-0901c0be699d"
      },
      "execution_count": null,
      "outputs": [
        {
          "output_type": "execute_result",
          "data": {
            "text/plain": [
              "<matplotlib.axes._subplots.AxesSubplot at 0x7f4003d02fd0>"
            ]
          },
          "metadata": {},
          "execution_count": 114
        },
        {
          "output_type": "display_data",
          "data": {
            "text/plain": [
              "<Figure size 720x864 with 1 Axes>"
            ],
            "image/png": "[encoded data removed]"
          },
          "metadata": {
            "needs_background": "light"
          }
        }
      ]
    },
    {
      "cell_type": "code",
      "source": [
        "from lightgbm import LGBMClassifier\n",
        "from sklearn.model_selection import GridSearchCV\n",
        "\n",
        "# cv는 3으로 지정\n",
        "gridcv= GridSearchCV(lgbm_wrapper, param_grid=params, cv=3)\n",
        "gridcv.fit(X_train, y_train, \n",
        "           early_stopping_rounds=30, eval_metric=\"auc\",\n",
        "           eval_set=[(X_train, y_train), (X_test, y_test)])\n",
        "print('GridSearchCV 최적 파라미터:', gridcv.best_params_)\n",
        "lgbm_roc_score = roc_auc_score(y_test, gridcv.predict_proba(X_test)[:,1], average=\"macro\")\n",
        "print(\"ROC AUC : {0:.4f}\".format(lgbm_roc_score))"
      ],
      "metadata": {
        "colab": {
          "base_uri": "https://localhost:8080/",
          "height": 400
        },
        "id": "UpQEnad7NwCC",
        "outputId": "51e822bc-a7c7-4d14-c6f4-5c846b10740a"
      },
      "execution_count": null,
      "outputs": [
        {
          "output_type": "error",
          "ename": "ValueError",
          "evalue": "ignored",
          "traceback": [
            "\u001b[0;31m---------------------------------------------------------------------------\u001b[0m",
            "\u001b[0;31mValueError\u001b[0m                                Traceback (most recent call last)",
            "\u001b[0;32m<ipython-input-133-a41a3ec1ee6f>\u001b[0m in \u001b[0;36m<module>\u001b[0;34m\u001b[0m\n\u001b[1;32m      3\u001b[0m \u001b[0;34m\u001b[0m\u001b[0m\n\u001b[1;32m      4\u001b[0m \u001b[0;31m# cv는 3으로 지정\u001b[0m\u001b[0;34m\u001b[0m\u001b[0;34m\u001b[0m\u001b[0;34m\u001b[0m\u001b[0m\n\u001b[0;32m----> 5\u001b[0;31m \u001b[0mgridcv\u001b[0m\u001b[0;34m=\u001b[0m \u001b[0mGridSearchCV\u001b[0m\u001b[0;34m(\u001b[0m\u001b[0mlgbm_wrapper\u001b[0m\u001b[0;34m,\u001b[0m \u001b[0mparam_grid\u001b[0m\u001b[0;34m=\u001b[0m\u001b[0mparams\u001b[0m\u001b[0;34m,\u001b[0m \u001b[0mcv\u001b[0m\u001b[0;34m=\u001b[0m\u001b[0;36m3\u001b[0m\u001b[0;34m)\u001b[0m\u001b[0;34m\u001b[0m\u001b[0;34m\u001b[0m\u001b[0m\n\u001b[0m\u001b[1;32m      6\u001b[0m gridcv.fit(X_train, y_train, \n\u001b[1;32m      7\u001b[0m            \u001b[0mearly_stopping_rounds\u001b[0m\u001b[0;34m=\u001b[0m\u001b[0;36m30\u001b[0m\u001b[0;34m,\u001b[0m \u001b[0meval_metric\u001b[0m\u001b[0;34m=\u001b[0m\u001b[0;34m\"auc\"\u001b[0m\u001b[0;34m,\u001b[0m\u001b[0;34m\u001b[0m\u001b[0;34m\u001b[0m\u001b[0m\n",
            "\u001b[0;32m/usr/local/lib/python3.7/dist-packages/sklearn/model_selection/_search.py\u001b[0m in \u001b[0;36m__init__\u001b[0;34m(self, estimator, param_grid, scoring, n_jobs, refit, cv, verbose, pre_dispatch, error_score, return_train_score)\u001b[0m\n\u001b[1;32m   1386\u001b[0m         )\n\u001b[1;32m   1387\u001b[0m         \u001b[0mself\u001b[0m\u001b[0;34m.\u001b[0m\u001b[0mparam_grid\u001b[0m \u001b[0;34m=\u001b[0m \u001b[0mparam_grid\u001b[0m\u001b[0;34m\u001b[0m\u001b[0;34m\u001b[0m\u001b[0m\n\u001b[0;32m-> 1388\u001b[0;31m         \u001b[0m_check_param_grid\u001b[0m\u001b[0;34m(\u001b[0m\u001b[0mparam_grid\u001b[0m\u001b[0;34m)\u001b[0m\u001b[0;34m\u001b[0m\u001b[0;34m\u001b[0m\u001b[0m\n\u001b[0m\u001b[1;32m   1389\u001b[0m \u001b[0;34m\u001b[0m\u001b[0m\n\u001b[1;32m   1390\u001b[0m     \u001b[0;32mdef\u001b[0m \u001b[0m_run_search\u001b[0m\u001b[0;34m(\u001b[0m\u001b[0mself\u001b[0m\u001b[0;34m,\u001b[0m \u001b[0mevaluate_candidates\u001b[0m\u001b[0;34m)\u001b[0m\u001b[0;34m:\u001b[0m\u001b[0;34m\u001b[0m\u001b[0;34m\u001b[0m\u001b[0m\n",
            "\u001b[0;32m/usr/local/lib/python3.7/dist-packages/sklearn/model_selection/_search.py\u001b[0m in \u001b[0;36m_check_param_grid\u001b[0;34m(param_grid)\u001b[0m\n\u001b[1;32m    336\u001b[0m                     \u001b[0;34m\" be a list or numpy array, but got ({1}).\"\u001b[0m\u001b[0;34m\u001b[0m\u001b[0;34m\u001b[0m\u001b[0m\n\u001b[1;32m    337\u001b[0m                     \u001b[0;34m\" Single values need to be wrapped in a list\"\u001b[0m\u001b[0;34m\u001b[0m\u001b[0;34m\u001b[0m\u001b[0m\n\u001b[0;32m--> 338\u001b[0;31m                     \u001b[0;34m\" with one element.\"\u001b[0m\u001b[0;34m.\u001b[0m\u001b[0mformat\u001b[0m\u001b[0;34m(\u001b[0m\u001b[0mname\u001b[0m\u001b[0;34m,\u001b[0m \u001b[0mtype\u001b[0m\u001b[0;34m(\u001b[0m\u001b[0mv\u001b[0m\u001b[0;34m)\u001b[0m\u001b[0;34m)\u001b[0m\u001b[0;34m\u001b[0m\u001b[0;34m\u001b[0m\u001b[0m\n\u001b[0m\u001b[1;32m    339\u001b[0m                 )\n\u001b[1;32m    340\u001b[0m \u001b[0;34m\u001b[0m\u001b[0m\n",
            "\u001b[0;31mValueError\u001b[0m: Parameter grid for parameter (max_depth) needs to be a list or numpy array, but got (<class 'int'>). Single values need to be wrapped in a list with one element."
          ]
        }
      ]
    }
  ]
}